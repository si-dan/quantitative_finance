{
 "cells": [
  {
   "cell_type": "markdown",
   "metadata": {},
   "source": [
    "### Author : Si Dan HO"
   ]
  },
  {
   "cell_type": "markdown",
   "metadata": {},
   "source": [
    "# Statistique des risques extrêmes"
   ]
  },
  {
   "cell_type": "code",
   "execution_count": 291,
   "metadata": {},
   "outputs": [],
   "source": [
    "import pandas as pd\n",
    "import numpy as np\n",
    "import scipy.stats as sps\n",
    "from scipy.stats import skew, kurtosis, kurtosistest\n",
    "import scipy as sp\n",
    "import matplotlib.pyplot as plt\n",
    "%matplotlib inline\n",
    "import os\n",
    "import statsmodels.api as sm \n",
    "import pylab as py\n",
    "from tabulate import tabulate\n",
    "import seaborn"
   ]
  },
  {
   "cell_type": "markdown",
   "metadata": {},
   "source": [
    "NB : l'ensemble des Value at Risk calculés sont en réalité les pertes en terme de rendements de l'indice du CAC40. Pour calculer la vrai Value at Risk, il convient de multiplier les quantités calculés dans le projet par la valeur actuelle de l'indice du CAC40."
   ]
  },
  {
   "cell_type": "markdown",
   "metadata": {},
   "source": [
    "## Sommaire "
   ]
  },
  {
   "cell_type": "markdown",
   "metadata": {},
   "source": [
    "- Value at Risk : Fondement et modélisation\n",
    "    - Traitements préliminaires et visualisation\n",
    "    - Value at Risk Historique\n",
    "    - Value at Risk Glissante\n",
    "    - VaR Paramétriques\n",
    "        - Implémentation de la fonction d'estimation par maximum de vraisemblance\n",
    "        - VaR Gaussienne\n",
    "        - VaR Skew Gaussienne\n",
    "        - VaR Skew Student\n",
    "        - Validation ex post\n",
    "- Value at Risk par modélisation des extrêmes\n",
    "    - Modélisation par maxima par blocs\n",
    "        - Construction de l'échantillon des maximas et estimation de la loi adaptée\n",
    "        - Estimation des paramètres de la distribution GEV\n",
    "        - Test de l'adéquation de la distribution estimée sur les données maxima\n",
    "        - Estimation de la VaR par la méthode des Blocs Maximas (BM)\n",
    "        - Validation ex post\n",
    "    - Modélisation : Méthode Peak Over Threshold\n",
    "        - Capture des rendements en excès par rapport au seuil u\n",
    "        - Détermination du seuil optimal u\n",
    "        - Estimation du maximum de vraisemblance puis par la méthode des moments\n",
    "        - Validation ex ante\n",
    "        - Test statistique d'adéquation\n",
    "        - Redressement du niveau de quantile\n",
    "        - Calcul de la VaR à partir de la méthode Peak Over Threshold\n",
    "        - Validation Ex Post\n",
    "- Calcul de la VaR dynamique\n",
    "    - Etude de la série temporelle\n",
    "        - Statistiques descriptives\n",
    "        - Etude de la stationarité et de la présence d'autocorrelation dans la série\n",
    "        - Modélisation d'un AR(1) sur la série\n",
    "        - Détection d'effet ARCH sur les résidus du modèle AR\n",
    "        - Modélisation d'un GARCH(1,1) sur les résidus du modèle AR\n",
    "            - Diagnostic du modèle\n",
    "        - Calcul de la VaR dynamique sur les résidus du modèle AR-GARCH\n",
    "        - Backtesting de la VaR dynamique"
   ]
  },
  {
   "cell_type": "markdown",
   "metadata": {},
   "source": [
    "## Value at Risk : Fondements et modélisation"
   ]
  },
  {
   "cell_type": "markdown",
   "metadata": {},
   "source": [
    "### Traitements préliminaires et visualisation"
   ]
  },
  {
   "cell_type": "markdown",
   "metadata": {},
   "source": [
    "#### Import et visualisation de l'indice CAC40"
   ]
  },
  {
   "cell_type": "code",
   "execution_count": 532,
   "metadata": {},
   "outputs": [],
   "source": [
    "abs_path = \"C:\\\\Users\\Si Dan\\Documents\\Statistiques de risques extrêmes\"\n",
    "file_path = os.path.join(abs_path, \"CAC40.csv\")"
   ]
  },
  {
   "cell_type": "code",
   "execution_count": 533,
   "metadata": {},
   "outputs": [],
   "source": [
    "pd_df = pd.read_csv(file_path, engine = 'python', index_col='Date')"
   ]
  },
  {
   "cell_type": "code",
   "execution_count": 534,
   "metadata": {},
   "outputs": [
    {
     "data": {
      "text/html": [
       "<div>\n",
       "<style scoped>\n",
       "    .dataframe tbody tr th:only-of-type {\n",
       "        vertical-align: middle;\n",
       "    }\n",
       "\n",
       "    .dataframe tbody tr th {\n",
       "        vertical-align: top;\n",
       "    }\n",
       "\n",
       "    .dataframe thead th {\n",
       "        text-align: right;\n",
       "    }\n",
       "</style>\n",
       "<table border=\"1\" class=\"dataframe\">\n",
       "  <thead>\n",
       "    <tr style=\"text-align: right;\">\n",
       "      <th></th>\n",
       "      <th>Open</th>\n",
       "      <th>High</th>\n",
       "      <th>Low</th>\n",
       "      <th>Close</th>\n",
       "      <th>Adj Close</th>\n",
       "      <th>Volume</th>\n",
       "    </tr>\n",
       "    <tr>\n",
       "      <th>Date</th>\n",
       "      <th></th>\n",
       "      <th></th>\n",
       "      <th></th>\n",
       "      <th></th>\n",
       "      <th></th>\n",
       "      <th></th>\n",
       "    </tr>\n",
       "  </thead>\n",
       "  <tbody>\n",
       "    <tr>\n",
       "      <td>2020-02-07</td>\n",
       "      <td>6027.540039</td>\n",
       "      <td>6044.970215</td>\n",
       "      <td>5999.950195</td>\n",
       "      <td>6029.750000</td>\n",
       "      <td>6029.750000</td>\n",
       "      <td>82348500.0</td>\n",
       "    </tr>\n",
       "    <tr>\n",
       "      <td>2020-02-10</td>\n",
       "      <td>6008.479980</td>\n",
       "      <td>6018.310059</td>\n",
       "      <td>5993.910156</td>\n",
       "      <td>6015.669922</td>\n",
       "      <td>6015.669922</td>\n",
       "      <td>65703100.0</td>\n",
       "    </tr>\n",
       "    <tr>\n",
       "      <td>2020-02-11</td>\n",
       "      <td>6047.959961</td>\n",
       "      <td>6060.970215</td>\n",
       "      <td>6032.790039</td>\n",
       "      <td>6054.759766</td>\n",
       "      <td>6054.759766</td>\n",
       "      <td>81568400.0</td>\n",
       "    </tr>\n",
       "    <tr>\n",
       "      <td>2020-02-12</td>\n",
       "      <td>6064.250000</td>\n",
       "      <td>6104.729980</td>\n",
       "      <td>6062.970215</td>\n",
       "      <td>6104.729980</td>\n",
       "      <td>6104.729980</td>\n",
       "      <td>92681200.0</td>\n",
       "    </tr>\n",
       "    <tr>\n",
       "      <td>2020-02-13</td>\n",
       "      <td>6076.919922</td>\n",
       "      <td>6098.259766</td>\n",
       "      <td>6028.279785</td>\n",
       "      <td>6093.140137</td>\n",
       "      <td>6093.140137</td>\n",
       "      <td>92665700.0</td>\n",
       "    </tr>\n",
       "  </tbody>\n",
       "</table>\n",
       "</div>"
      ],
      "text/plain": [
       "                   Open         High          Low        Close    Adj Close  \\\n",
       "Date                                                                          \n",
       "2020-02-07  6027.540039  6044.970215  5999.950195  6029.750000  6029.750000   \n",
       "2020-02-10  6008.479980  6018.310059  5993.910156  6015.669922  6015.669922   \n",
       "2020-02-11  6047.959961  6060.970215  6032.790039  6054.759766  6054.759766   \n",
       "2020-02-12  6064.250000  6104.729980  6062.970215  6104.729980  6104.729980   \n",
       "2020-02-13  6076.919922  6098.259766  6028.279785  6093.140137  6093.140137   \n",
       "\n",
       "                Volume  \n",
       "Date                    \n",
       "2020-02-07  82348500.0  \n",
       "2020-02-10  65703100.0  \n",
       "2020-02-11  81568400.0  \n",
       "2020-02-12  92681200.0  \n",
       "2020-02-13  92665700.0  "
      ]
     },
     "execution_count": 534,
     "metadata": {},
     "output_type": "execute_result"
    }
   ],
   "source": [
    "pd_df.tail()"
   ]
  },
  {
   "cell_type": "code",
   "execution_count": 535,
   "metadata": {},
   "outputs": [
    {
     "data": {
      "text/plain": [
       "<matplotlib.axes._subplots.AxesSubplot at 0x208489f5048>"
      ]
     },
     "execution_count": 535,
     "metadata": {},
     "output_type": "execute_result"
    },
    {
     "data": {
      "image/png": "[encoded data removed]",
      "text/plain": [
       "<Figure size 1296x576 with 1 Axes>"
      ]
     },
     "metadata": {
      "needs_background": "light"
     },
     "output_type": "display_data"
    }
   ],
   "source": [
    "pd_df[\"Close\"].plot(figsize = (18,8))"
   ]
  },
  {
   "cell_type": "code",
   "execution_count": 536,
   "metadata": {},
   "outputs": [
    {
     "data": {
      "text/html": [
       "<div>\n",
       "<style scoped>\n",
       "    .dataframe tbody tr th:only-of-type {\n",
       "        vertical-align: middle;\n",
       "    }\n",
       "\n",
       "    .dataframe tbody tr th {\n",
       "        vertical-align: top;\n",
       "    }\n",
       "\n",
       "    .dataframe thead th {\n",
       "        text-align: right;\n",
       "    }\n",
       "</style>\n",
       "<table border=\"1\" class=\"dataframe\">\n",
       "  <thead>\n",
       "    <tr style=\"text-align: right;\">\n",
       "      <th></th>\n",
       "      <th>Open</th>\n",
       "      <th>High</th>\n",
       "      <th>Low</th>\n",
       "      <th>Close</th>\n",
       "      <th>Adj Close</th>\n",
       "      <th>Volume</th>\n",
       "    </tr>\n",
       "  </thead>\n",
       "  <tbody>\n",
       "    <tr>\n",
       "      <td>count</td>\n",
       "      <td>5139.000000</td>\n",
       "      <td>5139.000000</td>\n",
       "      <td>5139.000000</td>\n",
       "      <td>5139.000000</td>\n",
       "      <td>5139.000000</td>\n",
       "      <td>5.139000e+03</td>\n",
       "    </tr>\n",
       "    <tr>\n",
       "      <td>mean</td>\n",
       "      <td>4448.976133</td>\n",
       "      <td>4479.936044</td>\n",
       "      <td>4414.215031</td>\n",
       "      <td>4447.706891</td>\n",
       "      <td>4447.706891</td>\n",
       "      <td>9.251231e+07</td>\n",
       "    </tr>\n",
       "    <tr>\n",
       "      <td>std</td>\n",
       "      <td>928.603490</td>\n",
       "      <td>929.731481</td>\n",
       "      <td>927.512416</td>\n",
       "      <td>928.559125</td>\n",
       "      <td>928.559125</td>\n",
       "      <td>6.714357e+07</td>\n",
       "    </tr>\n",
       "    <tr>\n",
       "      <td>min</td>\n",
       "      <td>2453.050049</td>\n",
       "      <td>2518.290039</td>\n",
       "      <td>2401.149902</td>\n",
       "      <td>2403.040039</td>\n",
       "      <td>2403.040039</td>\n",
       "      <td>0.000000e+00</td>\n",
       "    </tr>\n",
       "    <tr>\n",
       "      <td>25%</td>\n",
       "      <td>3708.719971</td>\n",
       "      <td>3732.639892</td>\n",
       "      <td>3682.780029</td>\n",
       "      <td>3708.140014</td>\n",
       "      <td>3708.140014</td>\n",
       "      <td>4.721810e+07</td>\n",
       "    </tr>\n",
       "    <tr>\n",
       "      <td>50%</td>\n",
       "      <td>4402.790039</td>\n",
       "      <td>4431.700195</td>\n",
       "      <td>4369.209961</td>\n",
       "      <td>4400.750000</td>\n",
       "      <td>4400.750000</td>\n",
       "      <td>9.712460e+07</td>\n",
       "    </tr>\n",
       "    <tr>\n",
       "      <td>75%</td>\n",
       "      <td>5200.160156</td>\n",
       "      <td>5226.899902</td>\n",
       "      <td>5160.569824</td>\n",
       "      <td>5195.835205</td>\n",
       "      <td>5195.835205</td>\n",
       "      <td>1.328184e+08</td>\n",
       "    </tr>\n",
       "    <tr>\n",
       "      <td>max</td>\n",
       "      <td>6929.049805</td>\n",
       "      <td>6944.770020</td>\n",
       "      <td>6838.700195</td>\n",
       "      <td>6922.330078</td>\n",
       "      <td>6922.330078</td>\n",
       "      <td>5.312476e+08</td>\n",
       "    </tr>\n",
       "  </tbody>\n",
       "</table>\n",
       "</div>"
      ],
      "text/plain": [
       "              Open         High          Low        Close    Adj Close  \\\n",
       "count  5139.000000  5139.000000  5139.000000  5139.000000  5139.000000   \n",
       "mean   4448.976133  4479.936044  4414.215031  4447.706891  4447.706891   \n",
       "std     928.603490   929.731481   927.512416   928.559125   928.559125   \n",
       "min    2453.050049  2518.290039  2401.149902  2403.040039  2403.040039   \n",
       "25%    3708.719971  3732.639892  3682.780029  3708.140014  3708.140014   \n",
       "50%    4402.790039  4431.700195  4369.209961  4400.750000  4400.750000   \n",
       "75%    5200.160156  5226.899902  5160.569824  5195.835205  5195.835205   \n",
       "max    6929.049805  6944.770020  6838.700195  6922.330078  6922.330078   \n",
       "\n",
       "             Volume  \n",
       "count  5.139000e+03  \n",
       "mean   9.251231e+07  \n",
       "std    6.714357e+07  \n",
       "min    0.000000e+00  \n",
       "25%    4.721810e+07  \n",
       "50%    9.712460e+07  \n",
       "75%    1.328184e+08  \n",
       "max    5.312476e+08  "
      ]
     },
     "execution_count": 536,
     "metadata": {},
     "output_type": "execute_result"
    }
   ],
   "source": [
    "# Stat desc variables quanti\n",
    "pd_df.describe()"
   ]
  },
  {
   "cell_type": "markdown",
   "metadata": {},
   "source": [
    "#### Traitement des valeurs manquantes"
   ]
  },
  {
   "cell_type": "code",
   "execution_count": 537,
   "metadata": {},
   "outputs": [
    {
     "data": {
      "text/plain": [
       "35"
      ]
     },
     "execution_count": 537,
     "metadata": {},
     "output_type": "execute_result"
    }
   ],
   "source": [
    "# Comptage des valeurs manquantes\n",
    "len(pd_df.loc[pd_df[\"Close\"].isna()])"
   ]
  },
  {
   "cell_type": "code",
   "execution_count": 538,
   "metadata": {},
   "outputs": [
    {
     "data": {
      "text/plain": [
       "0"
      ]
     },
     "execution_count": 538,
     "metadata": {},
     "output_type": "execute_result"
    }
   ],
   "source": [
    "# Imputation des valeurs NA\n",
    "pd_df = pd_df.fillna(method ='ffill')\n",
    "len(pd_df.loc[pd_df[\"Close\"].isna()])"
   ]
  },
  {
   "cell_type": "markdown",
   "metadata": {},
   "source": [
    "#### Calcul des rendements et rendements logarithmiques"
   ]
  },
  {
   "cell_type": "code",
   "execution_count": 539,
   "metadata": {},
   "outputs": [],
   "source": [
    "pd_df[\"Return\"] = pd_df[\"Close\"].diff()/pd_df[\"Close\"]\n",
    "pd_df[\"Log_Returns\"] = np.log(1+pd_df[\"Close\"].diff()/pd_df[\"Close\"])"
   ]
  },
  {
   "cell_type": "code",
   "execution_count": 540,
   "metadata": {},
   "outputs": [
    {
     "data": {
      "image/png": "[encoded data removed]",
      "text/plain": [
       "<Figure size 1296x576 with 2 Axes>"
      ]
     },
     "metadata": {
      "needs_background": "light"
     },
     "output_type": "display_data"
    }
   ],
   "source": [
    "fig, ax = plt.subplots(2,1)\n",
    "plt1 = pd_df[\"Return\"].plot(ax=ax[0], figsize = (18,8))\n",
    "plt2 = pd_df[\"Close\"].plot(ax=ax[1], figsize = (18,8), y='Value')"
   ]
  },
  {
   "cell_type": "markdown",
   "metadata": {},
   "source": [
    "#### Division échantillons apprentissage et test"
   ]
  },
  {
   "cell_type": "code",
   "execution_count": 546,
   "metadata": {},
   "outputs": [],
   "source": [
    "n = len(pd_df)\n",
    "split = int(n*0.8)\n",
    "pd_df.drop('2000-01-03', inplace=True)\n",
    "train, test = pd_df.iloc[0:split], pd_df.iloc[split:]\n",
    "Returns_train = train[\"Return\"]\n",
    "Log_Returns_train = train[\"Log_Returns\"]\n",
    "\n",
    "Returns_test = test[\"Return\"]\n",
    "Log_Returns_test = test[\"Log_Returns\"]"
   ]
  },
  {
   "cell_type": "code",
   "execution_count": 547,
   "metadata": {},
   "outputs": [
    {
     "name": "stdout",
     "output_type": "stream",
     "text": [
      "Date\n",
      "2000-01-04   -0.043256\n",
      "2000-01-05   -0.035097\n",
      "2000-01-06   -0.005429\n",
      "2000-01-07    0.016156\n",
      "2000-01-10    0.018864\n",
      "                ...   \n",
      "2016-01-25   -0.005882\n",
      "2016-01-26    0.010439\n",
      "2016-01-27    0.005376\n",
      "2016-01-28   -0.013465\n",
      "2016-01-29    0.021476\n",
      "Name: Return, Length: 4139, dtype: float64\n"
     ]
    }
   ],
   "source": [
    "print(Returns_train)"
   ]
  },
  {
   "cell_type": "markdown",
   "metadata": {},
   "source": [
    "#### Distribution du log rendement"
   ]
  },
  {
   "cell_type": "code",
   "execution_count": 548,
   "metadata": {},
   "outputs": [
    {
     "data": {
      "image/png": "[encoded data removed]",
      "text/plain": [
       "<Figure size 432x288 with 1 Axes>"
      ]
     },
     "metadata": {
      "needs_background": "light"
     },
     "output_type": "display_data"
    }
   ],
   "source": [
    "dist = train[\"Return\"].hist(bins=600, grid = \"False\")"
   ]
  },
  {
   "cell_type": "markdown",
   "metadata": {},
   "source": [
    "## Calcul des VaR"
   ]
  },
  {
   "cell_type": "markdown",
   "metadata": {},
   "source": [
    "### VaR Historique"
   ]
  },
  {
   "cell_type": "markdown",
   "metadata": {},
   "source": [
    "La VaR Historique de niveau de confiance $\\alpha$ consiste simplement à calculer le quantile empirique d'ordre $1-\\alpha$ des rendements historiques."
   ]
  },
  {
   "cell_type": "code",
   "execution_count": 656,
   "metadata": {},
   "outputs": [
    {
     "name": "stdout",
     "output_type": "stream",
     "text": [
      "Confidence Level      Value at Risk\n",
      "------------------  ---------------\n",
      "90%                      -0.0169826\n",
      "95%                      -0.0246215\n",
      "99%                      -0.0435704\n"
     ]
    },
    {
     "name": "stderr",
     "output_type": "stream",
     "text": [
      "C:\\Users\\Si Dan\\Anaconda3\\lib\\site-packages\\ipykernel_launcher.py:2: SettingWithCopyWarning: \n",
      "A value is trying to be set on a copy of a slice from a DataFrame\n",
      "\n",
      "See the caveats in the documentation: http://pandas.pydata.org/pandas-docs/stable/user_guide/indexing.html#returning-a-view-versus-a-copy\n",
      "  \n"
     ]
    }
   ],
   "source": [
    "# On trie les valeurs du log return\n",
    "train.sort_values('Return', inplace=True, ascending = True)\n",
    "\n",
    "# Calcul des quantiles\n",
    "VaR_90 = train[\"Return\"].quantile(0.1)\n",
    "VaR_95 = train[\"Return\"].quantile(0.05)\n",
    "VaR_99 = train[\"Return\"].quantile(0.01)\n",
    "\n",
    "# Print des valeurs\n",
    "print(tabulate([['90%', VaR_90], ['95%', VaR_95], ['99%', VaR_99]], headers = ['Confidence Level','Value at Risk']))"
   ]
  },
  {
   "cell_type": "markdown",
   "metadata": {},
   "source": [
    "#### Validation Ex Post"
   ]
  },
  {
   "cell_type": "markdown",
   "metadata": {},
   "source": [
    "Une des pratiques communes consiste à valider postérieurement le calcul de la VaR en le testant sur un échantillon indépendant. Cela est appelé le Backtesting. Dans la pratique commune, le test est effectué sur des données du passés. Dans notre cas, la VaR calculée sur l'échantillon d'apprentissage sera testé sur l'échantillon de validation pour évaluer sa pertinence. Il s'agira de calculer le nombre d'exception c'est à dire le nombre d'observations de rendements qui sont en dessous de VaR (ou pertes dépassant la VaR), et évaluer si leur proportion dépasse le niveau de la VaR.\n",
    "\n",
    "Plus précisément, on déclare les variables de dépassements en $t+1$ de la VaR calculée en $t$ qui sont $I_t = \\mathbb{1}_{r_{t+1} < VaR_{h,t+1}(\\alpha)} \\sim \\mathcal{B}(1-\\alpha)$. \n",
    "\n",
    "Ces variables étant i.i.d par hypothèse sur les rendements journaliers, le nombre total des exceptions est donc défini par :\n",
    "\n",
    "$$\n",
    "\\sum_{t=1}^n I_t \\sim \\mathcal{B}(n,1-\\alpha)\n",
    "$$.\n",
    "\n",
    "Le but est donc de tester l'adéquation entre la distribution empirique du nombre total de dépassements $\\sum_{t=1}^n I_t$ issues de l'échantillon test, et la distribution théorique qui est la loi Binomiale $\\mathcal{B}(n,1-\\alpha)$. La proportion d'exceptions $p$ doit donc être égale à $1- \\alpha$. Le test à effectuer doit accepter l'hypothèse $H_0$ qui est $p = 1- \\alpha$. Pour cela, la fonction binom_test peut effectuer ce test avec cette hypothèse selon le nombre d'exceptions.\n",
    "\n",
    "Dans la règlementation, le niveau de VaR doit être égal à $\\alpha = 99%$. Cette quantité sera donc prise en référence.\n",
    "\n",
    "Pour cela, le calcul du nombre d'exceptions est implémenté comme suit :"
   ]
  },
  {
   "cell_type": "code",
   "execution_count": 432,
   "metadata": {},
   "outputs": [],
   "source": [
    "# Construction de l'échantillon des exceptions\n",
    "def Backtesting(data, VaR):\n",
    "    n = len(data)\n",
    "    exception_nb = 0 \n",
    "    for i in range(n):\n",
    "        if data[i] < VaR:\n",
    "            exception_nb +=1\n",
    "    return exception_nb"
   ]
  },
  {
   "cell_type": "markdown",
   "metadata": {},
   "source": [
    "Cela permet ainsi d'effectuer le test pour vérifier que la proportion d'exception soit égale à $1-\\alpha$:"
   ]
  },
  {
   "cell_type": "code",
   "execution_count": 446,
   "metadata": {},
   "outputs": [
    {
     "name": "stdout",
     "output_type": "stream",
     "text": [
      "La proportion d'exceptions est égale à 0.001\n",
      "p-value=0.001\n",
      "Le nombre d'exceptions au regard de la VaR Histo ne suit pas une Binomiale avec p = 1%\n"
     ]
    }
   ],
   "source": [
    "# Application de la fonction pour la VaR Historique\n",
    "backesting_histo = Backtesting(Returns_test, VaR_99)\n",
    "n = len(Returns_test)\n",
    "\n",
    "# Calcul de la proportion d'exceptions\n",
    "prop_histo = backesting_histo/n\n",
    "print(\"La proportion d'exceptions est égale à %.3f\" % prop_histo)\n",
    "      \n",
    "# Test d'adéquation \n",
    "p = sps.binom_test(x = backesting_histo,n=n , p=0.01)\n",
    "print('p-value=%.3f' % p)\n",
    "# Interprétation\n",
    "alpha = 0.05\n",
    "if p > alpha:\n",
    "    print(\"Le nombre d'exceptions au regard de la VaR Histo suit bien une Binomiale avec p = 1%\")\n",
    "else:\n",
    "    print(\"Le nombre d'exceptions au regard de la VaR Histo ne suit pas une Binomiale avec p = 1%\")"
   ]
  },
  {
   "cell_type": "markdown",
   "metadata": {},
   "source": [
    "Ainsi, la VaR historique ne peut être validé au vue des résultats du backtesting donc le nombre d'exceptions de l'échantillon test ne suit bien une loi Binomiale de paramètre $n$ qui est la taille de l'échantillon test et $p=1%$. Cela nous contraint ainsi à trouver d'autres types de VaR.\n",
    "\n",
    "Plus précisément, il est possible de remarquer que la proportion d'exceptions est largement inférieure à 1%, montrant ainsi que la VaR calculée est très conservatrice."
   ]
  },
  {
   "cell_type": "markdown",
   "metadata": {},
   "source": [
    "### VaR Glissante"
   ]
  },
  {
   "cell_type": "markdown",
   "metadata": {},
   "source": [
    "La VaR Glissant consiste à calculer la VaR historique uniquement sur une proportion de l'échantillon initiale, qui est de taille $window$, représentant la fenêtre arbitrairement choisi auquel la VaR serait calculé, et cette opération est réitérée pour chaque temps. Ainsi, cela permet ainsi d'obtenir à partir du temps $window+1$ d'obtenir pour chaque observation une VaR historique. Il s'agit en quelque sorte d'une méthode de VaR dynamique historique."
   ]
  },
  {
   "cell_type": "code",
   "execution_count": 552,
   "metadata": {},
   "outputs": [],
   "source": [
    "n=len(pd_df)\n",
    "VaR_histo_glissante = []\n",
    "window = 251\n",
    "for i in range(n-window):\n",
    "    x = pd_df[\"Return\"].iloc[i:i+window+1]\n",
    "    VaR_histo_glissante.append(np.quantile(a=x, q=0.01, interpolation = 'linear'))"
   ]
  },
  {
   "cell_type": "code",
   "execution_count": 662,
   "metadata": {},
   "outputs": [
    {
     "data": {
      "text/plain": [
       "Text(0.5, 1.0, 'VaR Glissante des rendements du CAC40')"
      ]
     },
     "execution_count": 662,
     "metadata": {},
     "output_type": "execute_result"
    },
    {
     "data": {
      "image/png": "[encoded data removed]",
      "text/plain": [
       "<Figure size 432x288 with 1 Axes>"
      ]
     },
     "metadata": {
      "needs_background": "light"
     },
     "output_type": "display_data"
    }
   ],
   "source": [
    "fig, ax = plt.subplots(1,1)\n",
    "\n",
    "ax.plot(pd_df.index, pd_df.Return, 'b-')\n",
    "ax.plot(pd_df.index[window:], VaR_histo_glissante, 'r-')\n",
    "ax.plot(pd_df.iloc[window:][VaR_histo_glissante > pd_df.Return.iloc[window:]].index, pd_df.Return.iloc[window:][VaR_histo_glissante > pd_df.Return.iloc[window:]], marker = 'v')\n",
    "ax.set_title(\"VaR Glissante des rendements du CAC40\")"
   ]
  },
  {
   "cell_type": "markdown",
   "metadata": {},
   "source": [
    "## VaR Paramétriques"
   ]
  },
  {
   "cell_type": "markdown",
   "metadata": {},
   "source": [
    "### Implémentation de la fonction d'estimation par maximum de vraisemblance"
   ]
  },
  {
   "cell_type": "markdown",
   "metadata": {},
   "source": [
    "Les VaR Paramétriques reposent sur le fait que l'on suppose que le P&L ou le rendement suivent une certaine loi, de paramètres qui sont ainsi estimés, et c'est à partir de ce postulat que les VaR sont estimées en conséquences.\n",
    "\n",
    "L'estimation des paramètres définissant la distribution du rendement est celle du maximum de Vraisemblance. C'est pourquoi il convient d'implémenter la fonction qui minimise l'opposé de la log-vraisemblance."
   ]
  },
  {
   "cell_type": "code",
   "execution_count": 86,
   "metadata": {},
   "outputs": [],
   "source": [
    "# implémentation de la log-vraisemblance\n",
    "# function est un paramètre représentant la densité d'une certaine loi\n",
    "def log_likelihood(data_matrix, function, param):\n",
    "    fun = lambda x : function(x, *param)\n",
    "    log_likelihood = np.sum(np.log(fun(data_matrix)))\n",
    "    return log_likelihood"
   ]
  },
  {
   "cell_type": "code",
   "execution_count": 244,
   "metadata": {},
   "outputs": [],
   "source": [
    "# implémentation de l'estimateur par maximum de vraisemblance\n",
    "def max_log_likelihood(data_matrix, function, nb_param):\n",
    "    x0 = np.random.rand(nb_param)\n",
    "    fun_opti = lambda param : -log_likelihood(data_matrix, function, param)\n",
    "    param_opti = sp.optimize.minimize(fun_opti,x0, method='Nelder-Mead')\n",
    "    return param_opti.x"
   ]
  },
  {
   "cell_type": "markdown",
   "metadata": {},
   "source": [
    "### VaR Gaussienne"
   ]
  },
  {
   "cell_type": "markdown",
   "metadata": {},
   "source": [
    "Rappelons le principe de la Value at Risk Gaussienne :\n",
    "\n",
    "Nous supposons que les rendements suivent une loi normale $N(\\mu, \\sigma^2)$.\n",
    "\n",
    "De ce fait, sachant que la VaR de niveau de confiance $\\alpha$ est son quantile d'ordre $\\alpha$, il est clair que :\n",
    "$VaR_{\\alpha}(R) = \\mu + \\sigma* \\Phi^{-1}(1-\\alpha)$, avec $\\Phi$ la fonction de répartition d'une variable gaussienne centrée réduite.\n",
    "\n",
    "Rappelons que :\n",
    "- $\\Phi^{-1}(0.1)=-1.282$\n",
    "- $\\Phi^{-1}(0.05)=-1.645$\n",
    "- $\\Phi^{-1}(0.01)=-2.326$\n",
    "\n",
    "Pour calculer la VaR Gaussienne selon les différents niveaux de confiances, il est nécessaire d'estimer les paramètres de la distribution Gaussienne, en supposant que les rendements suivent une loi normale. Pour cela, nous effectuons une estimation par maximum de vraisemblance."
   ]
  },
  {
   "cell_type": "code",
   "execution_count": 448,
   "metadata": {},
   "outputs": [
    {
     "name": "stdout",
     "output_type": "stream",
     "text": [
      "[-0.00018665  0.01497274]\n"
     ]
    }
   ],
   "source": [
    "# Estimation par maximum de vraisemblance des paramètres de la loi normale\n",
    "param_normal = max_log_likelihood(Returns_train, sps.norm.pdf,2)\n",
    "print(param_normal)"
   ]
  },
  {
   "cell_type": "markdown",
   "metadata": {},
   "source": [
    "Afin de vérifier l'exactitude des paramètres estimées, nous effectuons une estimation en utilisant la fonction \"norm.fit\" du package scipy.stat permettant de fitter une distribution gaussienne sur les données et d'en estimer les paramètres."
   ]
  },
  {
   "cell_type": "code",
   "execution_count": 449,
   "metadata": {},
   "outputs": [
    {
     "name": "stdout",
     "output_type": "stream",
     "text": [
      "-0.00018790821993925233 0.014972058197696418\n"
     ]
    }
   ],
   "source": [
    "# Fittage de la distribution Gaussienne\n",
    "mu, sigma = sps.norm.fit(Returns_train)\n",
    "print(mu, sigma)"
   ]
  },
  {
   "cell_type": "markdown",
   "metadata": {},
   "source": [
    "Nous pouvons ainsi constater que les paramètres estimés sont très similaires, ce qui permet de valider leur exactitude. A partir de ces quantités, il est ainsi posible de calculer les VaR Gaussiennes suivantes:"
   ]
  },
  {
   "cell_type": "code",
   "execution_count": 450,
   "metadata": {},
   "outputs": [
    {
     "name": "stdout",
     "output_type": "stream",
     "text": [
      "Confidence Level      Gaussian Value at Risk\n",
      "------------------  ------------------------\n",
      "90%                               -0.0193821\n",
      "95%                               -0.0248169\n",
      "99%                               -0.0350129\n"
     ]
    }
   ],
   "source": [
    "# Calcul de la moyenne et de l'écart type du Log Return\n",
    "mu = np.mean(train[\"Return\"])\n",
    "sigma = np.std(train[\"Return\"])\n",
    "\n",
    "# Calcul des quantiles\n",
    "VaR_G_90 = mu - 1.282*sigma\n",
    "VaR_G_95 = mu - 1.645*sigma\n",
    "VaR_G_99 = mu - 2.326*sigma\n",
    "\n",
    "# Print des valeurs\n",
    "print(tabulate([['90%', VaR_G_90], ['95%', VaR_G_95], ['99%', VaR_G_99]], headers = ['Confidence Level','Gaussian Value at Risk']))"
   ]
  },
  {
   "cell_type": "markdown",
   "metadata": {},
   "source": [
    "Pour être davantage précis, la VaR peut être calculée directement en la considérant comme le quantile d'ordre $1-\\alpha$ des rendements supposés suivre une loi $N(\\mu, \\sigma^2)$ qui doit être calculé par la fonction ppf fournie par le package scipy.stats."
   ]
  },
  {
   "cell_type": "code",
   "execution_count": 451,
   "metadata": {},
   "outputs": [
    {
     "name": "stdout",
     "output_type": "stream",
     "text": [
      "Confidence Level      Gaussian Value at Risk\n",
      "------------------  ------------------------\n",
      "90%                               -0.0193754\n",
      "95%                               -0.0248148\n",
      "99%                               -0.0350181\n"
     ]
    }
   ],
   "source": [
    "# Calcul des VaR Gaussiennes\n",
    "VaR_G_90 = sps.norm.ppf(0.1, mu, sigma) # ppf = percentage point function\n",
    "VaR_G_95 = sps.norm.ppf(0.05, mu, sigma)\n",
    "VaR_G_99 = sps.norm.ppf(0.01, mu, sigma)\n",
    "\n",
    "# Print des valeurs\n",
    "print(tabulate([['90%', VaR_G_90], ['95%', VaR_G_95], ['99%', VaR_G_99]], headers = ['Confidence Level','Gaussian Value at Risk']))"
   ]
  },
  {
   "cell_type": "markdown",
   "metadata": {},
   "source": [
    "#### Validation Ex Post"
   ]
  },
  {
   "cell_type": "markdown",
   "metadata": {},
   "source": [
    "Une fois de plus, la VaR Gaussienne doit faire l'objet d'un backtesting pour sa validation, le nombre d'exceptions de l'échantillon test est calculé et sa distribution doit suivre une loi Binomiale $B(n,1-\\alpha)$ avec $\\alpha = 0.99$. De ce fait :"
   ]
  },
  {
   "cell_type": "code",
   "execution_count": 452,
   "metadata": {},
   "outputs": [
    {
     "name": "stdout",
     "output_type": "stream",
     "text": [
      "La proportion d'exceptions est égale à 0.003\n",
      "p-value=0.017\n",
      "Le nombre d'exceptions au regard de la VaR Gaussienne ne suit pas une Binomiale avec p = 1%\n"
     ]
    }
   ],
   "source": [
    "# Application de la fonction pour la VaR Gaussienne\n",
    "backesting_Gaussienne = Backtesting(Returns_test, VaR_G_99)\n",
    "n = len(Returns_test)\n",
    "\n",
    "# Calcul de la proportion d'exceptions\n",
    "prop_Gaussienne = backesting_Gaussienne/n\n",
    "print(\"La proportion d'exceptions est égale à %.3f\" % prop_Gaussienne)\n",
    "\n",
    "# Test d'adéquation\n",
    "p = sps.binom_test(x = backesting_Gaussienne, n=n, p=0.01)\n",
    "print('p-value=%.3f' % p)\n",
    "# Interprétation \n",
    "if p > 0.05:\n",
    "    print(\"Le nombre d'exceptions au regard de la VaR Gaussienne suit bien une Binomiale avec p = 1%\")\n",
    "else:\n",
    "    print(\"Le nombre d'exceptions au regard de la VaR Gaussienne ne suit pas une Binomiale avec p = 1%\")"
   ]
  },
  {
   "cell_type": "markdown",
   "metadata": {},
   "source": [
    "Malheureusement, la VaR Gaussienne ne peut être validée. Par ailleurs, cette distribution présente de nombreuses limites qui seront détaillées dans les paragraphes suivants.\n",
    "\n",
    "Nous pouvons constater que la proportion d'exceptions, égale à $0.3\\%$, est largement inférieure à $1\\%$, montrant ainsi que la VaR Gaussienne est fortement conservatrice."
   ]
  },
  {
   "cell_type": "markdown",
   "metadata": {},
   "source": [
    "### Var Skew Gaussienne"
   ]
  },
  {
   "cell_type": "markdown",
   "metadata": {},
   "source": [
    "Cependant, l'hypothèse Gaussien des rendements peut être questionnée. Cela passe en premier lieu par la potentielle présence d'asymétrie dans la distribution. Pour cela, cette asymétrie est calculée puis sa significativité sera testée afin d'évaluer sa pertinence."
   ]
  },
  {
   "cell_type": "code",
   "execution_count": 24,
   "metadata": {},
   "outputs": [
    {
     "data": {
      "text/plain": [
       "-0.28512868296639526"
      ]
     },
     "execution_count": 24,
     "metadata": {},
     "output_type": "execute_result"
    }
   ],
   "source": [
    "# Calcul de l'asymétrie\n",
    "Returns_train.skew()"
   ]
  },
  {
   "cell_type": "code",
   "execution_count": 25,
   "metadata": {},
   "outputs": [
    {
     "data": {
      "text/plain": [
       "SkewtestResult(statistic=-7.3549389274967645, pvalue=1.9101443074280504e-13)"
      ]
     },
     "execution_count": 25,
     "metadata": {},
     "output_type": "execute_result"
    }
   ],
   "source": [
    "sps.skewtest(Returns_train)"
   ]
  },
  {
   "cell_type": "markdown",
   "metadata": {},
   "source": [
    "Nous pouvons ainsi constater que les rendements possèdent une asymétrie négative qui est significative. Ainsi, en maintenant l'hypothèse de rendements gaussien, la présence d'asymétrie est prise en compte en calculant cette fois ci la VaR Gaussienne Asymétrique.\n",
    "\n",
    "Pour cela, nous estimons les paramètres de la distribution Gaussienne Asymétrique par maximum de vraisemblance, conformément aux données à notre disposition :"
   ]
  },
  {
   "cell_type": "code",
   "execution_count": 327,
   "metadata": {},
   "outputs": [
    {
     "name": "stdout",
     "output_type": "stream",
     "text": [
      " final_simplex: (array([[ 0.45826127, -0.00546034,  0.01587329],\n",
      "       [ 0.45820264, -0.00545957,  0.01587299],\n",
      "       [ 0.45833092, -0.00546089,  0.01587349],\n",
      "       [ 0.45817471, -0.00545923,  0.01587297]]), array([-11514.66907513, -11514.66907507, -11514.66907504, -11514.66907494]))\n",
      "           fun: -11514.669075127616\n",
      "       message: 'Optimization terminated successfully.'\n",
      "          nfev: 219\n",
      "           nit: 123\n",
      "        status: 0\n",
      "       success: True\n",
      "             x: array([ 0.45826127, -0.00546034,  0.01587329])\n"
     ]
    },
    {
     "name": "stderr",
     "output_type": "stream",
     "text": [
      "C:\\Users\\Si Dan\\Anaconda3\\lib\\site-packages\\ipykernel_launcher.py:5: RuntimeWarning: divide by zero encountered in log\n",
      "  \"\"\"\n"
     ]
    }
   ],
   "source": [
    "# Estimation des paramètres de la Skew Gaussienne par maximum de vraisemblance\n",
    "param_skew_normal = max_log_likelihood(Returns_train, sps.skewnorm.pdf,3)\n",
    "print(param_skew_normal)"
   ]
  },
  {
   "cell_type": "markdown",
   "metadata": {},
   "source": [
    "Afin de vérifier l'exactitude des paramètres estimées, nous effectuons une estimation en utilisant la fonction \"skewnorm.fit\" du package scipy.stat permettant de fitter une distribution skew gaussienne sur les données et d'en estimer les paramètres."
   ]
  },
  {
   "cell_type": "code",
   "execution_count": 417,
   "metadata": {},
   "outputs": [
    {
     "name": "stdout",
     "output_type": "stream",
     "text": [
      "0.45825007295788645 -0.0054600831762929266 0.015873281849766215\n"
     ]
    }
   ],
   "source": [
    "# Fittage de la distribution Gaussienne\n",
    "skew, mu, sigma = sps.skewnorm.fit(Returns_train)\n",
    "print(skew, mu, sigma)"
   ]
  },
  {
   "cell_type": "markdown",
   "metadata": {},
   "source": [
    "Nous pouvons ainsi constater que les paramètres estimés sont très similaires, ce qui permet de valider leur exactitude. A partir de ces quantités, il est ainsi posible de calculer les VaR Skew Gaussiennes suivantes:"
   ]
  },
  {
   "cell_type": "code",
   "execution_count": 418,
   "metadata": {},
   "outputs": [
    {
     "name": "stdout",
     "output_type": "stream",
     "text": [
      "Confidence Level      Skew Gaussian Value at Risk\n",
      "------------------  -----------------------------\n",
      "90%                                    -0.019335\n",
      "95%                                    -0.0247272\n",
      "99%                                    -0.0348182\n"
     ]
    }
   ],
   "source": [
    "# Calcul des VaR Gaussiennes asymétriques\n",
    "VaR_SG_90 = sps.skewnorm.ppf(0.1, skew, mu, sigma) # ppf = percentage point function\n",
    "VaR_SG_95 = sps.skewnorm.ppf(0.05, skew, mu, sigma)\n",
    "VaR_SG_99 = sps.skewnorm.ppf(0.01, skew, mu, sigma)\n",
    "\n",
    "# Print des valeurs\n",
    "print(tabulate([['90%', VaR_SG_90], ['95%', VaR_SG_95], ['99%', VaR_SG_99]], headers = ['Confidence Level','Skew Gaussian Value at Risk']))"
   ]
  },
  {
   "cell_type": "markdown",
   "metadata": {},
   "source": [
    "#### Validation Ex Post"
   ]
  },
  {
   "cell_type": "markdown",
   "metadata": {},
   "source": [
    "On effectue de même un backtesting pour la VaR Skew Gaussienne :"
   ]
  },
  {
   "cell_type": "code",
   "execution_count": 453,
   "metadata": {},
   "outputs": [
    {
     "name": "stdout",
     "output_type": "stream",
     "text": [
      "La proportion d'exceptions est égale à 0.003\n",
      "p-value=0.017\n",
      "Le nombre d'exceptions au regard de la VaR Skew Gaussienne ne suit pas une Binomiale avec p = 1%\n"
     ]
    }
   ],
   "source": [
    "# Application de la fonction pour la VaR Skew Gaussienne\n",
    "backesting_SGaussienne = Backtesting(Returns_test, VaR_SG_99)\n",
    "n = len(Returns_test)\n",
    "\n",
    "# Calcul de la proportion d'exceptions\n",
    "prop_SGaussienne = backesting_SGaussienne/n\n",
    "print(\"La proportion d'exceptions est égale à %.3f\" % prop_SGaussienne)\n",
    "\n",
    "# Test de la loi binomiale\n",
    "p_value = sps.binom_test(x = backesting_SGaussienne, n = n, p=0.01)\n",
    "print('p-value=%.3f' % p_value)\n",
    "# Interprétation\n",
    "alpha = 0.05\n",
    "if p > alpha:\n",
    "    print(\"Le nombre d'exceptions au regard de la VaR Skew Gaussienne suit bien une Binomiale avec p = 1%\")\n",
    "else:\n",
    "    print(\"Le nombre d'exceptions au regard de la VaR Skew Gaussienne ne suit pas une Binomiale avec p = 1%\")"
   ]
  },
  {
   "cell_type": "markdown",
   "metadata": {},
   "source": [
    "La VaR Skew Gaussienne n'est pas non plus validée. La proportion d'exception reste la même que celle calculée avec la VaR Gaussienne précédente. La distribution des rendements ne suivent en général pas une loi Gaussienne, d'où la non validation de cette VaR. Cela sera démontré dans le paragraphe suivant."
   ]
  },
  {
   "cell_type": "markdown",
   "metadata": {},
   "source": [
    "### Var Skew Student "
   ]
  },
  {
   "cell_type": "markdown",
   "metadata": {},
   "source": [
    "Cependant, la présence d'asymétrie permet par ailleurs de s'intérroger sur le caractère gaussien de la distribution des rendements. Il est connu que la distribution du P&L (ou du rendement logarithmique dans notre cas) est à queue lourde, qu'il convient de tester présentement. Par ailleurs, le caractère gaussien doit être testé via le diagramme quantile-quantile ainsi qu'un test Quantile-Quantile. En général, cette distribution est de plus asymétrique, avec un skew négatif. Cela conduit ainsi à considérer une distribution de Student plutôt que Gaussienne pour les rendements."
   ]
  },
  {
   "cell_type": "code",
   "execution_count": 27,
   "metadata": {},
   "outputs": [
    {
     "data": {
      "text/plain": [
       "4.452056720505794"
      ]
     },
     "execution_count": 27,
     "metadata": {},
     "output_type": "execute_result"
    }
   ],
   "source": [
    "Returns_train.kurtosis()"
   ]
  },
  {
   "cell_type": "code",
   "execution_count": 28,
   "metadata": {},
   "outputs": [
    {
     "name": "stdout",
     "output_type": "stream",
     "text": [
      "Statistics=20.489, p=0.000\n",
      "The Kurtosis is significantly different from the Gaussian One (reject H0)\n"
     ]
    }
   ],
   "source": [
    "stat, p = sps.kurtosistest(Returns_train)\n",
    "print('Statistics=%.3f, p=%.3f' % (stat, p))\n",
    "# Interprétation\n",
    "alpha = 0.05\n",
    "if p > alpha:\n",
    "    print('The Kurtosis is not significantly different from the Gaussian One (fail to reject H0)')\n",
    "else:\n",
    "    print('The Kurtosis is significantly different from the Gaussian One (reject H0)')"
   ]
  },
  {
   "cell_type": "markdown",
   "metadata": {},
   "source": [
    "Nous pouvons ainsi constater que les rendements sont à queue épaisses au vu du kurtosis qui est fortement significatif, et supérieur à celui d'une distribution gaussienne normale, qui est égale à 3. Cela est confirmé par le test du Kurtosis au vu de sa p-valeur.\n",
    "\n",
    "Par la suite, la normalité des rendements est vérifiée via le traçage du diagrame Quantile-Quantile ainsi que du test de Normalité."
   ]
  },
  {
   "cell_type": "code",
   "execution_count": 29,
   "metadata": {},
   "outputs": [
    {
     "data": {
      "image/png": "[encoded data removed]",
      "text/plain": [
       "<Figure size 432x288 with 1 Axes>"
      ]
     },
     "execution_count": 29,
     "metadata": {},
     "output_type": "execute_result"
    },
    {
     "data": {
      "image/png": "[encoded data removed]",
      "text/plain": [
       "<Figure size 432x288 with 1 Axes>"
      ]
     },
     "metadata": {
      "needs_background": "light"
     },
     "output_type": "display_data"
    }
   ],
   "source": [
    "sm.qqplot(Returns_train)"
   ]
  },
  {
   "cell_type": "code",
   "execution_count": null,
   "metadata": {},
   "outputs": [],
   "source": [
    "from scipy.stats import shapiro\n",
    "# Test de Normalité\n",
    "stat, p = shapiro(Returns_train)\n",
    "print('Statistics=%.3f, p=%.3f' % (stat, p))\n",
    "# Interprétation\n",
    "alpha = 0.05\n",
    "if p > alpha:\n",
    "    print('Sample looks Gaussian (fail to reject H0)')\n",
    "else:\n",
    "    print('Sample does not look Gaussian (reject H0)')"
   ]
  },
  {
   "cell_type": "markdown",
   "metadata": {},
   "source": [
    "Comme attendu, l'hypothèse nulle de distribution Gaussienne est donc rejetée au vue de la p-valeur, confirmant ainsi qu'il n'est pas valable de considérer l'hypothèse de rendements Gaussiens. Cela est appuyé visuellement par la courbe Quantile-Quantile tracée ci dessus.\n",
    "\n",
    "Il est donc décidé de considérer que les Rendements suivent une loi de Student asymétrique, et la VaR doit donc être calculé en prenant en compte ce cas de figure. Cette VaR est appelée Skew Student VaR. Rappelons que la VaR de niveau de confiance $\\alpha$ est le quantile d'ordre $1-\\alpha$ des Rendements.\n",
    "\n",
    "Pour commencer, la densité de la loi de Skew Student est construite :"
   ]
  },
  {
   "cell_type": "code",
   "execution_count": 252,
   "metadata": {},
   "outputs": [],
   "source": [
    "# on défini la densité de la loi Skew Student\n",
    "def f_skewstud(x, *params):\n",
    "    # Chargement des paramètres\n",
    "    mu, sigma, gamma, nu = params\n",
    "    \n",
    "    # Définition des composantes de calcul\n",
    "    y = ((gamma*(x- mu))/sigma)*(np.sqrt((nu+1)/(((x- mu)/sigma)**2)+ nu))\n",
    "    f_t = lambda x : sps.t.pdf(x, df = nu, loc = mu, scale = sigma)\n",
    "    F_t = lambda x : sps.t.cdf(y, df = nu+1, loc = mu, scale = sigma)\n",
    "    dens = 2*f_t(x)*F_t(x)\n",
    "    \n",
    "    # Retour de la densité voulue\n",
    "    return dens"
   ]
  },
  {
   "cell_type": "markdown",
   "metadata": {},
   "source": [
    "Les paramètres sont estimés selon le maximum de vraisemblance :"
   ]
  },
  {
   "cell_type": "code",
   "execution_count": 253,
   "metadata": {},
   "outputs": [
    {
     "name": "stdout",
     "output_type": "stream",
     "text": [
      "[-6.34007159e-03  9.08461134e-03  1.12028956e-03  2.50404496e+00]\n"
     ]
    }
   ],
   "source": [
    "# Estimation des paramètres de la Skew Gaussienne par maximum de vraisemblance\n",
    "param_skew_student = max_log_likelihood(Returns_train, f_skewstud,4)\n",
    "print(param_skew_student)"
   ]
  },
  {
   "cell_type": "markdown",
   "metadata": {},
   "source": [
    "Les paramètres de la loi de Skew Student pour les rendements ont donc été calculés. De cela, il est maintenant possible d'estimer la VaR de Skew Student.\n",
    "\n",
    "Il faut se rappeler que la VaR d'horizon $h$ et de niveau $\\alpha$ est exprimé de la manière suivante, en fonction du P&L ou plus simplement des rendements:\n",
    "\n",
    "$$\n",
    "VaR_h(\\alpha) = inf(x,\\ \\mathbb{P}[PnL \\leq x] = 1-\\alpha)\n",
    "$$\n",
    "\n",
    "Sachant qu'il a été supposé que les rendements suivent une loi de Skew Students, alors en notant $f_{SS}$ et $F_{SS}$ respectivement la densité et la fonction de répartition d'une telle loi, la formulation du problème équivant à :\n",
    "\n",
    "$$\n",
    "VaR_h(\\alpha) = inf(x,\\ F_{SS}(x) = 1-\\alpha)\n",
    "$$,\n",
    "\n",
    "soit encore :\n",
    "\n",
    "$$\n",
    "VaR_h(\\alpha) = inf(x,\\ \\int_{-\\infty}^{x}f_{SS}(y)dy = 1-\\alpha)\n",
    "$$.\n",
    "\n",
    "Il s'agit ainsi d'un problème d'optimisation :\n",
    "\n",
    "$$\n",
    "VaR_h(\\alpha) = argmin_x|\\int_{-\\infty}^{x}f_{SS}(y)dy - (1-\\alpha)|\n",
    "$$\n",
    "\n",
    "que l'on peut implémenter comme suit :"
   ]
  },
  {
   "cell_type": "code",
   "execution_count": 274,
   "metadata": {},
   "outputs": [],
   "source": [
    "from scipy.optimize import minimize\n",
    "\n",
    "# implémentation du calcul de la VaR Skew Student\n",
    "def VaR_SS_alpha(params, alpha):\n",
    "    x0 = 0\n",
    "    f_skewstud_to_int = lambda x : f_skewstud(x, *params)\n",
    "    cdf_stud = lambda y : abs(quad(f_skewstud_to_int,-np.inf,y)[0] - (1-alpha))\n",
    "    VaR_alpha = minimize(cdf_stud,x0, method='Nelder-Mead')\n",
    "    return VaR_alpha.x"
   ]
  },
  {
   "cell_type": "markdown",
   "metadata": {},
   "source": [
    "A partir de cette fonction de minimisation, la VaR de Skew Student peut être calculée."
   ]
  },
  {
   "cell_type": "code",
   "execution_count": 276,
   "metadata": {},
   "outputs": [
    {
     "name": "stdout",
     "output_type": "stream",
     "text": [
      "Confidence Level      Skew Student Value at Risk\n",
      "------------------  ----------------------------\n",
      "90%                                   -0.02225\n",
      "95%                                   -0.028375\n",
      "99%                                   -0.0453125\n"
     ]
    }
   ],
   "source": [
    "# Calcul des VaR Student asymétriques\n",
    "VaR_SS_90 = VaR_SS_alpha(param_skew_student, 0.90) \n",
    "VaR_SS_95 = VaR_SS_alpha(param_skew_student, 0.95) \n",
    "VaR_SS_99 = VaR_SS_alpha(param_skew_student, 0.99) \n",
    "\n",
    "# Print des valeurs\n",
    "print(tabulate([['90%', VaR_SS_90], ['95%', VaR_SS_95], ['99%', VaR_SS_99]], headers = ['Confidence Level','Skew Student Value at Risk']))"
   ]
  },
  {
   "cell_type": "markdown",
   "metadata": {},
   "source": [
    "#### Validation Ex Post"
   ]
  },
  {
   "cell_type": "markdown",
   "metadata": {},
   "source": [
    "La VaR Skew Student est une fois de plus soumis à validation par Backtesting sur l'échantillon test :"
   ]
  },
  {
   "cell_type": "code",
   "execution_count": 454,
   "metadata": {},
   "outputs": [
    {
     "name": "stdout",
     "output_type": "stream",
     "text": [
      "La proportion d'exceptions est égale à 0.001\n",
      "p-value=0.001\n",
      "Le nombre d'exceptions au regard de la VaR Skew Student ne suit pas une Binomiale avec p = 1%\n"
     ]
    }
   ],
   "source": [
    "# Application de la fonction pour la VaR Skew Student\n",
    "backesting_SStud = Backtesting(Returns_test, VaR_SS_99)\n",
    "n = len(Returns_test)\n",
    "\n",
    "# Calcul de la proportion d'exceptions\n",
    "prop_SStud = backesting_SStud/n\n",
    "print(\"La proportion d'exceptions est égale à %.3f\" % prop_SStud)\n",
    "\n",
    "# Test d'adéquation \n",
    "p_value = sps.binom_test(x = backesting_SStud, n = n, p=0.01)\n",
    "print('p-value=%.3f' % p_value)\n",
    "# Interprétation\n",
    "alpha = 0.05\n",
    "if p > alpha:\n",
    "    print(\"Le nombre d'exceptions au regard de la VaR Skew Student suit bien une Binomiale avec p = 1%\")\n",
    "else:\n",
    "    print(\"Le nombre d'exceptions au regard de la VaR Skew Student ne suit pas une Binomiale avec p = 1%\")"
   ]
  },
  {
   "cell_type": "markdown",
   "metadata": {},
   "source": [
    "Nous pouvons ainsi constater que la VaR Skew Student, fortement conservatrice, n'est pas validée par le Backtesting, le nombre d'exceptions, égal à $0.1\\%$, est largement inférieure à $1\\%$."
   ]
  },
  {
   "cell_type": "markdown",
   "metadata": {},
   "source": [
    "## Value at Risk par modélisation des extrêmes"
   ]
  },
  {
   "cell_type": "markdown",
   "metadata": {},
   "source": [
    "### Modélisation par maxima par blocs"
   ]
  },
  {
   "cell_type": "markdown",
   "metadata": {},
   "source": [
    "#### Construction de l'échantillon des maximas et estimation de la loi adaptée"
   ]
  },
  {
   "cell_type": "markdown",
   "metadata": {},
   "source": [
    "Les trois profils limites de distribution du théorème de Fisher-Tippet peuvent être définis par une seule distribution paramétrique commune qui est la distribution GEV."
   ]
  },
  {
   "cell_type": "code",
   "execution_count": 216,
   "metadata": {},
   "outputs": [],
   "source": [
    "def GEV(x, mu, sigma, epsilon):\n",
    "    return np.exp(-(1+epsilon*((x-mu)/sigma))**(-1/epsilon))"
   ]
  },
  {
   "cell_type": "markdown",
   "metadata": {},
   "source": [
    "Afin de modéliser la loi du maximum de tout échantillon, on doit estimer la distribution GEV. La première étape du processus d'estimation est de construire un échantillon de maxima.\n",
    "\n",
    "Pour ce faire, on découpe l'échantillon initial $(X_1, ..., X_n)$ i.i.d en $k$ blocs disjoints de même taille $s$, sur lesquels on calcule le maximum : $Y_j = max(X_{s*(j-1)+1},...,X_{s*(j-1)+s}, j \\in [|1,k|]$ que l'on suppose aussi i.i.d., $s$ devant être suffisamment grand pour satisfaire les conditions asymptotiques du théorème mais pas trop pour obtenir un échantillon de maxima de taille convenable.\n",
    "\n",
    "Dans le cas des rendements du CAC40, le code associé à cette étape est le suivant:"
   ]
  },
  {
   "cell_type": "code",
   "execution_count": 280,
   "metadata": {},
   "outputs": [],
   "source": [
    "def maxima_sample(data, k):\n",
    "    n = len(data)\n",
    "    print(\"data size = %.1f\" % n)\n",
    "    \n",
    "    # Définition de s, la taille des k blocs\n",
    "    s = n/k\n",
    "    print(\"subsample size = %.1f\" % s)\n",
    "    \n",
    "    # Construction de l'échantillon maxima\n",
    "    Y = []\n",
    "    for j in range(1,k+1):\n",
    "        inf = int(s*(j-1)+1)\n",
    "        sup = int(s*(j-1)+s)\n",
    "        Y.append(np.max(data.iloc[inf:sup]))\n",
    "    return Y"
   ]
  },
  {
   "cell_type": "markdown",
   "metadata": {},
   "source": [
    "L'échantillon des maximas ayant été construit, le choix de la distribution GEV s'impose. Il est impossible d'obtenir un $\\xi=0$ par une estimation classique des paramètres, ce qui implique qu'il sera tout aussi impossible d'expliciter une distribution de Gumbel via cette méthode. Ainsi, une autre approche à envisager serait d'utiliser un Gumbel plot. Si celle ci est linéaire, alors la distribution adaptée est celle de Gumbel. Sinon, il s'agira de celle de Frechet ou de Weibull (Dans ce cas là, la courbe obtenue possède une courbure).\n",
    "\n",
    "le Gumbel plot est implémenté comme suit:"
   ]
  },
  {
   "cell_type": "code",
   "execution_count": 281,
   "metadata": {},
   "outputs": [],
   "source": [
    "def Gumbel_plot(maximus):\n",
    "    k = len(maximus)\n",
    "    x = [np.log(-np.log((i-1/2)/k)) for i in range(1,k+1)]\n",
    "    maximus = sorted(maximus, reverse = True)\n",
    "    plt.scatter(x, maximus, c = 'blue')\n",
    "    plt.show()"
   ]
  },
  {
   "cell_type": "markdown",
   "metadata": {},
   "source": [
    "Pour un nombre de sous échantillon k de 66 et donc une taille de sous échantillon $s$ de 63 environ, correspondant à 63 jours donc un trimestre, nous essayons avec les précédentes fonctions de construire l'échantillon maxima à partir des rendements et ainsi tracer le Gumbel plot."
   ]
  },
  {
   "cell_type": "code",
   "execution_count": 283,
   "metadata": {},
   "outputs": [
    {
     "name": "stdout",
     "output_type": "stream",
     "text": [
      "data size = 4138.0\n",
      "subsample size = 62.7\n"
     ]
    }
   ],
   "source": [
    "maximum_sample = maxima_sample(Returns_train,66)"
   ]
  },
  {
   "cell_type": "code",
   "execution_count": 284,
   "metadata": {},
   "outputs": [
    {
     "data": {
      "image/png": "[encoded data removed]",
      "text/plain": [
       "<Figure size 432x288 with 1 Axes>"
      ]
     },
     "metadata": {
      "needs_background": "light"
     },
     "output_type": "display_data"
    }
   ],
   "source": [
    "# Plot de Gumbel\n",
    "Gumbel_plot(maximum_sample)"
   ]
  },
  {
   "cell_type": "markdown",
   "metadata": {},
   "source": [
    "Nous pouvons ainsi constater que le Gumbel Plot possède une courbure, ce qui signifie que la distribution du maximum rendements est soit de Frechet, soit de Weibull.\n",
    "\n",
    "Ayant ainsi écarté la possibilité que $\\xi = 0$, l'ensemble des paramètres de la distribution GEV peut être estimé par maximum de vraisemblance, sur l'échantillon de maxima."
   ]
  },
  {
   "cell_type": "markdown",
   "metadata": {},
   "source": [
    "#### Estimation des paramètres de la distribution GEV"
   ]
  },
  {
   "cell_type": "code",
   "execution_count": 285,
   "metadata": {},
   "outputs": [
    {
     "name": "stderr",
     "output_type": "stream",
     "text": [
      "C:\\Users\\Si Dan\\Anaconda3\\lib\\site-packages\\ipykernel_launcher.py:5: RuntimeWarning: divide by zero encountered in log\n",
      "  \"\"\"\n"
     ]
    },
    {
     "name": "stdout",
     "output_type": "stream",
     "text": [
      "[-0.31238529  0.02459014  0.00878052]\n"
     ]
    }
   ],
   "source": [
    "# Estimation des paramètres de la distribution GEV par maximum de vraisemblance\n",
    "param_GEV = max_log_likelihood(maximum_sample, sps.genextreme.pdf,3)\n",
    "print(param_GEV)"
   ]
  },
  {
   "cell_type": "markdown",
   "metadata": {},
   "source": [
    "Les paramètres estimés sont ainsi : $\\xi = 0.31$, $\\mu = 0.024$ et $\\sigma = 0.008$. la positivité du $\\xi$ montre que le maximum des rendements suit une loi de Frechet.\n",
    "\n",
    "Afin de vérifier l'exactitude des paramètres estimées, nous effectuons une estimation en utilisant la fonction \"genextreme.fit\" du package scipy.stat permettant de fitter une distribution GEV sur les données de maxima et d'en estimer les paramètres."
   ]
  },
  {
   "cell_type": "code",
   "execution_count": 286,
   "metadata": {},
   "outputs": [
    {
     "name": "stdout",
     "output_type": "stream",
     "text": [
      "(-0.31237796325071265, 0.024591047942784744, 0.008781520378261382)\n"
     ]
    }
   ],
   "source": [
    "# fittage de la loi de Skew Student sur les données\n",
    "param_GEV = sps.genextreme.fit(maximum_sample)\n",
    "print(param_GEV)"
   ]
  },
  {
   "cell_type": "markdown",
   "metadata": {},
   "source": [
    "Nous pouvons ainsi constater que les paramètres estimés sont très similaires, ce qui permet de valider leur exactitude. La mise en oeuvre de l'évaluation de la VaR par la méthode Bloc Maxima peut dont être entreprise."
   ]
  },
  {
   "cell_type": "markdown",
   "metadata": {},
   "source": [
    "#### Test de l'adéquation de la distribution estimée sur les données maxima"
   ]
  },
  {
   "cell_type": "markdown",
   "metadata": {},
   "source": [
    "##### Graphe des densités"
   ]
  },
  {
   "cell_type": "markdown",
   "metadata": {},
   "source": [
    "La distribution estimée sur les données maxima doit être testée afin de vérifier qu'elle soit bien adéquate avec la distribution empirique des données. Pour cela, il faut tracer le graphe de la densité théorique et empirique des données maxima pour constater s'il y bien ajustement."
   ]
  },
  {
   "cell_type": "code",
   "execution_count": 305,
   "metadata": {},
   "outputs": [
    {
     "data": {
      "text/plain": [
       "Text(0.5, 1.0, 'Distribution of Maxima Sample')"
      ]
     },
     "execution_count": 305,
     "metadata": {},
     "output_type": "execute_result"
    },
    {
     "data": {
      "image/png": "[encoded data removed]",
      "text/plain": [
       "<Figure size 432x288 with 1 Axes>"
      ]
     },
     "metadata": {
      "needs_background": "light"
     },
     "output_type": "display_data"
    }
   ],
   "source": [
    "# Traçage de la distribution empirique des blocs maxima\n",
    "seaborn.distplot(maximum_sample, color = 'green', rug = True, hist = False, label='maxima sample')\n",
    "\n",
    "pyplot.xlabel('Value')\n",
    "pyplot.ylabel('Frequency')\n",
    "pyplot.title('Distribution of Maxima Sample')"
   ]
  },
  {
   "cell_type": "code",
   "execution_count": 318,
   "metadata": {},
   "outputs": [
    {
     "data": {
      "text/plain": [
       "Text(0.5, 1.0, 'Theorical fitted GEV Distribution')"
      ]
     },
     "execution_count": 318,
     "metadata": {},
     "output_type": "execute_result"
    },
    {
     "data": {
      "image/png": "[encoded data removed]",
      "text/plain": [
       "<Figure size 432x288 with 1 Axes>"
      ]
     },
     "metadata": {
      "needs_background": "light"
     },
     "output_type": "display_data"
    }
   ],
   "source": [
    "from scipy.stats import genextreme as gev\n",
    "\n",
    "# Tracage de la distribution GEV théorique\n",
    "x = np.linspace(0,0.12,1000);\n",
    "plt.plot(x,gev.pdf(x,-0.31237796325071265, 0.024591047942784744, 0.008781520378261382))\n",
    "pyplot.xlabel('Value')\n",
    "pyplot.ylabel('Frequency')\n",
    "pyplot.title('Theorical fitted GEV Distribution')"
   ]
  },
  {
   "cell_type": "markdown",
   "metadata": {},
   "source": [
    "Nous pouvons ainsi constater que la distribution empirique et théoriques possèdent à peu près la même allure, ce qui permet de valider visuellement la distribution GEV ajusté sur les données maxima. Par la suite, il est nécessaire de procéder à une validation précise via un test statistique de type Kolmogorov Smirnov qui compare la distribution théorique GEV estimée et celle empirique de l'échantillon maxima."
   ]
  },
  {
   "cell_type": "markdown",
   "metadata": {},
   "source": [
    "##### Test statistique d'adéquation"
   ]
  },
  {
   "cell_type": "code",
   "execution_count": 320,
   "metadata": {},
   "outputs": [
    {
     "name": "stdout",
     "output_type": "stream",
     "text": [
      "Statistics=0.056, p=0.985\n",
      "La distribution théorique est adéquate avec la distribution empirique\n"
     ]
    }
   ],
   "source": [
    "# Test d'adéquation entre l'échantillon et la distribution GEV estimée\n",
    "stat, p = sps.kstest(maximum_sample, 'genextreme', args = (-0.31237796325071265, 0.024591047942784744, 0.008781520378261382))\n",
    "print('Statistics=%.3f, p=%.3f' % (stat, p))\n",
    "# Interprétation\n",
    "alpha = 0.05\n",
    "if p > alpha:\n",
    "    print('La distribution théorique est adéquate avec la distribution empirique')\n",
    "else:\n",
    "    print('La distribution théorique est inadéquate avec la distributiont empirique')"
   ]
  },
  {
   "cell_type": "markdown",
   "metadata": {},
   "source": [
    "Nous pouvons ainsi confirmer l'adéquation entre la distribution théorique de l'échantillon maxima et celle théorique GEV (de Frechet) qui a été estimée sur ces dernières, au regard du test de Kolmogorov Smirnov qui accepte à 95% l'hypothèse nulle d'adéquation des distributions. De ce fait, il est possible d'estimer la VaR par méthode Bloc Maxima en utilisant la distribution précédemment estimée."
   ]
  },
  {
   "cell_type": "markdown",
   "metadata": {},
   "source": [
    "#### Estimation de la VaR par méthode BM"
   ]
  },
  {
   "cell_type": "markdown",
   "metadata": {},
   "source": [
    "Il faut savoir que la Value at Risk de niveau $\\alpha$ des rendements selon la méthode BM se fait en réalité en calculant un quantile d'ordre $\\alpha_{BM} = \\alpha^s$ sur l'échantillon des maximas, sachant que la distribution de cette dernière suit une loi GEV. Cela est dû au fait que $F^{s}(\\alpha_{BM}) = F(\\alpha)$. Ainsi, la VaR d'horizon $h$ et de niveau $\\alpha$ des rendements est exprimée comme suit :\n",
    "\n",
    "$VaR_h(\\alpha)=-G_{\\hat{\\mu}, \\hat{\\sigma}, \\hat{\\epsilon}^{-1}}(\\alpha_{BM})$.\n",
    "\n",
    "Ainsi, le calcul de la VaR selon la méthode BM donne : "
   ]
  },
  {
   "cell_type": "code",
   "execution_count": 288,
   "metadata": {},
   "outputs": [
    {
     "name": "stdout",
     "output_type": "stream",
     "text": [
      "Confidence Level      GEV Value at Risk\n",
      "------------------  -------------------\n",
      "90%                          -0.0120428\n",
      "95%                          -0.015967\n",
      "99%                          -0.0289049\n"
     ]
    }
   ],
   "source": [
    "# Spécification des paramètres précédemment estimés\n",
    "mu_gev, sigma_gev, epsilon_gev = param_GEV\n",
    "\n",
    "# Calcul des VaR Gaussiennes asymétriques\n",
    "VaR_GEV_90 = -sps.genextreme.ppf((0.90)**(63), mu_gev, sigma_gev, epsilon_gev) # ppf = percentage point function\n",
    "VaR_GEV_95 = -sps.genextreme.ppf((0.95)**(63), mu_gev, sigma_gev, epsilon_gev)\n",
    "VaR_GEV_99 = -sps.genextreme.ppf((0.99)**(63), mu_gev, sigma_gev, epsilon_gev)\n",
    "\n",
    "# Print des valeurs\n",
    "print(tabulate([['90%', VaR_GEV_90], ['95%', VaR_GEV_95], ['99%', VaR_GEV_99]], headers = ['Confidence Level','GEV Value at Risk']))"
   ]
  },
  {
   "cell_type": "markdown",
   "metadata": {},
   "source": [
    "#### Validation ex-post"
   ]
  },
  {
   "cell_type": "markdown",
   "metadata": {},
   "source": [
    "La VaR GPD doit être une fois de plus soumis à validation via le backtesting habituel sur échantillon test :"
   ]
  },
  {
   "cell_type": "code",
   "execution_count": 455,
   "metadata": {},
   "outputs": [
    {
     "name": "stdout",
     "output_type": "stream",
     "text": [
      "La proportion d'exceptions est égale à 0.007\n",
      "p-value=0.431\n",
      "Le nombre d'exceptions au regard de la VaR GEV ne suit pas une Binomiale avec p = 1%\n"
     ]
    }
   ],
   "source": [
    "# Application de la fonction pour la VaR GEV\n",
    "backesting_GEV = Backtesting(Returns_test, VaR_GEV_99)\n",
    "n = len(Returns_test)\n",
    "\n",
    "# Calcul de la proportion d'exceptions\n",
    "prop_GEV = backesting_GEV/n\n",
    "print(\"La proportion d'exceptions est égale à %.3f\" % prop_GEV)\n",
    "\n",
    "# Test d'adéquation\n",
    "p_value = sps.binom_test(x = backesting_GEV, n = n, p=0.01)\n",
    "print('p-value=%.3f' % p_value)\n",
    "# Interprétation\n",
    "alpha = 0.05\n",
    "if p > alpha:\n",
    "    print(\"Le nombre d'exceptions au regard de la VaR GEV suit bien une Binomiale avec p = 1%\")\n",
    "else:\n",
    "    print(\"Le nombre d'exceptions au regard de la VaR GEV ne suit pas une Binomiale avec p = 1%\")"
   ]
  },
  {
   "cell_type": "markdown",
   "metadata": {},
   "source": [
    "La p-valeur ne permet pas de valider la VaR calculée par la méthode des blocs Maxima. Cependant, nous pouvons constater que la proportion d'exceptions, égale à $0.7\\%$, se rapproche davantage du benchmark de $1\\%$.\n",
    "\n",
    "Une autre approche pour calculer la VaR TVE s'appelle la méthode PEak Over Threshold, qui sera étudiée dans le paragraphe qui suit. L'idée est que plutôt que d’estimer la loi du maximum de l’échantillon, on va s'intéresser au comportement des pertes au-delà d'un certain seuil."
   ]
  },
  {
   "cell_type": "markdown",
   "metadata": {},
   "source": [
    "### Modélisation : Méthode Peak Over Threshold"
   ]
  },
  {
   "cell_type": "markdown",
   "metadata": {},
   "source": [
    "Nous nous intéressons ici au comportement des pertes au delà d'un certain seuil. Ainsi, pour un seuil u arbitrairement choisi, une fonction stockant les rendements en excès par rapport à ce seuil est implémenté."
   ]
  },
  {
   "cell_type": "markdown",
   "metadata": {},
   "source": [
    "#### Capture des rendements en excès par rapport au seuil u"
   ]
  },
  {
   "cell_type": "code",
   "execution_count": 140,
   "metadata": {},
   "outputs": [],
   "source": [
    "# On crée un vecteur contenant les rendements ayant dépassé le seul u\n",
    "def excess_returns(data, u):\n",
    "    n = len(data)\n",
    "    Z = []\n",
    "    for i in range (n):\n",
    "        if data[i] > u:\n",
    "            Z.append(data[i])\n",
    "    return Z"
   ]
  },
  {
   "cell_type": "markdown",
   "metadata": {},
   "source": [
    "Ce faisant, on suppose dans la pratique que les excès suivent exactement une loi GPD pour un seuil suffisamment élevé, qui doit être déterminé."
   ]
  },
  {
   "cell_type": "markdown",
   "metadata": {},
   "source": [
    "#### Détermination du seuil optimal u"
   ]
  },
  {
   "cell_type": "markdown",
   "metadata": {},
   "source": [
    "La détermination se fait à l'aide d'un outil graphique, le Mean-excess plot, défini par $(u, e_n(u)), u \\in [x_{(1)}, x_{(n)}]$, avec $e_n(u) = \\frac{1}{N_u} \\sum_{i=1}^{n}(x_i-u)_{+} = \\frac{1}{N_u} \\sum_{i=1}^{N_u}(z_i-u)$ (avec $z_i$ les composantes de l'échantillon des rendements en excès) qui est l'estimateur empirique de $e(u) = E[X-u|X>u]$ la moyenne des excès, égale à $\\frac{\\sigma + \\epsilon u}{1 - \\epsilon}$ pour la loi GDP.\n",
    "\n",
    "Les excès au delà de u suivent une loi GPD lorsque le Mean-excess plot est linéaire. L'estimateur $e_n(u)$ est implémentée comme suit."
   ]
  },
  {
   "cell_type": "code",
   "execution_count": 35,
   "metadata": {},
   "outputs": [],
   "source": [
    "# Implémentation du quantile empirique\n",
    "def e_n(data, u):\n",
    "    excess_data = excess_returns(data, u)\n",
    "    N_u = len(excess_data)\n",
    "    e_n = 0\n",
    "    for i in range (N_u):\n",
    "        e_n += (1/N_u)*(excess_data[i]- u)\n",
    "    return e_n"
   ]
  },
  {
   "cell_type": "markdown",
   "metadata": {},
   "source": [
    "Ce qui permet ainsi de tracer le plot du Mean-excess :"
   ]
  },
  {
   "cell_type": "code",
   "execution_count": 36,
   "metadata": {},
   "outputs": [],
   "source": [
    "# Implémentation du mean excess plot\n",
    "def mean_excess_plot(data, size):\n",
    "    u = np.linspace(0, np.percentile(data, 98), size)\n",
    "    en = []\n",
    "    for i in u:\n",
    "        en.append(e_n(data, i))\n",
    "    plt.plot(u,en)"
   ]
  },
  {
   "cell_type": "code",
   "execution_count": 37,
   "metadata": {},
   "outputs": [
    {
     "data": {
      "image/png": "[encoded data removed]",
      "text/plain": [
       "<Figure size 432x288 with 1 Axes>"
      ]
     },
     "metadata": {
      "needs_background": "light"
     },
     "output_type": "display_data"
    }
   ],
   "source": [
    "mean_excess_plot(Returns_train, 1000)"
   ]
  },
  {
   "cell_type": "markdown",
   "metadata": {},
   "source": [
    "Ainsi, au vu du graphique, le seuil optimal u à prendre est égal à 0.018."
   ]
  },
  {
   "cell_type": "markdown",
   "metadata": {},
   "source": [
    "#### Estimation du maximum de vraisemblance"
   ]
  },
  {
   "cell_type": "markdown",
   "metadata": {},
   "source": [
    "Sachant que le seuil u pour lequel les retours en excès suivent une loi GPD a été choisi, les paramètres de ladite loi doivent être estimés par maximum de vraisemblance. Il convient tout d'abord de définir cette densité ;\n",
    "\n",
    "$$\n",
    "h_{\\sigma, \\xi}(y) = \\frac{1}{\\sigma}[1+\\xi \\frac{y}{\\sigma}]^{-\\frac{(1+\\xi)}{\\xi}}\n",
    "$$.\n",
    "\n",
    "Cette fonction est ensuite implémentée sur Python :"
   ]
  },
  {
   "cell_type": "code",
   "execution_count": 268,
   "metadata": {},
   "outputs": [],
   "source": [
    "# Densité de Pareto\n",
    "def f_pareto(x, *params):\n",
    "    # Chargement des paramètres\n",
    "    sigma, xi = params\n",
    "    \n",
    "    # Calcul de la densité\n",
    "    dens = (1/sigma)*(1+xi*(x/sigma))**(-(1+xi)/xi)\n",
    "    return dens"
   ]
  },
  {
   "cell_type": "code",
   "execution_count": 269,
   "metadata": {},
   "outputs": [
    {
     "name": "stdout",
     "output_type": "stream",
     "text": [
      "[ 0.03502085 -0.33328487]\n"
     ]
    },
    {
     "name": "stderr",
     "output_type": "stream",
     "text": [
      "C:\\Users\\Si Dan\\Anaconda3\\lib\\site-packages\\ipykernel_launcher.py:7: RuntimeWarning: invalid value encountered in power\n",
      "  import sys\n",
      "C:\\Users\\Si Dan\\Anaconda3\\lib\\site-packages\\ipykernel_launcher.py:5: RuntimeWarning: invalid value encountered in log\n",
      "  \"\"\"\n"
     ]
    }
   ],
   "source": [
    "## Création de l'échantillon des rendements en excès au delà du seuil u = 0.018\n",
    "excess_return = excess_returns(Returns_train, 0.018)\n",
    "\n",
    "# Estimation des paramètres de la distribution GEV par maximum de vraisemblance\n",
    "param_GPD = max_log_likelihood(excess_return, f_pareto,2)\n",
    "print(param_GPD)"
   ]
  },
  {
   "cell_type": "markdown",
   "metadata": {},
   "source": [
    "Ainsi, les paramètres de la loi de Pareto estimés par maximum de vraisemblance sont : $\\sigma = 0.035$ et $\\xi =-0.33$"
   ]
  },
  {
   "cell_type": "markdown",
   "metadata": {},
   "source": [
    "#### Estimation des paramètres par la méthode des moments"
   ]
  },
  {
   "cell_type": "markdown",
   "metadata": {},
   "source": [
    "Une autre approche pour estimer les paramètres de la loi de Pareto Généralisée sur l'échantillon des minima est d'utiliser la méthode des moments. Pour cela, sachant qu'il y a deux paramètres $\\sigma$ et $\\xi$ à estimer, les moments empiriques d'ordre 1 et 2 seront calculés et doivent être égaux aux deux moments théoriques calculés avec les deux inconnus. Le système d'équation sera par la suite résolu afin d'obtenir une estimation des paramètres en question.\n",
    "\n",
    "Rappelons par dérivation que le moment d'ordre $r$ de la Pareto généralisée est égale à :\n",
    "\n",
    "$$\n",
    "\\omega_r(\\sigma,\\xi) = \\frac{\\sigma}{(r+1)(r+1+\\xi)}\n",
    "$$\n",
    "\n",
    "Ce qui permet d'obtenir l'expression des deux paramètres : \n",
    "\n",
    "$$\n",
    "\\sigma = \\frac{2\\omega_0 \\omega_1}{\\omega_0- 2\\omega_1}\n",
    "$$ \n",
    "$$\n",
    "\\xi = 2- \\frac{\\omega_0}{\\omega_0- 2\\omega_1}\n",
    "$$\n",
    "\n",
    "D'un autre côté, les moments d'ordre $r$ empiriques se calculent comme suit, en considérant $(z_1,...,z_n)$ l'échantillon des excès:\n",
    "\n",
    "$$\n",
    "\\hat{\\omega}_r(\\sigma,\\xi) = \\frac{1}{N_u}\\sum_{i=1}^{N_u} z_i \\hat{F}^r(z_i), \\ r\\in (0,1)\n",
    "$$\n",
    "\n",
    "avec $\\hat{F}^r$ la fonction de répartition empirique de la loi de Pareto Généralisée.\n",
    "\n",
    "Ainsi, il convient d'implémenter la fonction de répartition empirique, évaluée à une certaine observation $z_i$:"
   ]
  },
  {
   "cell_type": "code",
   "execution_count": 666,
   "metadata": {},
   "outputs": [],
   "source": [
    "def ecdf(data, i):\n",
    "    n = len(data)\n",
    "    x = np.sort(data)\n",
    "    cumul = np.cumsum(x)/n\n",
    "    cdf = cumul[i]\n",
    "    return cdf"
   ]
  },
  {
   "cell_type": "markdown",
   "metadata": {},
   "source": [
    "Ainsi, les moments empiriques d'ordre $r$ peuvent être implémentés :"
   ]
  },
  {
   "cell_type": "code",
   "execution_count": 667,
   "metadata": {},
   "outputs": [],
   "source": [
    "def empirical_moment(data, r):\n",
    "    N_u = len(data)\n",
    "    mom = 0\n",
    "    for i in range (N_u):\n",
    "        mom += data[i]*np.power(ecdf(data, i),r)\n",
    "    return (1/N_u)*mom"
   ]
  },
  {
   "cell_type": "code",
   "execution_count": 678,
   "metadata": {},
   "outputs": [
    {
     "name": "stdout",
     "output_type": "stream",
     "text": [
      "0.0006254936841834473 0.9776188256046514\n"
     ]
    }
   ],
   "source": [
    "w_0 = empirical_moment(excess_return, 0)\n",
    "w_1 = empirical_moment(excess_return, 1)\n",
    "\n",
    "sigma = (2*w_0*w_1)/(w_0 - 2*w_1)\n",
    "xi = 2 - (w_0/(w_0 - 2*w_1))\n",
    "\n",
    "print(sigma, xi)"
   ]
  },
  {
   "cell_type": "markdown",
   "metadata": {},
   "source": [
    "Les résultats entre les estimations par maximum de vraisemblance et par la méthode des moments sont significativement différents, notamment pour le paramètre $\\xi$. De ce fait, pa sécurité, il a été décidé de garder les estimations par maximum de vraisemblance."
   ]
  },
  {
   "cell_type": "code",
   "execution_count": 679,
   "metadata": {},
   "outputs": [],
   "source": [
    "# Définition des paramètres pour la suite du problème\n",
    "sigma = 0.035\n",
    "xi = -0.33"
   ]
  },
  {
   "cell_type": "markdown",
   "metadata": {},
   "source": [
    "#### Validation ex ante"
   ]
  },
  {
   "cell_type": "markdown",
   "metadata": {},
   "source": [
    "##### Graphe des densités"
   ]
  },
  {
   "cell_type": "markdown",
   "metadata": {},
   "source": [
    "Une fois de plus, la distribution estimée sur les données minimas (ou pertes en excès) doit être testée afin de vérifier qu'elle soit bien adéquate avec la distribution empirique des données. Pour cela, il faut tracer le graphe de la densité théorique et empirique des données maxima pour constater s'il y bien ajustement."
   ]
  },
  {
   "cell_type": "code",
   "execution_count": 680,
   "metadata": {},
   "outputs": [
    {
     "data": {
      "text/plain": [
       "Text(0.5, 1.0, 'Distribution of Minima Sample')"
      ]
     },
     "execution_count": 680,
     "metadata": {},
     "output_type": "execute_result"
    },
    {
     "data": {
      "image/png": "[encoded data removed]",
      "text/plain": [
       "<Figure size 432x288 with 1 Axes>"
      ]
     },
     "metadata": {
      "needs_background": "light"
     },
     "output_type": "display_data"
    }
   ],
   "source": [
    "# Traçage de la distribution empirique des données minima\n",
    "seaborn.distplot(excess_return, color = 'green', rug = True, hist = False, label='maxima sample')\n",
    "\n",
    "pyplot.xlabel('Value')\n",
    "pyplot.ylabel('Frequency')\n",
    "pyplot.title('Distribution of Minima Sample')"
   ]
  },
  {
   "cell_type": "code",
   "execution_count": 681,
   "metadata": {},
   "outputs": [
    {
     "name": "stderr",
     "output_type": "stream",
     "text": [
      "C:\\Users\\Si Dan\\Anaconda3\\lib\\site-packages\\ipykernel_launcher.py:7: RuntimeWarning: invalid value encountered in power\n",
      "  import sys\n"
     ]
    },
    {
     "data": {
      "text/plain": [
       "Text(0.5, 1.0, 'Theorical fitted GPD Distribution')"
      ]
     },
     "execution_count": 681,
     "metadata": {},
     "output_type": "execute_result"
    },
    {
     "data": {
      "image/png": "[encoded data removed]",
      "text/plain": [
       "<Figure size 432x288 with 1 Axes>"
      ]
     },
     "metadata": {
      "needs_background": "light"
     },
     "output_type": "display_data"
    }
   ],
   "source": [
    "param_GPD = [sigma,xi]\n",
    "\n",
    "# Tracage de la distribution GEV théorique\n",
    "x = np.linspace(0,0.12,1000);\n",
    "plt.plot(x,f_pareto(x, *param_GPD))\n",
    "pyplot.xlabel('Value')\n",
    "pyplot.ylabel('Frequency')\n",
    "pyplot.title('Theorical fitted GPD Distribution')"
   ]
  },
  {
   "cell_type": "markdown",
   "metadata": {},
   "source": [
    "Malheureusement, le graphe de la distribution empirique et celle théorique ne concorde pas visuellement... Il serait avisé d'effectuer des tests statistiques plus poussés afin d'étudier l'adéquation entre la distribution théorique et empirique pour pouvoir valider cette modélisation."
   ]
  },
  {
   "cell_type": "markdown",
   "metadata": {},
   "source": [
    "##### Test statistique d'adéquation"
   ]
  },
  {
   "cell_type": "markdown",
   "metadata": {},
   "source": [
    "De même, il convient de tester statistiquement l'adéquation entre la distribution empirique de l'échantillon minima et la distribution théorique de la loi GPD avec les paramètres estimés sur l'échantillon. Le traçage du QQPlot, le test de Kolmogorov-Smirnov ou le test de Chi-deux sont tout a fait adaptés.\n",
    "\n",
    "Cependant, à cause du fait que la loi GPD a été implémentée à la main et qu'elle ne figure pas dans les fonctions du package scipy.stat, il est uniquement possible d'effectuer un test de Chi-deux d'indépendance entre l'échantillon des minimas, et un échantillon dit 'théorique', résultant de la simulation d'une variable aléatoire de loi GPD avec les paramètres estimés par maximum de vraisemblance.\n",
    "\n",
    "Pour la simulation, la méthode de la transformée inverse sera utilisée car on possède une formule explicite de l'inverse de la fonction de répartition de la loi GPD.\n",
    "\n",
    "Il s'agira donc dans un premier temps de générer un échantillon $(U_1,...U_n)$ de loi uniforme $U[0,1]$, sur laquelle sera\n",
    "appliqué l'inverse de la fonction de répartition. Ainsi, l'échantillon : $(H_{\\hat{\\sigma}, \\hat{\\xi}}^{-1}(U_1),...H_{\\hat{\\sigma}, \\hat{\\xi}}^{-1}(U_n))$ sera de loi GPD.\n",
    "\n",
    "L'échantillon théorique, devant être de taille $n$ égale à celle de l'échantillon empirique des maximas, servira pour effectuer le test de Chi Deux ainsi que pour le QQPlot\n",
    "\n",
    "La fonction de répartition de la loi GPD de paramètres $(\\hat{\\sigma}, \\hat{\\xi})$ est  exprimée telle que :\n",
    "\n",
    "$$\n",
    "H_{\\hat{\\sigma}, \\hat{\\xi}}(y) = \n",
    "\\left\\{\n",
    "    \\begin{array}{ll}\n",
    "    1- (1+ \\xi \\frac{y}{\\hat{\\sigma}})^{-\\frac{1}{\\hat{\\xi}}} & \\mbox{si } \\xi \\ne 0  \\\\\n",
    "    1- exp(-\\frac{y}{\\hat{\\sigma}}) & \\mbox{si } \\xi = 0 \n",
    "    \\end{array}\n",
    "\\right.\n",
    "$$\n",
    "\n",
    "Ce qui permet ainsi d'obtenir le quantile d'ordre $\\alpha$ de la loi GPD en inversant sa fonction de répartition. Cette opération permet d'obtenir :\n",
    "\n",
    "$$\n",
    "H_{\\hat{\\sigma}, \\hat{\\xi}}^{-1}(\\alpha) = \n",
    "\\left\\{\n",
    "    \\begin{array}{ll}\n",
    "    \\frac{\\hat{\\sigma}}{\\hat{\\xi}}[(1- \\alpha)^{-\\xi} -1] & \\mbox{si } \\xi \\ne 0  \\\\\n",
    "    - \\hat{\\sigma} ln(1-\\alpha) & \\mbox{si } \\xi = 0 \n",
    "    \\end{array}\n",
    "\\right.\n",
    "$$\n",
    "\n",
    "La simulation de la loi GPD peut donc être effectuée:"
   ]
  },
  {
   "cell_type": "code",
   "execution_count": 682,
   "metadata": {},
   "outputs": [],
   "source": [
    "# Quantile d'ordre alpha de la loi GPD\n",
    "def GPD_ppf(alpha, sigma, xi):\n",
    "    if xi != 0:\n",
    "        GDP_ppf_value = (sigma/xi)*((1-alpha)**(-xi)-1)\n",
    "    else :\n",
    "        GDP_ppf_value = -sigma*math.log(1-alpha)\n",
    "    return GDP_ppf_value"
   ]
  },
  {
   "cell_type": "code",
   "execution_count": 683,
   "metadata": {},
   "outputs": [],
   "source": [
    "unif_sample = np.random.rand(len(excess_return))\n",
    "theorical_estimated_GPD_sample= []\n",
    "for i in range (len(excess_return)):\n",
    "    theorical_estimated_GPD_sample.append(GPD_ppf(unif_sample[i], sigma, xi))"
   ]
  },
  {
   "cell_type": "markdown",
   "metadata": {},
   "source": [
    "Ainsi, le test d'adéquation de Chi-Deux peut être effectuée :"
   ]
  },
  {
   "cell_type": "code",
   "execution_count": 684,
   "metadata": {},
   "outputs": [
    {
     "name": "stdout",
     "output_type": "stream",
     "text": [
      "Statistics=18.928, p=1.000\n",
      "La distribution théorique est adéquate avec la distribution empirique\n"
     ]
    }
   ],
   "source": [
    "# Test d'adéquation entre l'échantillon et la distribution GEV estimée\n",
    "stat, p = sps.chisquare(excess_return, theorical_estimated_GPD_sample)\n",
    "print('Statistics=%.3f, p=%.3f' % (stat, p))\n",
    "# Interprétation\n",
    "alpha = 0.05\n",
    "if p > alpha:\n",
    "    print('La distribution théorique est adéquate avec la distribution empirique')\n",
    "else:\n",
    "    print('La distribution théorique est inadéquate avec la distributiont empirique')"
   ]
  },
  {
   "cell_type": "markdown",
   "metadata": {},
   "source": [
    "L'adéquation de la distribution théorique selon les paramètres estimés avec la distribution théorique de l'échantillon des minima permet de l'approuver, et d'effectuer le calcul de la VaR selon la méthoède Peak Over Threshold, qui passe dans un premier temps par un redressement du niveau de quantile."
   ]
  },
  {
   "cell_type": "markdown",
   "metadata": {},
   "source": [
    "#### Redressement du niveau de quantile"
   ]
  },
  {
   "cell_type": "markdown",
   "metadata": {},
   "source": [
    "Etant donné que la Value at Risk est ici calculée avec l'échantillon des Maximas, l’estimation de la VaRà partir de la GEV ne doit pas se faire de niveau $\\alpha$ mais de niveau $\\alpha_{POT}$ qui est défini par\n",
    "\n",
    "$$\n",
    "1 - \\alpha_{POT} = \\frac{n}{N_u} (1- \\alpha)\n",
    "$$\n",
    "\n",
    "C'est à dire :\n",
    "\n",
    "$$\n",
    "\\alpha_{POT} = 1 - \\frac{n}{N_u} (1- \\alpha)\n",
    "$$\n",
    "\n",
    "avec :\n",
    "- $n$ la taille de l'échantillon totale\n",
    "- $N_u$ la taille de l'échantillon des pertes extrêmes\n",
    "\n",
    "Le niveau $\\alpha_{POT}$ peut donc être calculée grâce à la fonction suivante :"
   ]
  },
  {
   "cell_type": "code",
   "execution_count": 685,
   "metadata": {},
   "outputs": [],
   "source": [
    "def alpha_POT(alpha, data):\n",
    "    # Détermination des pertes extrêmes selon le seuil u = 0.018\n",
    "    excess_return = excess_returns(data, 0.018)\n",
    "    \n",
    "    # taille de l'échantillon initial et celui des pertes extrêmes\n",
    "    n = len(data)\n",
    "    N_u = len(excess_return)\n",
    "    \n",
    "    # Calcul du niveau alpha_pot\n",
    "    alphapot = 1 - (n/N_u)*(1-alpha)\n",
    "    \n",
    "    # Return\n",
    "    return alphapot"
   ]
  },
  {
   "cell_type": "markdown",
   "metadata": {},
   "source": [
    "#### Calcul de la VaR"
   ]
  },
  {
   "cell_type": "markdown",
   "metadata": {},
   "source": [
    "La Value at Risk de niveau de confiance $\\alpha$ à horizon d’investissement $h$ modélisée par la loi GPD est donnée par :\n",
    "    \n",
    "$$\n",
    "VaR_h(\\alpha) = - H_{\\hat{\\sigma}, \\hat{\\xi}}^{-1}(\\alpha_{POT})\n",
    "$$\n",
    "\n",
    "avec $H_{\\hat{\\sigma}, \\hat{\\xi}}^{-1}(\\alpha_{POT})$ le quantile d'ordre $\\alpha_{POT}$ de la loi GPD qui peut être obtenu en inversant sa fonction de répartition. Rappelons que l'inverse de sa fonction de répartition est telle que :\n",
    "\n",
    "$$\n",
    "H_{\\hat{\\sigma}, \\hat{\\xi}}^{-1}(\\alpha) = \n",
    "\\left\\{\n",
    "    \\begin{array}{ll}\n",
    "    \\frac{\\hat{\\sigma}}{\\hat{\\xi}}[(1- \\alpha)^{-\\xi} -1] & \\mbox{si } \\xi \\ne 0  \\\\\n",
    "    - \\hat{\\sigma} ln(1-\\alpha) & \\mbox{si } \\xi = 0 \n",
    "    \\end{array}\n",
    "\\right.\n",
    "$$\n",
    "\n",
    "Ainsi, la Value at Risk TVE selon la méthode de la distribution des excès peut être calculée :"
   ]
  },
  {
   "cell_type": "code",
   "execution_count": 686,
   "metadata": {
    "scrolled": true
   },
   "outputs": [
    {
     "name": "stdout",
     "output_type": "stream",
     "text": [
      "Confidence Level      GPD Value at Risk\n",
      "------------------  -------------------\n",
      "90%                          0.00800482\n",
      "95%                         -0.0153174\n",
      "99%                         -0.0527082\n"
     ]
    }
   ],
   "source": [
    "# Spécification des paramètres précédemment estimés\n",
    "alpha_POT_90 = alpha_POT(0.90, Returns_train)\n",
    "alpha_POT_95 = alpha_POT(0.95, Returns_train)\n",
    "alpha_POT_99 = alpha_POT(0.99, Returns_train)\n",
    "\n",
    "# Calcul des VaR TVE selon la loi GPD\n",
    "VaR_GPD_90 = - GPD_ppf(alpha_POT_90, sigma, xi)\n",
    "VaR_GPD_95 = - GPD_ppf(alpha_POT_95, sigma, xi)\n",
    "VaR_GPD_99 = - GPD_ppf(alpha_POT_99, sigma, xi)\n",
    "\n",
    "# Print des valeurs\n",
    "print(tabulate([['90%', VaR_GPD_90], ['95%', VaR_GPD_95], ['99%', VaR_GPD_99]], headers = ['Confidence Level','GPD Value at Risk']))"
   ]
  },
  {
   "cell_type": "markdown",
   "metadata": {},
   "source": [
    "#### Validation Ex Post"
   ]
  },
  {
   "cell_type": "markdown",
   "metadata": {},
   "source": [
    "La VaR GPD doit être soumis à validation via le backtesting habituel sur échantillon test :"
   ]
  },
  {
   "cell_type": "code",
   "execution_count": 611,
   "metadata": {},
   "outputs": [
    {
     "name": "stdout",
     "output_type": "stream",
     "text": [
      "La proportion d'exceptions est égale à 0.001\n",
      "p-value=0.001\n",
      "Le nombre d'exceptions au regard de la VaR GPD suit bien une Binomiale avec p = 1%\n"
     ]
    }
   ],
   "source": [
    "# Application de la fonction pour la VaR Skew Student\n",
    "backesting_GPD = Backtesting(Returns_test, VaR_GPD_99)\n",
    "n = len(Returns_test)\n",
    "\n",
    "# Calcul de la proportion d'exceptions\n",
    "prop_GPD = backesting_GPD/n\n",
    "print(\"La proportion d'exceptions est égale à %.3f\" % prop_GPD)\n",
    "\n",
    "# Test d'adéquation\n",
    "p_value = sps.binom_test(x = backesting_GPD, n = n, p=0.01)\n",
    "print('p-value=%.3f' % p_value)\n",
    "# Interprétation\n",
    "alpha = 0.05\n",
    "if p > alpha:\n",
    "    print(\"Le nombre d'exceptions au regard de la VaR GPD suit bien une Binomiale avec p = 1%\")\n",
    "else:\n",
    "    print(\"Le nombre d'exceptions au regard de la VaR GPD ne suit pas une Binomiale avec p = 1%\")"
   ]
  },
  {
   "cell_type": "markdown",
   "metadata": {},
   "source": [
    "Malheureusement, nous pouvons constater une fois de plus que la VaR selon la méthode de la distribution des excès ne peut être validé par le test car elle est trop conservatrice.\n",
    "\n",
    "Le caractère trop conservatrice des VaR peut être expliqué par la présence dans l'échantillon d'apprentissage d'évènements exceptionnelles ayant entraînés des pertes extrêmes, telles que la crise de 2007-2008, ou bien la crise liée à l'éclatement de la bulle internet en 2001. Cela a ainsi pour conséquence le calcul d'une VaR très conservatrice, qui ne peut être appliquée sur l'échantillon test qui elle, est dépourvue d'évènements extrêmes.\n",
    "\n",
    "Cela peut s'expliquer que la VaR n'est pas statique et varie temporellement. Cela est dû au fait que les rendements ne sont en réalité pas indépendant et identiquement distribués, contrairement à l'hypothèse qui a été faite pour le calcul des VaR précédentes. En effet, les rendements présentent des autocorrélations qu'il convient de modéliser par l'analyse de séries temporelles. C'est ainsi que la VaR doit être calculé chaque jour par ce que l'on appelle le calcul de la VaR dynamique.\n",
    "\n",
    "Par ailleurs, les rendements sont une distributions à queues épaisses et il est possible de constater des phénomènes de volatility clustering. Tous ces éléments plaident en faveur d'un Calcul d'une VaR dynamique avec modélisation de la volatilité conditionnelle, et met en exergue les limites du calcul d'une VaR statique temporellement, qui est irréaliste dans le cas pratique. A contrario, le calcul d'une VaR sur une période de temps dépourvue d'évènements extrêmes peut se révéler davantage dévastateur en cas de crise ou de période stressée."
   ]
  },
  {
   "cell_type": "markdown",
   "metadata": {},
   "source": [
    "## Calcul de la VaR dynamique"
   ]
  },
  {
   "cell_type": "markdown",
   "metadata": {},
   "source": [
    "La Value at Risk dynamique sera estimée à partir de l'échantillon d'apprentissage des rendements logarithmiques qui a été préalablement définie dans la première partie. Etant une série temporelle, cet échantillon sera analysée en tant que tel."
   ]
  },
  {
   "cell_type": "markdown",
   "metadata": {},
   "source": [
    "### Etudes de la série temporelle"
   ]
  },
  {
   "cell_type": "markdown",
   "metadata": {},
   "source": [
    "##### Statistiques descriptives"
   ]
  },
  {
   "cell_type": "markdown",
   "metadata": {},
   "source": [
    "La série temporelle peut être visualisée dans un premier temps :"
   ]
  },
  {
   "cell_type": "code",
   "execution_count": 26,
   "metadata": {},
   "outputs": [
    {
     "data": {
      "text/plain": [
       "<matplotlib.axes._subplots.AxesSubplot at 0x20834948708>"
      ]
     },
     "execution_count": 26,
     "metadata": {},
     "output_type": "execute_result"
    },
    {
     "data": {
      "image/png": "[encoded data removed]",
      "text/plain": [
       "<Figure size 1296x576 with 1 Axes>"
      ]
     },
     "metadata": {
      "needs_background": "light"
     },
     "output_type": "display_data"
    }
   ],
   "source": [
    "Log_Returns_train.plot(figsize = (18,8))"
   ]
  },
  {
   "cell_type": "markdown",
   "metadata": {},
   "source": [
    "La série temporelle des rendements logarithmiques semble visuellement stationnaire, avec une moyenne semblant être égale à 0. L’hétéroscédasticité conditionnelle peut être observée au vue des périodes de fortes volatilités, aux alentours de 2011-2012, puis de 2018-2019 par exemple, puis d’autres de faibles volatilités. Ainsi, sans surprise, la série semble pouvoir être modélisée par un modèle GARCH, comme pour la grande majorité des séries financières, sous réserve de validation des tests statistiques."
   ]
  },
  {
   "cell_type": "markdown",
   "metadata": {},
   "source": [
    "Une première étude descriptive peut être faite sur la série temporelle. Par ailleurs, le graphe qqplot peut être tracé afin de vérifier l'adéquation de la loi de la distribution de lasérie avec celle de la loi normale."
   ]
  },
  {
   "cell_type": "code",
   "execution_count": 20,
   "metadata": {},
   "outputs": [
    {
     "data": {
      "text/plain": [
       "count    4138.000000\n",
       "mean       -0.000300\n",
       "std         0.015004\n",
       "min        -0.104634\n",
       "25%        -0.007373\n",
       "50%         0.000204\n",
       "75%         0.007553\n",
       "max         0.095789\n",
       "Name: Log_Returns, dtype: float64"
      ]
     },
     "execution_count": 20,
     "metadata": {},
     "output_type": "execute_result"
    }
   ],
   "source": [
    "Log_Returns_train.describe()"
   ]
  },
  {
   "cell_type": "markdown",
   "metadata": {},
   "source": [
    "Nous pouvons préalablement constater que la moyenne de la série semble visuellement très proche de zéro, pouvant ainsi faire penser qu'il s'agit d'un bruit blanc. En général, il est assez fréquent de voir que les rendements logarithmiques possèdent des moyennes nulles. Il convient donc de vérifier si la série est un bruit blanc ou non par l'étude de sa stationarité, puis la détection d'autocorrélations. Et en cas de présence, analyser leur nombre."
   ]
  },
  {
   "cell_type": "markdown",
   "metadata": {},
   "source": [
    "##### Etude de la stationnarité et analyse des autocorrélations de la série"
   ]
  },
  {
   "cell_type": "markdown",
   "metadata": {},
   "source": [
    "La présence ou non de stationnarité concernant la série temporelle peut être détectée via un test de Dickey Fuller :"
   ]
  },
  {
   "cell_type": "code",
   "execution_count": 30,
   "metadata": {},
   "outputs": [
    {
     "name": "stdout",
     "output_type": "stream",
     "text": [
      "Statistics=-21.623, p=0.000\n",
      "La série est stationnaire\n"
     ]
    }
   ],
   "source": [
    "import statsmodels.api as sm\n",
    "\n",
    "results = sm.tsa.stattools.adfuller(Log_Returns_train)\n",
    "stat = results[0]\n",
    "p = results[1]\n",
    "\n",
    "print('Statistics=%.3f, p=%.3f' % (stat, p))\n",
    "# Interprétation\n",
    "alpha = 0.05\n",
    "if p > alpha:\n",
    "    print(\"La série n'est pas stationnaire\")\n",
    "else:\n",
    "    print(\"La série est stationnaire\")"
   ]
  },
  {
   "cell_type": "markdown",
   "metadata": {},
   "source": [
    "Nous pouvons ainsi confirmer que la série est stationnaire. Ce qui permet, en cas de présence d'autocorrélation dans la série, de la modéliser par un processus AR.\n",
    "\n",
    "Le test de Ljung Box permet d'établir si la série temporelle est un bruit blanc ou non, c'est à dire si elle est dépourvue d'autocorrélations."
   ]
  },
  {
   "cell_type": "code",
   "execution_count": 27,
   "metadata": {},
   "outputs": [
    {
     "name": "stdout",
     "output_type": "stream",
     "text": [
      "Statistics=52.549, p=0.000\n",
      "La série présente des autocorrélations\n"
     ]
    }
   ],
   "source": [
    "stat, p = sm.stats.acorr_ljungbox(Log_Returns_train, lags=[10])\n",
    "print('Statistics=%.3f, p=%.3f' % (stat, p))\n",
    "# Interprétation\n",
    "alpha = 0.05\n",
    "if p > alpha:\n",
    "    print('La série est un bruit blanc')\n",
    "else:\n",
    "    print('La série présente des autocorrélations')"
   ]
  },
  {
   "cell_type": "markdown",
   "metadata": {},
   "source": [
    "Nous pouvons ainsi constater que la série des rendements logarithmiques n'est pas un bruit blanc et est donc pourvue d'autocorrélations. Sachant qu'elle est stationnaire, il est possible de la modéliser par un modèle AR d'ordre $p$ à déterminer. Il convient donc de tracer le graphe ACF afin de compter le nombre d'autocorrélation et ainsi l'ordre $p$ de l'AR à modéliser."
   ]
  },
  {
   "cell_type": "code",
   "execution_count": 33,
   "metadata": {},
   "outputs": [
    {
     "data": {
      "image/png": "[encoded data removed]",
      "text/plain": [
       "<Figure size 432x288 with 1 Axes>"
      ]
     },
     "execution_count": 33,
     "metadata": {},
     "output_type": "execute_result"
    },
    {
     "data": {
      "image/png": "[encoded data removed]",
      "text/plain": [
       "<Figure size 432x288 with 1 Axes>"
      ]
     },
     "metadata": {
      "needs_background": "light"
     },
     "output_type": "display_data"
    }
   ],
   "source": [
    "from statsmodels.graphics.tsaplots import plot_acf\n",
    "\n",
    "plot_acf(Log_Returns_train)"
   ]
  },
  {
   "cell_type": "markdown",
   "metadata": {},
   "source": [
    "le graphe ACF semble montrer qu'aucune autocorrélation hormis la variance ne semble significative. Pour autant, le test de Ljung box a détecté la présence d'autocorrélation. Il semble donc judicieux de modéliser la série temporelle des rendements logarithmiques par un AR(1). Plus précisément, le modèle AR(1) permet ainsi de modéliser la moyenne des rendements logarithmiques conditionnellement à son passé au temps précédent.\n",
    "\n",
    "Cependant, la présence d'hétéroscédasticité conditionnelle a été constatée visuellement, ce qui laisserait sous entendre la présence d'un effet ARCH, sous condition de confirmation des tests statistiques. Pour cela, il convient de tester cette présence. La première étape consiste au traçage du QQplot sur la série des log-rendements."
   ]
  },
  {
   "cell_type": "markdown",
   "metadata": {},
   "source": [
    "##### Traçage du QQPlot"
   ]
  },
  {
   "cell_type": "code",
   "execution_count": 21,
   "metadata": {},
   "outputs": [
    {
     "data": {
      "image/png": "[encoded data removed]",
      "text/plain": [
       "<Figure size 432x288 with 1 Axes>"
      ]
     },
     "execution_count": 21,
     "metadata": {},
     "output_type": "execute_result"
    },
    {
     "data": {
      "image/png": "[encoded data removed]",
      "text/plain": [
       "<Figure size 432x288 with 1 Axes>"
      ]
     },
     "metadata": {
      "needs_background": "light"
     },
     "output_type": "display_data"
    }
   ],
   "source": [
    "sm.qqplot(Log_Returns_train)"
   ]
  },
  {
   "cell_type": "markdown",
   "metadata": {},
   "source": [
    "Il a été constaté comme précédemment que les rendements logarithmiques que QQ-plot montre que la série des rendements logarithmiques ne suit pas du tout une loi normale, et que les queues de sa distribution semblent très épaisses, illustrant une forte volatilité stochastique. L’effet ARCH semble se confirmer pour la série.\n",
    "\n",
    "Il convient d'effectuer des tests statistiques afin de confirmer cet effet ARCH. En général, il convient d'étudier si le carré d'un bruit blanc présente des autocorrélation Cependant, ce test ne peut se faire que si la série temporelle est un bruit blanc. Ainsi, il convient dans un premier temps de modéliser la moyenne conditionnelle de la série des log-rendements par un AR(1), avant de tester la présence d'effet ARCH sur les résidus de cet AR(1)"
   ]
  },
  {
   "cell_type": "markdown",
   "metadata": {},
   "source": [
    "### Modélisation d'un AR(1) sur la série"
   ]
  },
  {
   "cell_type": "markdown",
   "metadata": {},
   "source": [
    "Comme convenu précédemment, un modèle AR(1) sera estimé sur la série temporelle."
   ]
  },
  {
   "cell_type": "code",
   "execution_count": 663,
   "metadata": {},
   "outputs": [
    {
     "name": "stderr",
     "output_type": "stream",
     "text": [
      "C:\\Users\\Si Dan\\Anaconda3\\lib\\site-packages\\statsmodels\\tsa\\base\\tsa_model.py:219: ValueWarning: A date index has been provided, but it has no associated frequency information and so will be ignored when e.g. forecasting.\n",
      "  ' ignored when e.g. forecasting.', ValueWarning)\n"
     ]
    },
    {
     "data": {
      "text/html": [
       "<table class=\"simpletable\">\n",
       "<caption>ARMA Model Results</caption>\n",
       "<tr>\n",
       "  <th>Dep. Variable:</th>    <td>Log_Returns</td>   <th>  No. Observations:  </th>    <td>4139</td>   \n",
       "</tr>\n",
       "<tr>\n",
       "  <th>Model:</th>            <td>ARMA(1, 0)</td>    <th>  Log Likelihood     </th>  <td>11510.711</td>\n",
       "</tr>\n",
       "<tr>\n",
       "  <th>Method:</th>             <td>css-mle</td>     <th>  S.D. of innovations</th>    <td>0.015</td>  \n",
       "</tr>\n",
       "<tr>\n",
       "  <th>Date:</th>          <td>Fri, 27 Mar 2020</td> <th>  AIC                </th> <td>-23015.422</td>\n",
       "</tr>\n",
       "<tr>\n",
       "  <th>Time:</th>              <td>22:53:44</td>     <th>  BIC                </th> <td>-22996.437</td>\n",
       "</tr>\n",
       "<tr>\n",
       "  <th>Sample:</th>                <td>0</td>        <th>  HQIC               </th> <td>-23008.704</td>\n",
       "</tr>\n",
       "<tr>\n",
       "  <th></th>                       <td> </td>        <th>                     </th>      <td> </td>    \n",
       "</tr>\n",
       "</table>\n",
       "<table class=\"simpletable\">\n",
       "<tr>\n",
       "          <td></td>             <th>coef</th>     <th>std err</th>      <th>z</th>      <th>P>|z|</th>  <th>[0.025</th>    <th>0.975]</th>  \n",
       "</tr>\n",
       "<tr>\n",
       "  <th>const</th>             <td>   -0.0003</td> <td>    0.000</td> <td>   -1.306</td> <td> 0.192</td> <td>   -0.001</td> <td>    0.000</td>\n",
       "</tr>\n",
       "<tr>\n",
       "  <th>ar.L1.Log_Returns</th> <td>   -0.0321</td> <td>    0.016</td> <td>   -2.067</td> <td> 0.039</td> <td>   -0.063</td> <td>   -0.002</td>\n",
       "</tr>\n",
       "</table>\n",
       "<table class=\"simpletable\">\n",
       "<caption>Roots</caption>\n",
       "<tr>\n",
       "    <td></td>   <th>            Real</th>  <th>         Imaginary</th> <th>         Modulus</th>  <th>        Frequency</th>\n",
       "</tr>\n",
       "<tr>\n",
       "  <th>AR.1</th> <td>         -31.1114</td> <td>          +0.0000j</td> <td>          31.1114</td> <td>           0.5000</td>\n",
       "</tr>\n",
       "</table>"
      ],
      "text/plain": [
       "<class 'statsmodels.iolib.summary.Summary'>\n",
       "\"\"\"\n",
       "                              ARMA Model Results                              \n",
       "==============================================================================\n",
       "Dep. Variable:            Log_Returns   No. Observations:                 4139\n",
       "Model:                     ARMA(1, 0)   Log Likelihood               11510.711\n",
       "Method:                       css-mle   S.D. of innovations              0.015\n",
       "Date:                Fri, 27 Mar 2020   AIC                         -23015.422\n",
       "Time:                        22:53:44   BIC                         -22996.437\n",
       "Sample:                             0   HQIC                        -23008.704\n",
       "                                                                              \n",
       "=====================================================================================\n",
       "                        coef    std err          z      P>|z|      [0.025      0.975]\n",
       "-------------------------------------------------------------------------------------\n",
       "const                -0.0003      0.000     -1.306      0.192      -0.001       0.000\n",
       "ar.L1.Log_Returns    -0.0321      0.016     -2.067      0.039      -0.063      -0.002\n",
       "                                    Roots                                    \n",
       "=============================================================================\n",
       "                  Real          Imaginary           Modulus         Frequency\n",
       "-----------------------------------------------------------------------------\n",
       "AR.1          -31.1114           +0.0000j           31.1114            0.5000\n",
       "-----------------------------------------------------------------------------\n",
       "\"\"\""
      ]
     },
     "execution_count": 663,
     "metadata": {},
     "output_type": "execute_result"
    }
   ],
   "source": [
    "from statsmodels.tsa.arima_model import ARMA\n",
    "from matplotlib import pyplot\n",
    "\n",
    "# fit model\n",
    "model_ar = ARMA(Log_Returns_train, order=(1,0))\n",
    "model_ar_fit = model_ar.fit()\n",
    "model_ar_fit.summary()"
   ]
  },
  {
   "cell_type": "markdown",
   "metadata": {},
   "source": [
    "Nous pouvons ainsi constater que les coefficients du modèle $AR(1)$ sont toutes significatives, ce qui permet d'établir la pertinence d'une telle modélisation sur la série des rendements logarithmiques. Plus précisément, le modèle estimé ici satisfait :\n",
    "\n",
    "$$\n",
    "y_t = -0.0003 -0.0318 y_{t-1} + r_t\n",
    "$$\n",
    "\n",
    "avec $r_t$ qui doit être un bruit blanc. Afin de valider complètement ce modèle, le caractère Bruit Blanc des résidus $r_t$ du modèle doit être testé par un test de blancheur de Ljung Box.\n",
    "\n",
    "Dans un premier temps, on crée un DataFrame contenant les résidus du modèle, qui seront ensuite visualisés :"
   ]
  },
  {
   "cell_type": "code",
   "execution_count": 111,
   "metadata": {},
   "outputs": [
    {
     "data": {
      "image/png": "[encoded data removed]",
      "text/plain": [
       "<Figure size 432x288 with 1 Axes>"
      ]
     },
     "metadata": {
      "needs_background": "light"
     },
     "output_type": "display_data"
    },
    {
     "data": {
      "image/png": "[encoded data removed]",
      "text/plain": [
       "<Figure size 432x288 with 1 Axes>"
      ]
     },
     "metadata": {
      "needs_background": "light"
     },
     "output_type": "display_data"
    },
    {
     "name": "stdout",
     "output_type": "stream",
     "text": [
      "                  0\n",
      "count  4.138000e+03\n",
      "mean  -3.333641e-07\n",
      "std    1.499599e-02\n",
      "min   -1.034209e-01\n",
      "25%   -7.034945e-03\n",
      "50%    5.619564e-04\n",
      "75%    7.872652e-03\n",
      "max    9.331134e-02\n"
     ]
    }
   ],
   "source": [
    "# plot residual errors\n",
    "residuals = pd.DataFrame(model_fit.resid)\n",
    "residuals.plot()\n",
    "pyplot.show()\n",
    "residuals.plot(kind='kde')\n",
    "pyplot.show()\n",
    "print(residuals.describe())"
   ]
  },
  {
   "cell_type": "markdown",
   "metadata": {},
   "source": [
    "La moyenne des résidus du modèle semble être quasi nulle et la présence d'un effet ARCH peut être constaté visuellement. Ajoutons à cela le fait que la série est stationnaire selon le graphique.\n",
    "\n",
    "Pour tester la blancheur des résidus, le test de Ljung Box peut être effectué :"
   ]
  },
  {
   "cell_type": "code",
   "execution_count": 113,
   "metadata": {},
   "outputs": [
    {
     "name": "stdout",
     "output_type": "stream",
     "text": [
      "Statistics=48.660, p=0.000\n",
      "La série présente des autocorrélations\n"
     ]
    }
   ],
   "source": [
    "# Test de Ljung Box\n",
    "stat, p = sm.stats.acorr_ljungbox(model_ar_fit.resid, lags=[10])\n",
    "print('Statistics=%.3f, p=%.3f' % (stat, p))\n",
    "\n",
    "# Interprétation\n",
    "alpha = 0.05\n",
    "if p > alpha:\n",
    "    print('La série est un bruit blanc')\n",
    "else:\n",
    "    print('La série présente des autocorrélations')"
   ]
  },
  {
   "cell_type": "markdown",
   "metadata": {},
   "source": [
    "Malheureusement, l'hypothèse nulle a été rejetée, montrant ainsi que les résidus du modèle $AR(1)$ estimé ne sont pas des bruits blancs et que le modèle n'a pas été en mesure de modéliser la moyenne conditionnelle de la série des rendements logarithmiques. Cependant, n'ayant pas trouvé de solutions à ce problème, la validité du modèle sera admise pour pouvoir continuer la suite de l'étude. Il sera judicieux de modéliser un modèle AR(1)-GARCH(1,1) directement sur les rendements logarithmiques sans effectuer d'étapes intermédiaires pour comparer les coefficients. Si ces derniers sont similaires, le modèle sera gardé pour le calcul de la VaR dynamique.\n",
    "\n",
    "Dans la suite de l'étude, un modèle GARCH sera modélisé sur les résidus du modèle $AR$ sous réserve de pouvoir détecter de la volatilité conditionnelle sur ces derniers."
   ]
  },
  {
   "cell_type": "markdown",
   "metadata": {},
   "source": [
    "#### Détection d'effet ARCH sur les résidus du modèle AR"
   ]
  },
  {
   "cell_type": "markdown",
   "metadata": {},
   "source": [
    "L'étape suivante consiste donc à détecter la présence d'effet ARCH sur ces résidus. Pour cela, la présence d'autocorrélation sur le carré des résidus doit être vérifiée. Cependant, pour davantage de simplicité et pour obtenir des résultats consistants, il s'agira du test d'Engle de détection d'hétéroscédasticité conditionnel qui sera appliqué sur les résidus du modèle."
   ]
  },
  {
   "cell_type": "code",
   "execution_count": 71,
   "metadata": {},
   "outputs": [
    {
     "name": "stdout",
     "output_type": "stream",
     "text": [
      "Statistics=894.893, p=0.000\n",
      "présence d'effet ARCH sur les résidus\n"
     ]
    }
   ],
   "source": [
    "# Test d'Engle\n",
    "results = sm.stats.diagnostic.het_arch(model_ar_fit.resid)\n",
    "stat = results[0]\n",
    "p = results[1]\n",
    "\n",
    "print('Statistics=%.3f, p=%.3f' % (stat, p))\n",
    "\n",
    "# Interprétation\n",
    "alpha = 0.05\n",
    "if p > alpha:\n",
    "    print(\"Pas d'effet ARCH sur les résidus\")\n",
    "else:\n",
    "    print(\"présence d'effet ARCH sur les résidus\")"
   ]
  },
  {
   "cell_type": "markdown",
   "metadata": {},
   "source": [
    "Ainsi, le test confirme la présence d'un effet ARCH sur les résidus du modèle AR. Il convient donc de modéliser un modèle GARCH(1,1) sur ces résidus afin de modéliser l'hétéroscédasticité conditionnelle des rendements logarithmiques."
   ]
  },
  {
   "cell_type": "markdown",
   "metadata": {},
   "source": [
    "### Modélisation d'un GARCH(1,1) sur les résidus du modèle AR(1)"
   ]
  },
  {
   "cell_type": "markdown",
   "metadata": {},
   "source": [
    "Comme convenu précédemment, un modèle AR(1) sera estimé sur les résidus du modèle AR(1). Ces résidus sont généralement supposés suivre une loi Student, sachant qu'il a été vu précédemment au vu du QQPlot qu'ils ne suivent pas une loi normale et qu'ils possèdent une distribution à queue lourde. Cependant, du fait de problèmes rencontrés lors de la modélisation en supposant des résidus de Student, il a été décidé de prendre des résidus Gaussiens."
   ]
  },
  {
   "cell_type": "code",
   "execution_count": 489,
   "metadata": {},
   "outputs": [
    {
     "name": "stdout",
     "output_type": "stream",
     "text": [
      "Positive directional derivative for linesearch    (Exit mode 8)\n",
      "            Current function value: -12170.72192603534\n",
      "            Iterations: 5\n",
      "            Function evaluations: 5\n",
      "            Gradient evaluations: 1\n"
     ]
    },
    {
     "name": "stderr",
     "output_type": "stream",
     "text": [
      "C:\\Users\\Si Dan\\Anaconda3\\lib\\site-packages\\arch\\univariate\\base.py:293: DataScaleWarning: y is poorly scaled, which may affect convergence of the optimizer when\n",
      "estimating the model parameters. The scale of y is 0.0002248. Parameter\n",
      "estimation work better when this value is between 1 and 1000. The recommended\n",
      "rescaling is 100 * y.\n",
      "\n",
      "This warning can be disabled by either rescaling y before initializing the\n",
      "model or by setting rescale=False.\n",
      "\n",
      "  data_scale_warning.format(orig_scale, rescale), DataScaleWarning\n",
      "C:\\Users\\Si Dan\\Anaconda3\\lib\\site-packages\\arch\\univariate\\base.py:711: ConvergenceWarning: The optimizer returned code 8. The message is:\n",
      "Positive directional derivative for linesearch\n",
      "See scipy.optimize.fmin_slsqp for code meaning.\n",
      "\n",
      "  ConvergenceWarning,\n"
     ]
    },
    {
     "data": {
      "text/html": [
       "<table class=\"simpletable\">\n",
       "<caption>Zero Mean - GARCH Model Results</caption>\n",
       "<tr>\n",
       "  <th>Dep. Variable:</th>          <td>0</td>         <th>  R-squared:         </th>  <td>   0.000</td> \n",
       "</tr>\n",
       "<tr>\n",
       "  <th>Mean Model:</th>         <td>Zero Mean</td>     <th>  Adj. R-squared:    </th>  <td>   0.000</td> \n",
       "</tr>\n",
       "<tr>\n",
       "  <th>Vol Model:</th>            <td>GARCH</td>       <th>  Log-Likelihood:    </th> <td>   12170.7</td>\n",
       "</tr>\n",
       "<tr>\n",
       "  <th>Distribution:</th>        <td>Normal</td>       <th>  AIC:               </th> <td>  -24335.4</td>\n",
       "</tr>\n",
       "<tr>\n",
       "  <th>Method:</th>        <td>Maximum Likelihood</td> <th>  BIC:               </th> <td>  -24316.5</td>\n",
       "</tr>\n",
       "<tr>\n",
       "  <th></th>                        <td></td>          <th>  No. Observations:  </th>    <td>4138</td>   \n",
       "</tr>\n",
       "<tr>\n",
       "  <th>Date:</th>           <td>Fri, Mar 27 2020</td>  <th>  Df Residuals:      </th>    <td>4135</td>   \n",
       "</tr>\n",
       "<tr>\n",
       "  <th>Time:</th>               <td>16:47:11</td>      <th>  Df Model:          </th>      <td>3</td>    \n",
       "</tr>\n",
       "</table>\n",
       "<table class=\"simpletable\">\n",
       "<caption>Volatility Model</caption>\n",
       "<tr>\n",
       "      <td></td>        <th>coef</th>     <th>std err</th>      <th>t</th>     <th>P>|t|</th>   <th>95.0% Conf. Int.</th>   \n",
       "</tr>\n",
       "<tr>\n",
       "  <th>omega</th>    <td>4.4965e-06</td> <td>7.232e-12</td> <td>6.218e+05</td> <td>0.000</td> <td>[4.496e-06,4.497e-06]</td>\n",
       "</tr>\n",
       "<tr>\n",
       "  <th>alpha[1]</th> <td>    0.1000</td> <td>4.675e-04</td> <td>  213.914</td> <td>0.000</td>  <td>[9.908e-02,  0.101]</td> \n",
       "</tr>\n",
       "<tr>\n",
       "  <th>beta[1]</th>  <td>    0.8800</td> <td>3.231e-03</td> <td>  272.397</td> <td>0.000</td>   <td>[  0.874,  0.886]</td>  \n",
       "</tr>\n",
       "</table><br/><br/>Covariance estimator: robust<br/>WARNING: The optimizer did not indicate successful convergence. The message was Positive directional derivative for linesearch.<br/>See convergence_flag.<br/>"
      ],
      "text/plain": [
       "<class 'statsmodels.iolib.summary.Summary'>\n",
       "\"\"\"\n",
       "                       Zero Mean - GARCH Model Results                        \n",
       "==============================================================================\n",
       "Dep. Variable:                      0   R-squared:                       0.000\n",
       "Mean Model:                 Zero Mean   Adj. R-squared:                  0.000\n",
       "Vol Model:                      GARCH   Log-Likelihood:                12170.7\n",
       "Distribution:                  Normal   AIC:                          -24335.4\n",
       "Method:            Maximum Likelihood   BIC:                          -24316.5\n",
       "                                        No. Observations:                 4138\n",
       "Date:                Fri, Mar 27 2020   Df Residuals:                     4135\n",
       "Time:                        16:47:11   Df Model:                            3\n",
       "                              Volatility Model                              \n",
       "============================================================================\n",
       "                 coef    std err          t      P>|t|      95.0% Conf. Int.\n",
       "----------------------------------------------------------------------------\n",
       "omega      4.4965e-06  7.232e-12  6.218e+05      0.000 [4.496e-06,4.497e-06]\n",
       "alpha[1]       0.1000  4.675e-04    213.914      0.000   [9.908e-02,  0.101]\n",
       "beta[1]        0.8800  3.231e-03    272.397      0.000     [  0.874,  0.886]\n",
       "============================================================================\n",
       "\n",
       "Covariance estimator: robust\n",
       "WARNING: The optimizer did not indicate successful convergence. The message was Positive directional derivative for linesearch.\n",
       "See convergence_flag.\n",
       "\n",
       "\"\"\""
      ]
     },
     "execution_count": 489,
     "metadata": {},
     "output_type": "execute_result"
    }
   ],
   "source": [
    "from arch import arch_model\n",
    "\n",
    "# define model\n",
    "model_arch = arch_model(residuals, mean='Zero', vol='GARCH', p=1, q=1, dist='normal')\n",
    "model_arch_fit = model_arch.fit(update_freq=5)\n",
    "model_arch_fit.summary()"
   ]
  },
  {
   "cell_type": "markdown",
   "metadata": {},
   "source": [
    "Nous pouvons ainsi constater que les coefficients du modèle $GARCH(1,1)$ sont toutes significatives, ce qui permet d'établir la pertinence d'une telle modélisation sur la série des résidus du modèle $AR$. Plus précisément, le modèle estimé ici satisfait :\n",
    "\n",
    "$$\n",
    "r_t = \\sigma_t \\epsilon_t \\\\\n",
    "\\sigma_t^2 = 4.4965*10^{-6} + 0.88 \\sigma_{t-1}^2  + 0.1 r_{t-1}^2\n",
    "$$\n",
    "\n",
    "avec $\\epsilon_t$ un bruit blanc fort de loi Normale centrée réduite qui sont les résidus corrigés de la volatilité. \n",
    "\n",
    "Cependant, il convient malheureusement de constater la difficulté de convergence du modèle.\n",
    "\n",
    "Le modèle ayant été estimé, son diagnostic doit être réalisé à partir de ses résidus"
   ]
  },
  {
   "cell_type": "markdown",
   "metadata": {},
   "source": [
    "##### Diagnostic du modèle"
   ]
  },
  {
   "cell_type": "markdown",
   "metadata": {},
   "source": [
    "La première chose à effectuer est de vérifier si les résidus corrigés de la volatilité du modèle GARCH présentent de l'hétéroscédasticité conditionnel ou non.\n",
    "\n",
    "Les résidus de la volatilités sont les résidus GARCH auquels on la divise par la volatilité conditionnelle estimée par le modèle.\n",
    "\n",
    "Après calcul des résidus corrigés, le test d'Engle est effectué :"
   ]
  },
  {
   "cell_type": "code",
   "execution_count": 479,
   "metadata": {},
   "outputs": [
    {
     "name": "stdout",
     "output_type": "stream",
     "text": [
      "Statistics=32.121, p=0.411\n",
      "Pas d'effet ARCH sur les résidus corrigés\n"
     ]
    }
   ],
   "source": [
    "corrected_GARCH_residuals = model_arch_fit.resid/model_arch_fit.conditional_volatility\n",
    "\n",
    "# Test d'Engle\n",
    "results = sm.stats.diagnostic.het_arch(corrected_GARCH_residuals)\n",
    "stat = results[0]\n",
    "p = results[1]\n",
    "\n",
    "print('Statistics=%.3f, p=%.3f' % (stat, p))\n",
    "\n",
    "# Interprétation\n",
    "alpha = 0.05\n",
    "if p > alpha:\n",
    "    print(\"Pas d'effet ARCH sur les résidus corrigés\")\n",
    "else:\n",
    "    print(\"présence d'effet ARCH sur les résidus corrigés\")"
   ]
  },
  {
   "cell_type": "markdown",
   "metadata": {},
   "source": [
    "Ainsi, il est possible de constater qu'il n'y a pas d'effets ARCH sur les résidus corrigés, témoignant ainsi de la validité du modèle GARCH(1,1) nouvellement modélisé, qui a été capable de modéliser correctement la volatilité conditionnelle des rendements logarithmiques.\n",
    "\n",
    "Par ailleurs, il est nécessaire de vérifier que ces résidus corrigés de la volatilité sont des bruits blancs forts, ce qui permet par ailleurs de prouver qu'en dépit du test de Ljung Box effectué précédemment, les résidus du modèle $AR$ ayant permis d'estimer le modèle GARCH sont tout aussi des bruits blancs :"
   ]
  },
  {
   "cell_type": "code",
   "execution_count": 664,
   "metadata": {},
   "outputs": [
    {
     "name": "stdout",
     "output_type": "stream",
     "text": [
      "Statistics=10.129, p=0.429\n",
      "Les résidus corrigés sont des bruits blancs\n"
     ]
    }
   ],
   "source": [
    "# Test de Ljung Box\n",
    "stat, p = sm.stats.acorr_ljungbox(corrected_GARCH_residuals, lags=[10])\n",
    "print('Statistics=%.3f, p=%.3f' % (stat, p))\n",
    "\n",
    "# Interprétation\n",
    "alpha = 0.05\n",
    "if p > alpha:\n",
    "    print('Les résidus corrigés sont des bruits blancs')\n",
    "else:\n",
    "    print('Les résidus corrigés présentent des autocorrélations')"
   ]
  },
  {
   "cell_type": "markdown",
   "metadata": {},
   "source": [
    "Les résidus corrigés sont finalement des bruits blancs au vu du test de Ljung Box, ce qui permet de valider le modèle GARCH et donc finalement l'ensemble du modèle AR-GARCH estimé jusqu'à présent.\n",
    "\n",
    "Finalement, comme la structure retenu est un modèle AR(1)-GARCH(1,1), il a été convenu de le modéliser en une seule étape sur les rendements logarithmiques et ainsi estimer les paramètres sur l'ensemble de la structure spécifiée."
   ]
  },
  {
   "cell_type": "markdown",
   "metadata": {},
   "source": [
    "#### Estimation des paramètres sur l'ensemble de la structure spécifiée"
   ]
  },
  {
   "cell_type": "code",
   "execution_count": 490,
   "metadata": {},
   "outputs": [
    {
     "name": "stdout",
     "output_type": "stream",
     "text": [
      "Positive directional derivative for linesearch    (Exit mode 8)\n",
      "            Current function value: -12177.399427072844\n",
      "            Iterations: 8\n",
      "            Function evaluations: 55\n",
      "            Gradient evaluations: 4\n"
     ]
    },
    {
     "name": "stderr",
     "output_type": "stream",
     "text": [
      "C:\\Users\\Si Dan\\Anaconda3\\lib\\site-packages\\arch\\univariate\\base.py:293: DataScaleWarning: y is poorly scaled, which may affect convergence of the optimizer when\n",
      "estimating the model parameters. The scale of y is 0.0002244. Parameter\n",
      "estimation work better when this value is between 1 and 1000. The recommended\n",
      "rescaling is 100 * y.\n",
      "\n",
      "This warning can be disabled by either rescaling y before initializing the\n",
      "model or by setting rescale=False.\n",
      "\n",
      "  data_scale_warning.format(orig_scale, rescale), DataScaleWarning\n",
      "C:\\Users\\Si Dan\\Anaconda3\\lib\\site-packages\\arch\\univariate\\base.py:711: ConvergenceWarning: The optimizer returned code 8. The message is:\n",
      "Positive directional derivative for linesearch\n",
      "See scipy.optimize.fmin_slsqp for code meaning.\n",
      "\n",
      "  ConvergenceWarning,\n"
     ]
    },
    {
     "data": {
      "text/html": [
       "<table class=\"simpletable\">\n",
       "<caption>AR - GARCH Model Results</caption>\n",
       "<tr>\n",
       "  <th>Dep. Variable:</th>     <td>Log_Returns</td>    <th>  R-squared:         </th>  <td>  -0.001</td> \n",
       "</tr>\n",
       "<tr>\n",
       "  <th>Mean Model:</th>            <td>AR</td>         <th>  Adj. R-squared:    </th>  <td>  -0.001</td> \n",
       "</tr>\n",
       "<tr>\n",
       "  <th>Vol Model:</th>            <td>GARCH</td>       <th>  Log-Likelihood:    </th> <td>   12177.4</td>\n",
       "</tr>\n",
       "<tr>\n",
       "  <th>Distribution:</th>        <td>Normal</td>       <th>  AIC:               </th> <td>  -24344.8</td>\n",
       "</tr>\n",
       "<tr>\n",
       "  <th>Method:</th>        <td>Maximum Likelihood</td> <th>  BIC:               </th> <td>  -24313.2</td>\n",
       "</tr>\n",
       "<tr>\n",
       "  <th></th>                        <td></td>          <th>  No. Observations:  </th>    <td>4137</td>   \n",
       "</tr>\n",
       "<tr>\n",
       "  <th>Date:</th>           <td>Fri, Mar 27 2020</td>  <th>  Df Residuals:      </th>    <td>4132</td>   \n",
       "</tr>\n",
       "<tr>\n",
       "  <th>Time:</th>               <td>16:49:26</td>      <th>  Df Model:          </th>      <td>5</td>    \n",
       "</tr>\n",
       "</table>\n",
       "<table class=\"simpletable\">\n",
       "<caption>Mean Model</caption>\n",
       "<tr>\n",
       "        <td></td>           <th>coef</th>     <th>std err</th>      <th>t</th>       <th>P>|t|</th>      <th>95.0% Conf. Int.</th>    \n",
       "</tr>\n",
       "<tr>\n",
       "  <th>Const</th>         <td>3.4505e-04</td> <td>1.645e-04</td> <td>    2.097</td> <td>3.600e-02</td>  <td>[2.254e-05,6.676e-04]</td> \n",
       "</tr>\n",
       "<tr>\n",
       "  <th>Log_...rns[1]</th> <td>   -0.0318</td> <td>1.584e-02</td> <td>   -2.007</td> <td>4.477e-02</td> <td>[-6.283e-02,-7.427e-04]</td>\n",
       "</tr>\n",
       "</table>\n",
       "<table class=\"simpletable\">\n",
       "<caption>Volatility Model</caption>\n",
       "<tr>\n",
       "      <td></td>        <th>coef</th>     <th>std err</th>      <th>t</th>     <th>P>|t|</th>   <th>95.0% Conf. Int.</th>   \n",
       "</tr>\n",
       "<tr>\n",
       "  <th>omega</th>    <td>4.4884e-06</td> <td>9.485e-14</td> <td>4.732e+07</td> <td>0.000</td> <td>[4.488e-06,4.488e-06]</td>\n",
       "</tr>\n",
       "<tr>\n",
       "  <th>alpha[1]</th> <td>    0.1000</td> <td>5.251e-04</td> <td>  190.451</td> <td>0.000</td>  <td>[9.897e-02,  0.101]</td> \n",
       "</tr>\n",
       "<tr>\n",
       "  <th>beta[1]</th>  <td>    0.8800</td> <td>3.294e-03</td> <td>  267.148</td> <td>0.000</td>   <td>[  0.874,  0.886]</td>  \n",
       "</tr>\n",
       "</table><br/><br/>Covariance estimator: robust<br/>WARNING: The optimizer did not indicate successful convergence. The message was Positive directional derivative for linesearch.<br/>See convergence_flag.<br/>"
      ],
      "text/plain": [
       "<class 'statsmodels.iolib.summary.Summary'>\n",
       "\"\"\"\n",
       "                           AR - GARCH Model Results                           \n",
       "==============================================================================\n",
       "Dep. Variable:            Log_Returns   R-squared:                      -0.001\n",
       "Mean Model:                        AR   Adj. R-squared:                 -0.001\n",
       "Vol Model:                      GARCH   Log-Likelihood:                12177.4\n",
       "Distribution:                  Normal   AIC:                          -24344.8\n",
       "Method:            Maximum Likelihood   BIC:                          -24313.2\n",
       "                                        No. Observations:                 4137\n",
       "Date:                Fri, Mar 27 2020   Df Residuals:                     4132\n",
       "Time:                        16:49:26   Df Model:                            5\n",
       "                                    Mean Model                                   \n",
       "=================================================================================\n",
       "                    coef    std err          t      P>|t|        95.0% Conf. Int.\n",
       "---------------------------------------------------------------------------------\n",
       "Const         3.4505e-04  1.645e-04      2.097  3.600e-02   [2.254e-05,6.676e-04]\n",
       "Log_...rns[1]    -0.0318  1.584e-02     -2.007  4.477e-02 [-6.283e-02,-7.427e-04]\n",
       "                              Volatility Model                              \n",
       "============================================================================\n",
       "                 coef    std err          t      P>|t|      95.0% Conf. Int.\n",
       "----------------------------------------------------------------------------\n",
       "omega      4.4884e-06  9.485e-14  4.732e+07      0.000 [4.488e-06,4.488e-06]\n",
       "alpha[1]       0.1000  5.251e-04    190.451      0.000   [9.897e-02,  0.101]\n",
       "beta[1]        0.8800  3.294e-03    267.148      0.000     [  0.874,  0.886]\n",
       "============================================================================\n",
       "\n",
       "Covariance estimator: robust\n",
       "WARNING: The optimizer did not indicate successful convergence. The message was Positive directional derivative for linesearch.\n",
       "See convergence_flag.\n",
       "\n",
       "\"\"\""
      ]
     },
     "execution_count": 490,
     "metadata": {},
     "output_type": "execute_result"
    }
   ],
   "source": [
    "model_final = arch_model(Log_Returns_train, mean = 'AR', lags =1, vol = 'Garch', p=1,o=0,q=1, dist = 'normal')\n",
    "model_final_fit = model_final.fit(update_freq=5)\n",
    "model_final_fit.summary()"
   ]
  },
  {
   "cell_type": "markdown",
   "metadata": {},
   "source": [
    "Nous pouvons ainsi constater que les coefficients estimés sur l'ensemble de la structure spécifiée sont quasiment égales à ceux estimés sur les modèles AR et GARCH modélisés séparéments dans la partie précédente, hormis pour les constantes $\\mu$ et $\\omega$ qui sont légèrement différentes, ce qui permet de valider l'ensemble des modèles estimés.\n",
    "\n",
    "Ainsi, la série des rendements logarithmiques suit un modèle final AR(1)-GARCH(1,1) qui peut être exprimé comme suit :\n",
    "\n",
    "$$\n",
    "\\left\\{\n",
    "    \\begin{array}{lll}\n",
    "        r_t = \\mu_t + \\sigma_t \\epsilon_t \\\\\n",
    "        \\mu_t = 3.4505*10^{-4} -0.0318 r_{t-1} \\\\\n",
    "        \\sigma_t^2 = 4.4884*10^{-6} + 0.88 \\sigma_{t-1}^2  + 0.1 (r_{t-1} - \\mu_{t-1})^2\n",
    "    \\end{array}\n",
    "\\right.\n",
    "$$\n",
    "\n",
    "avec $\\epsilon_t$ un bruit blanc fort centré réduite de loi normale qui sont les résidus corrigés de la volatilité."
   ]
  },
  {
   "cell_type": "markdown",
   "metadata": {},
   "source": [
    "### Calcul de la VaR Dynamique"
   ]
  },
  {
   "cell_type": "markdown",
   "metadata": {},
   "source": [
    "##### Calcul de la VaR sur les résidus du modèle AR-GARCH"
   ]
  },
  {
   "cell_type": "markdown",
   "metadata": {},
   "source": [
    "La VaR de niveau $\\alpha$, donc le quantile d'ordre $1 - \\alpha$ des résidus corrigés de la volatilité du modèle AR-GARCH peut être calculé. Sachant que les log_rendements possèdent une distribution à queue épaisses et ne sont que rarement Gaussienne, il a été convenu d'utiliser une VaR Skew Student qui serait à priori plus adaptés. Cela est d'autant plus motivé par le fait que la distribution spécifiée pour la modélisation GARCH est de Student. La non adéquation avec la normalité peut être vérifiée par un test de Shapiro Wilk sur les résidus.\n",
    "\n",
    "Pour cela, nous estimons les paramètres de la distribution Skew Student par maximum de vraisemblance, conformément aux données des résidus corrigés de la Volatilité:"
   ]
  },
  {
   "cell_type": "code",
   "execution_count": 465,
   "metadata": {},
   "outputs": [
    {
     "name": "stdout",
     "output_type": "stream",
     "text": [
      "[-0.53972719  0.94947974  0.08366546 15.41786501]\n"
     ]
    }
   ],
   "source": [
    "corrected_GARCH_residuals = pd.DataFrame(model_arch_fit.resid/model_arch_fit.conditional_volatility)\n",
    "\n",
    "# Estimation des paramètres de la Skew Gaussienne par maximum de vraisemblance\n",
    "param_skew_student_dyn = max_log_likelihood(corrected_GARCH_residuals, f_skewstud,4)\n",
    "print(param_skew_student_dyn)"
   ]
  },
  {
   "cell_type": "markdown",
   "metadata": {},
   "source": [
    "A partir de ces quantités, il est ainsi posible de calculer les VaR Skew Student sur les résidus corrigés :"
   ]
  },
  {
   "cell_type": "code",
   "execution_count": 501,
   "metadata": {},
   "outputs": [
    {
     "name": "stdout",
     "output_type": "stream",
     "text": [
      "Confidence Level      Skew Student Value at Risk\n",
      "------------------  ----------------------------\n",
      "90%                                     -1.73125\n",
      "95%                                     -2.08044\n",
      "99%                                     -2.7885\n"
     ]
    }
   ],
   "source": [
    "# Calcul des VaR Gaussiennes asymétriques\n",
    "VaR_SS_90 = VaR_SS_alpha(param_skew_student_dyn, 0.90) \n",
    "VaR_SS_95 = VaR_SS_alpha(param_skew_student_dyn, 0.95) \n",
    "VaR_SS_99 = VaR_SS_alpha(param_skew_student_dyn, 0.99) \n",
    "\n",
    "# Print des valeurs\n",
    "print(tabulate([['90%', VaR_SS_90], ['95%', VaR_SS_95], ['99%', VaR_SS_99]], headers = ['Confidence Level','Skew Student Value at Risk']))"
   ]
  },
  {
   "cell_type": "markdown",
   "metadata": {},
   "source": [
    "Les VaR d'ordres 90%, 95% et 99% ont été calculés. Ainsi, il est possible d'en déduire la VaR dynamique de la série des rendements logarithmiques."
   ]
  },
  {
   "cell_type": "markdown",
   "metadata": {},
   "source": [
    "##### Calcul de la VaR dynamique"
   ]
  },
  {
   "cell_type": "markdown",
   "metadata": {},
   "source": [
    "L'étude précédente de la série des rendements logarithmiques a permis d'établir que celle ci suit un modèle AR(1)-GARCH(1,1) qui peut être exprimé comme suit :\n",
    "\n",
    "$$\n",
    "\\left\\{\n",
    "    \\begin{array}{lll}\n",
    "        r_t = \\mu_t + \\sigma_t \\epsilon_t \\\\\n",
    "        \\mu_t = 3.4505*10^{-4} -0.0318 r_{t-1} \\\\\n",
    "        \\sigma_t^2 = 4.4884*10^{-6} + 0.88 \\sigma_{t-1}^2  + 0.1 (r_{t-1} - \\mu_{t-1})^2\n",
    "    \\end{array}\n",
    "\\right.\n",
    "$$\n",
    "\n",
    "avec $\\epsilon_t$ un bruit blanc fort centré réduite qui sont les résidus corrigés de la volatilité.\n",
    "\n",
    "De ce fait, l'estimation de la VaR des rendements à l'instant $t+1$ se fait à partir des estimations du temps précédent $t$ ainsi que de l'ensemble des paramètres estimé par le modèle AR-GARCH. Dans notre cas, au temps $t+1$, nous avons :\n",
    "\n",
    "$$\n",
    "\\left\\{\n",
    "    \\begin{array}{ll}\n",
    "        \\hat{\\mu}_{t+1} = 3.4505*10^{-4} -0.0318 r_{t} \\\\\n",
    "        \\hat{\\sigma}_{t+1}^2 = 4.4884*10^{-6} + 0.1 (r_{t} - \\hat{\\mu}_{t})^2 + 0.88 \\hat{\\sigma}_{t}^2\n",
    "    \\end{array}\n",
    "\\right.\n",
    "$$\n",
    "\n",
    "$\\mu_1$ et $\\sigma_1$ seront initialisés de la manière suivante :\n",
    "\n",
    "- $\\mu_1 = \\hat{\\mu} = 3.4505*10^{-4}$\n",
    "- $\\sigma_1 = \\sqrt{\\frac{\\omega}{1-a-b}}$, l'écart type long terme\n",
    "\n",
    "Ainsi, en notant $q_{1-\\alpha}$ la Value at Risk de niveau $\\alpha$ précédemment estimée sur les résidus $\\epsilon_t$ du modèle AR_GARCH, il est possible de prédire la VaR au temps $t+1$ de la manière suivante, d'après les estimations précédentes :\n",
    "\n",
    "$$\n",
    "VaR_{h,t+1}(\\alpha) = \\hat{\\mu}_{t+1} + \\hat{\\sigma}_{t+1} q_{1-\\alpha} = 3.4505*10^{-4} -0.0318 r_{t} + \\sqrt{4.4884*10^{-6} + 0.1 (r_{t} - \\hat{\\mu}_{t})^2 + 0.88 \\hat{\\sigma}_{t}^2} q_{1-\\alpha}\n",
    "$$\n",
    "\n",
    "La Value at Risk peut donc être implémentée comme suit :"
   ]
  },
  {
   "cell_type": "code",
   "execution_count": 650,
   "metadata": {},
   "outputs": [],
   "source": [
    "#Les paramètres du modèle AR sont déclarés\n",
    "mu = model_final_fit.params[0]\n",
    "phi = model_final_fit.params[1]\n",
    "\n",
    "# Les paramètres du modèle GARCH sont déclarés\n",
    "omega = model_final_fit.params[2]\n",
    "a = model_final_fit.params[3]\n",
    "b = model_final_fit.params[4]\n",
    "\n",
    "#Initialisation des moyennes et volatilités conditionnels\n",
    "sigma_1 = math.sqrt(omega/(1-a-b))\n",
    "mu_t = [mu]\n",
    "sigma_t = [sigma_1]\n",
    "\n",
    "# Calcul des moyennes et volatilités conditionnels avec le modèle AR-GARCH estimé\n",
    "n = len(Log_Returns_train)\n",
    "for i in range(n):\n",
    "    mu_t_plus_1 = mu + phi*Log_Returns_train[i]\n",
    "    sigma_t_plus_1 = np.sqrt(omega + a*(Log_Returns_train[i] - mu_t[i-1])**2 + b * sigma_t[i-1]**2)\n",
    "    \n",
    "    mu_t.append(mu_t_plus_1)\n",
    "    sigma_t.append(sigma_t_plus_1)\n",
    "\n",
    "# Calcul de la VaR dynamique à 99%\n",
    "VaR_dyn_99 = mu_t + sigma_t*VaR_SS_99"
   ]
  },
  {
   "cell_type": "markdown",
   "metadata": {},
   "source": [
    "Il est donc possible de visualiser le graphe de la VaR dynamique modélisée sur les rendements du CaC40 :"
   ]
  },
  {
   "cell_type": "code",
   "execution_count": 655,
   "metadata": {},
   "outputs": [
    {
     "data": {
      "text/plain": [
       "[<matplotlib.lines.Line2D at 0x2081a9d6108>]"
      ]
     },
     "execution_count": 655,
     "metadata": {},
     "output_type": "execute_result"
    },
    {
     "data": {
      "image/png": "[encoded data removed]",
      "text/plain": [
       "<Figure size 432x288 with 1 Axes>"
      ]
     },
     "metadata": {
      "needs_background": "light"
     },
     "output_type": "display_data"
    }
   ],
   "source": [
    "plt.plot(Log_Returns_train.index, Log_Returns_train)\n",
    "plt.plot(VaR_dyn_99, color = \"red\")"
   ]
  },
  {
   "cell_type": "markdown",
   "metadata": {},
   "source": [
    "### Backtesting de la VaR dynamique"
   ]
  },
  {
   "cell_type": "markdown",
   "metadata": {},
   "source": [
    "Une fois de plus, la VaR dynamique est soumis à validation par un Backtesting sur l'échantillon test.\n",
    "\n",
    "Rappelons que les variables de dépassements sont les rendements en $t+1$ qui sont inférieurs à la VaR calculée en $t$ : $I_t = \\mathbb{1}_{r_{t+1} < VaR_{h,t+1}(\\alpha)} \\sim \\mathcal{B}(1-\\alpha)$. \n",
    "\n",
    "Et donc que leur somme suit une loi Binomiale de paramètre $n$ et $1- \\alpha$ : $\\sum_{t=0}^{n} I_t \\sim \\mathcal{B}(n,1-\\alpha)$.\n",
    "\n",
    "Cette formule prend tout son sens puisque la VaR dynamique varie chaque jour.\n",
    "\n",
    "Ainsi, la fonction de Backtesting est réimplémentée comme suit :"
   ]
  },
  {
   "cell_type": "code",
   "execution_count": 651,
   "metadata": {},
   "outputs": [],
   "source": [
    "# Construction de l'échantillon des exceptions\n",
    "def Backtesting_dyn(data, VaR):\n",
    "    n = len(data)\n",
    "    exception_nb = 0 \n",
    "    for i in range(n):\n",
    "        if data[i] < VaR[i]:\n",
    "            exception_nb +=1\n",
    "    return exception_nb"
   ]
  },
  {
   "cell_type": "markdown",
   "metadata": {},
   "source": [
    "Il convient comme convenu de tester si la proportion empirique d'exceptions est bien égal à $1-\\alpha$. Pour un niveau de $\\alpha = 99\\%$, la VaR dynamique peut donc être backtesté comme suit :"
   ]
  },
  {
   "cell_type": "code",
   "execution_count": 654,
   "metadata": {},
   "outputs": [
    {
     "name": "stdout",
     "output_type": "stream",
     "text": [
      "La proportion d'exceptions est égale à 0.001\n",
      "p-value=0.001\n",
      "Le nombre d'exceptions au regard de la VaR dynamique 99% ne suit pas une Binomiale avec p = 1%\n"
     ]
    }
   ],
   "source": [
    "# Application de la fonction pour la VaR GEV\n",
    "backesting_dyn_99 = Backtesting_dyn(Log_Returns_test, VaR_dyn_99)\n",
    "n = len(Log_Returns_test)\n",
    "\n",
    "# Calcul de la proportion d'exceptions\n",
    "prop_dyn = backesting_dyn_99/n\n",
    "print(\"La proportion d'exceptions est égale à %.3f\" % prop_dyn)\n",
    "\n",
    "# Test d'adéquation\n",
    "p_value = sps.binom_test(x = backesting_dyn_99, n = n, p=0.01)\n",
    "print('p-value=%.3f' % p_value)\n",
    "# Interprétation\n",
    "alpha = 0.05\n",
    "if p_value > alpha:\n",
    "    print(\"Le nombre d'exceptions au regard de la VaR dynamique 99% suit bien une Binomiale avec p = 1%\")\n",
    "else:\n",
    "    print(\"Le nombre d'exceptions au regard de la VaR dynamique 99% ne suit pas une Binomiale avec p = 1%\")"
   ]
  },
  {
   "cell_type": "markdown",
   "metadata": {},
   "source": [
    "Malheureusement, la VaR dynamique reste trop conservatrice au regard de sa proportion très faible d'exception, et ne peut donc être validé par le Backtesting."
   ]
  },
  {
   "cell_type": "code",
   "execution_count": null,
   "metadata": {},
   "outputs": [],
   "source": []
  }
 ],
 "metadata": {
  "kernelspec": {
   "display_name": "Python 3",
   "language": "python",
   "name": "python3"
  },
  "language_info": {
   "codemirror_mode": {
    "name": "ipython",
    "version": 3
   },
   "file_extension": ".py",
   "mimetype": "text/x-python",
   "name": "python",
   "nbconvert_exporter": "python",
   "pygments_lexer": "ipython3",
   "version": "3.7.6"
  }
 },
 "nbformat": 4,
 "nbformat_minor": 2
}
