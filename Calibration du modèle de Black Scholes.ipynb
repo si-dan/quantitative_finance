{
 "cells": [
  {
   "cell_type": "markdown",
   "metadata": {},
   "source": [
    "## Authors : Si Dan HO, Antoine Jacquet, Mickael Masumbuko"
   ]
  },
  {
   "cell_type": "markdown",
   "metadata": {},
   "source": [
    "# Calibration du modèle de Black Scholes"
   ]
  },
  {
   "cell_type": "markdown",
   "metadata": {},
   "source": [
    "# Sommaire"
   ]
  },
  {
   "cell_type": "markdown",
   "metadata": {},
   "source": [
    "- Calcul d'un Call sous le modèle de Black Scholes\n",
    "    - Calcul d'un Call par la formule de Black Scholes\n",
    "    - Calcul d'un Call par Monte Carlo\n",
    "- Calcul des Greeks\n",
    "    - Formules fermées\n",
    "    - Différences finies\n",
    "- Calcul de la volatilité implicite\n",
    "- Bonus : Calibration de la nappe de volatilité des Calls (inachevé)\n",
    "    - Rappel de la fonction retournant la volatilité implicite du Call\n",
    "    - Chargement des données marchés des Calls de JP Morgan \n",
    "    - Calibration de la volatilité implicite\n",
    "    - Valeurs manquantes pour la volatilité implicite\n",
    "    - Traçage du Smile de volatilité\n",
    "- Bonus : pricing du Call par résolution numérique de l'EDP de Black Scholes\n",
    "    - Transformation de l'EDP de Black Scholes en l'équation de la chaleur\n",
    "    - Méthode des différences finies\n",
    "    - Résolution par le schéma de Crank Nicholson\n",
    "    - Schéma implicite"
   ]
  },
  {
   "cell_type": "markdown",
   "metadata": {},
   "source": [
    "## Calcul d'un Call sous le modèle de Black Scholes"
   ]
  },
  {
   "cell_type": "markdown",
   "metadata": {},
   "source": [
    "### Calcul d'un Call par la formule de Black Scholes"
   ]
  },
  {
   "cell_type": "code",
   "execution_count": 3,
   "metadata": {},
   "outputs": [],
   "source": [
    "import time\n",
    "import datetime as dt\n",
    "import pandas as pd\n",
    "import numpy as np\n",
    "import math\n",
    "import scipy as sp\n",
    "import scipy.stats as sps\n",
    "import scipy.optimize as spop\n",
    "import matplotlib.pyplot as plt\n",
    "import os\n",
    "import statsmodels.api as sm \n",
    "import pylab as py\n",
    "from scipy import interpolate\n",
    "\n",
    "from mpl_toolkits.mplot3d import Axes3D\n",
    "from matplotlib import cm\n",
    "import matplotlib as mpl\n",
    "from scipy.integrate import quad \n",
    "import random\n",
    "\n",
    "from scipy import sparse\n",
    "from scipy.sparse.linalg import splu\n",
    "from scipy.sparse.linalg import spsolve"
   ]
  },
  {
   "cell_type": "markdown",
   "metadata": {},
   "source": [
    "Rappelons que le modèle de Black Scholes permet de valoriser des options européennes vanilles de Strike $K$, de maturité $T$, et dont le sous jacent est de type Equity de prix $(S_t)$. Ainsi, le payoff de l'option est égal à $(S_t - K)_{+}$.\n",
    "\n",
    "Plus particulièrement, le modèle de Black Scholes stipule que la dynamique du sous-jacent sous la probabilité risque neutre est donnée par :\n",
    "\n",
    "$$\n",
    "dS_t = S_t(rdt + \\sigma dW_t)\n",
    "$$,\n",
    "\n",
    "et la formule de Black Scholes permet d'établir le prix $C_t$ de l'option à l'instant $t$ de la manière suivante, dans le cas d'un Call :\n",
    "\n",
    "$C(t,S) = C_{BS}(S_t, K,T,r,\\sigma) = S \\mathcal{N}(d_1) - Ke^{-r(T-t)}\\mathcal{N}(d_2)$ avec:\n",
    "\n",
    "$d_1 = \\frac{ln(S/K)+(r+\\sigma^2/2)(T-t)}{\\sigma \\sqrt{(T-t)}}$ et\n",
    "\n",
    "$d_2 = d_1 - \\sigma \\sqrt{(T-t)}$,\n",
    "\n",
    "et $\\mathcal{N}$ est la fonction de répartition d'une variable gaussienne centrée réduite.\n",
    "\n",
    "Nous posons : $\\tau = T-t$.\n",
    "\n",
    "Pour pricer un Call, les paramètres d'entrées nécessaire pour le calcul sont :\n",
    "\n",
    "- Prix du sous-jacent au temps t : $S_t$\n",
    "- le Strike $K$\n",
    "- le taux sans risque $r$\n",
    "- le ténor $\\tau = T-t$\n",
    "- la volatilité du sous-jacent : $\\sigma$.\n",
    "\n",
    "Dans le cas d'un Put, le prix est donné soit via la formule de parité Call Put :\n",
    "\n",
    "$$\n",
    "C(t) - P(t) = S_t - Ke^{-r(T-t)}\n",
    "$$\n",
    "\n",
    "ou bien par la formule de Black Scholes :\n",
    "\n",
    "$$\n",
    "P(t,S) = P_{BS}(S_t, K,T,r,\\sigma) = Ke^{-r(T-t)}\\mathcal{N}(-d_2) - S \\mathcal{N}(-d_1)\n",
    "$$\n",
    "\n",
    "Ainsi, l'implémentation de la formule de Black Scholes se fait comme suit dans le cas d'un Call:"
   ]
  },
  {
   "cell_type": "code",
   "execution_count": 4,
   "metadata": {},
   "outputs": [],
   "source": [
    "def FormulaBS(S,K,r,tau,sigma):\n",
    "    d1 = (math.log(S/K)+(r+sigma**2/2)*tau)/(sigma*math.sqrt(tau))\n",
    "    d2 = d1 - sigma*math.sqrt(tau)\n",
    "    C = S*sps.norm.cdf(d1) - K*math.exp(-r*tau)*sps.norm.cdf(d2)\n",
    "    return C"
   ]
  },
  {
   "cell_type": "markdown",
   "metadata": {},
   "source": [
    "- Supposons qu'à l'échéance de six mois, le cours de l'action sous-jacente est 42 euros, le strike est de 40, le taux d'intérêt sans risque est de 10% et la volatilité annuelle de 20%.\n",
    "\n",
    "De ce fait, en appliquant la fonction definie ci dessus:"
   ]
  },
  {
   "cell_type": "code",
   "execution_count": 5,
   "metadata": {},
   "outputs": [
    {
     "name": "stdout",
     "output_type": "stream",
     "text": [
      "Le prix du Call à maturité 6 mois est égale à =4.76\n"
     ]
    }
   ],
   "source": [
    "C1 = FormulaBS(42,40,0.1,0.5,0.2)\n",
    "print('Le prix du Call à maturité 6 mois est égale à =%.2f' % C1)"
   ]
  },
  {
   "cell_type": "markdown",
   "metadata": {},
   "source": [
    "- Supposons qu'à l'échéance de trois mois, le cours de l'action sous-jacente est 42 euros, le strike est de 40, le taux d'intérêt sans risque est de 10% et la volatilité annuelle de 20%.\n",
    "\n",
    "Le prix est donc :"
   ]
  },
  {
   "cell_type": "code",
   "execution_count": 6,
   "metadata": {},
   "outputs": [
    {
     "name": "stdout",
     "output_type": "stream",
     "text": [
      "Le prix du Call à maturité 3 mois est égale à =3.53\n"
     ]
    }
   ],
   "source": [
    "C2 = FormulaBS(42,40,0.1,0.25,0.2)\n",
    "print('Le prix du Call à maturité 3 mois est égale à =%.2f' % C2)"
   ]
  },
  {
   "cell_type": "markdown",
   "metadata": {},
   "source": [
    "Plus généralement, grâce à la formule de Black Scholes, il est possible de tracer le prix actuel d'un Call, en fonction du prix actuel $S_0$ du sous-jacent. \n",
    "\n",
    "Supposons ainsi un Call de strike 9000 et de maturité $T=2$, et dont le sous-jacent a une volatilité de 0.3 et le taux sans risque est de 0.05. Le traçage de sa valeur actuelle selon celle de son sous-jacent donne:"
   ]
  },
  {
   "cell_type": "code",
   "execution_count": 7,
   "metadata": {},
   "outputs": [
    {
     "data": {
      "text/plain": [
       "Text(0, 0.5, 'Valeur actuelle du Call (t=0)')"
      ]
     },
     "execution_count": 7,
     "metadata": {},
     "output_type": "execute_result"
    },
    {
     "data": {
      "image/png": "[encoded data removed]",
      "text/plain": [
       "<Figure size 432x288 with 1 Axes>"
      ]
     },
     "metadata": {
      "needs_background": "light"
     },
     "output_type": "display_data"
    }
   ],
   "source": [
    "# Déclaration des variables\n",
    "K = 9000 \n",
    "T = 2.0 \n",
    "r = 0.05 \n",
    "vol = 0.2\n",
    " \n",
    "# Calcul du prix du Strike selon BS pour divers prix du sous jacent au temps 0\n",
    "S = np.linspace(4000, 12000, 150)\n",
    "Payoff = np.maximum(S - K, 0)\n",
    "C = [FormulaBS(S_0, K, T, r, vol) for S_0 in S]\n",
    "\n",
    "# Plot du payoff et du prix du Call en fonction du sous jacent au temps 0\n",
    "plt.figure()\n",
    "plt.plot(S, Payoff, 'g-.', lw=3, label='Payoff') \n",
    "plt.plot(S, C, 'r', lw=3, label='valeur actuelle')\n",
    "plt.grid(True)\n",
    "plt.legend(loc=0)\n",
    "plt.xlabel('prix du sous jacent S au temps 0')\n",
    "plt.ylabel('Valeur actuelle du Call (t=0)')"
   ]
  },
  {
   "cell_type": "markdown",
   "metadata": {},
   "source": [
    "### Calcul d'un Call par Monte Carlo"
   ]
  },
  {
   "cell_type": "markdown",
   "metadata": {},
   "source": [
    "Rappelons que par le théorème fondamental de la valorisation des actifs, et sachant que le prix actualisé des actifs côtés sur le marché est une martingale sous la probabilité risque neutre, le prix d'un Call étant l'espérance de ses flux futurs actualisés sous la probabilité risque neutre, celui-ci est égal à :\n",
    "\n",
    "$C_t = e^{-r\\tau}\\mathbb{E}_{\\mathbb{Q}}[(S_T - K)_{+}]$ avec $\\mathbb{Q}$ la probabilité risque neutre.\n",
    "\n",
    "Par ailleurs, l'univers de Black Scholes stipule de le prix du sous-jacent suit la dynamique suivante :\n",
    "$dS_t = rS_t dt + \\sigma S_t dW_t$\n",
    "\n",
    "C'est à dire que au temps T : $S_T = S_t exp[(r-\\frac{\\sigma^2}{2})\\tau + \\sigma (W_T - W_t)]$\n",
    "\n",
    "Une manière naturelle d'exploiter cette formule serait d'appliquer la méthode de Monte Carlo. Il est connu que :\n",
    "\n",
    "$$\n",
    "\\mathbb{E}[g(X_t)] = \\frac{1}{M}\\sum_{i=1}^{M} g(X_t^i)\n",
    "$$\n",
    "\n",
    "Par ailleurs, sous la probabilité risque neutre, $W_t$ est un mouvement brownien ce qui implique que $(W_T - W_t)_{t \\geq 0}$ suit une loi normale $N(0, \\tau)$ sous cette probabilité.\n",
    "\n",
    "Ainsi, $S_T$ est de même loi que $S_t exp[(r-\\frac{\\sigma^2}{2})\\tau + \\sigma *\\sqrt{\\tau} Z]$ avec $Z \\sim N(0,\\tau)$.\n",
    "\n",
    "De ce fait, la formule du Call peut être estimée par :\n",
    "\n",
    "$$\n",
    "\\hat{C}_t \\approx e^{-r\\tau}*\\frac{1}{M}\\sum_{i=1}^{M}(S_T^i - K)_{+}\n",
    "$$\n",
    "\n",
    "La première étape de la méthode Monte Carlo est de simuler les variables $(W_T - W_t)^i$ pour $i \\in [|1,M|]$.\n",
    "\n",
    "En posant $g(x) = (S_t exp[(r-\\frac{\\sigma^2}{2})\\tau + \\sigma x] - K)_{+}$, nous avons:\n",
    "\n",
    "$$\n",
    "\\hat{C}_t \\approx e^{-r\\tau}*\\frac{1}{M}\\sum_{i=1}^{M}g(W_T - W_t)\n",
    "$$\n",
    "\n",
    "La méthode de Monte Carlo est implémentée selon la fonction suivante :"
   ]
  },
  {
   "cell_type": "code",
   "execution_count": 8,
   "metadata": {},
   "outputs": [],
   "source": [
    "def MCCall(S, K, r, tau, sigma, M):\n",
    "    G = 0\n",
    "    for i in range(M):\n",
    "        G+= max(S*math.exp((r-sigma**2/2)*tau +sigma*np.random.normal(0, math.sqrt(tau))) - K, 0)\n",
    "    C = (math.exp(-r*tau) * G)/M\n",
    "    return C"
   ]
  },
  {
   "cell_type": "markdown",
   "metadata": {},
   "source": [
    "De ce fait :"
   ]
  },
  {
   "cell_type": "code",
   "execution_count": 9,
   "metadata": {},
   "outputs": [
    {
     "name": "stdout",
     "output_type": "stream",
     "text": [
      "Le prix du Call à maturité 6 mois selon Monte Carlo avec 500 simulations est égale à 4.83\n",
      "Le prix du Call à maturité 6 mois selon Monte Carlo avec 5000 simulations est égale à 4.67\n",
      "Le prix du Call à maturité 6 mois selon Monte Carlo avec 50000 simulations est égale à 4.75\n"
     ]
    }
   ],
   "source": [
    "C1_MC_1 = MCCall(42,40,0.1,0.5,0.2, 500)\n",
    "C1_MC_2 = MCCall(42,40,0.1,0.5,0.2, 5000)\n",
    "C1_MC_3 = MCCall(42,40,0.1,0.5,0.2, 50000)\n",
    "print('Le prix du Call à maturité 6 mois selon Monte Carlo avec 500 simulations est égale à %.2f' % C1_MC_1)\n",
    "print('Le prix du Call à maturité 6 mois selon Monte Carlo avec 5000 simulations est égale à %.2f' % C1_MC_2)\n",
    "print('Le prix du Call à maturité 6 mois selon Monte Carlo avec 50000 simulations est égale à %.2f' % C1_MC_3)"
   ]
  },
  {
   "cell_type": "code",
   "execution_count": 10,
   "metadata": {},
   "outputs": [
    {
     "name": "stdout",
     "output_type": "stream",
     "text": [
      "Le prix du Call à maturité 3 mois selon Monte Carlo avec 500 simulations est égale à 3.48\n",
      "Le prix du Call à maturité 3 mois selon Monte Carlo avec 5000 simulations est égale à 3.56\n",
      "Le prix du Call à maturité 3 mois selon Monte Carlo avec 50000 simulations est égale à 3.52\n"
     ]
    }
   ],
   "source": [
    "C2_MC_1 = MCCall(42,40,0.1,0.25,0.2, 500)\n",
    "C2_MC_2 = MCCall(42,40,0.1,0.25,0.2, 5000)\n",
    "C2_MC_3 = MCCall(42,40,0.1,0.25,0.2, 50000)\n",
    "print('Le prix du Call à maturité 3 mois selon Monte Carlo avec 500 simulations est égale à %.2f' % C2_MC_1)\n",
    "print('Le prix du Call à maturité 3 mois selon Monte Carlo avec 5000 simulations est égale à %.2f' % C2_MC_2)\n",
    "print('Le prix du Call à maturité 3 mois selon Monte Carlo avec 50000 simulations est égale à %.2f' % C2_MC_3)"
   ]
  },
  {
   "cell_type": "markdown",
   "metadata": {},
   "source": [
    "### Calcul des Greeks"
   ]
  },
  {
   "cell_type": "markdown",
   "metadata": {},
   "source": [
    "### Formules fermées"
   ]
  },
  {
   "cell_type": "markdown",
   "metadata": {},
   "source": [
    "rappelons que les principaux Greeks d'une option sont :\n",
    "\n",
    "$\\Delta = \\frac{\\partial C}{\\partial S} = N(d_1) > 0$\n",
    "\n",
    "$\\Gamma = \\frac{\\partial^2 C}{\\partial S^2} = \\frac{1}{S\\sigma \\sqrt{T-t}}*\\frac{e^{-d_1^2/2}}{\\sqrt{2\\pi}}$\n",
    "\n",
    "$V = \\frac{\\partial C}{\\partial \\sigma} = s \\sqrt{T-t} \\frac{e^{-d_1^2/2}}{\\sqrt{2\\pi}} > 0$"
   ]
  },
  {
   "cell_type": "markdown",
   "metadata": {},
   "source": [
    "Le calcul des formules fermées ci dessus s'obtient via la fonction suivante :"
   ]
  },
  {
   "cell_type": "code",
   "execution_count": 11,
   "metadata": {},
   "outputs": [],
   "source": [
    "def FormulaBSGreeks(S,K,r,tau,sigma) :\n",
    "    d1 = (math.log(S/K)+(r+sigma**2/2)*tau)/(sigma*math.sqrt(tau))\n",
    "    Delta = sps.norm.cdf(d1)\n",
    "    Gamma = (1/(S*sigma*math.sqrt(tau)))*(math.exp(-d1**2/2))/math.sqrt(2*math.pi)\n",
    "    Vega = (S*math.sqrt(tau))*sps.norm.pdf(d1)\n",
    "    return (Delta, Gamma, Vega)"
   ]
  },
  {
   "cell_type": "markdown",
   "metadata": {},
   "source": [
    "Ainsi, pour une option dont le sous jacent vaut 100 euros, le strike est de 110 euros, le taux sans risque est de 0.1, l'échéance est de six mois, et la volatilité est de 0.2, les Greeks du Call en questions sont :"
   ]
  },
  {
   "cell_type": "code",
   "execution_count": 12,
   "metadata": {},
   "outputs": [
    {
     "name": "stdout",
     "output_type": "stream",
     "text": [
      "Delta =0.401, Gamma =0.027, Vega =27.344\n"
     ]
    }
   ],
   "source": [
    "Delta, Gamma, Vega = FormulaBSGreeks(100,110,0.1,0.5,0.2)\n",
    "print('Delta =%.3f, Gamma =%.3f, Vega =%.3f' % (Delta, Gamma, Vega))"
   ]
  },
  {
   "cell_type": "markdown",
   "metadata": {},
   "source": [
    "### Différences finies"
   ]
  },
  {
   "cell_type": "markdown",
   "metadata": {},
   "source": [
    "Les formules fermées ne pouvant pas forcément être trouvées explicitement, les Greeks doivent être approximées. Sachant que ce sont les dérivées partielles du prix du Call en fonction des divers facteurs de risques (Sous Jacent et volatilité), la méthode numérique la plus adéquate est celle des différences finies de type centré.\n",
    "\n",
    "Prenons par exemple le Delta du Call. Dans ce cas, en posant $C(t, S)$ le prix du Call, nous avons : $\\Delta_t \\approx \\frac{C(t, S+h) - C(t, S-h)}{2h}$. Ce résultat peut être démontré via un développement de Taylor du premier ordre.\n",
    "\n",
    "Concernant son Gamma, nous avons : $\\Gamma_t \\approx \\frac{C(t, S+h) + C(t, S-h) - 2C(t,S)}{h^2}$.\n",
    "\n",
    "La valeur de $h$ doit être suffisamment petit pour avoir une approximation correcte des Greeks, mais pas trop car cela peut amener à des valeures instables en cas d'erreurs de données, qui sont dans ce cas amplifié. (Cela est considéré comme un problème de calibration.\n",
    "\n",
    "En utilisant la formule de Black Scholes pour le prix du Call, la fonction implémentant les Greeks selon les différences finies est :"
   ]
  },
  {
   "cell_type": "code",
   "execution_count": 13,
   "metadata": {},
   "outputs": [],
   "source": [
    "def DiffiniesGreeks(S,K,r,tau,sigma, h) :\n",
    "    Delta = (FormulaBS(S+h,K,r,tau,sigma) - FormulaBS(S-h,K,r,tau,sigma))/(2*h)\n",
    "    Gamma = (FormulaBS(S+h,K,r,tau,sigma) + FormulaBS(S-h,K,r,tau,sigma) - 2*FormulaBS(S,K,r,tau,sigma))/(h**2)\n",
    "    Vega = (FormulaBS(S,K,r,tau,sigma+h) - FormulaBS(S,K,r,tau,sigma-h))/2*h\n",
    "    return (Delta, Gamma, Vega)"
   ]
  },
  {
   "cell_type": "markdown",
   "metadata": {},
   "source": [
    "En utilisant le même type de Call que celui défini précédemment dans le calcul des Greeks selon les formules fermées, les Greeks calculés en différences finies sont, en posant $h = 0.1$:"
   ]
  },
  {
   "cell_type": "code",
   "execution_count": 14,
   "metadata": {},
   "outputs": [
    {
     "name": "stdout",
     "output_type": "stream",
     "text": [
      "Delta en différences finies =0.401, Gamma en différences finies =0.027, Vega en différences finies =27.344\n"
     ]
    }
   ],
   "source": [
    "Delta, Gamma, Vega = FormulaBSGreeks(100,110,0.1,0.5,0.2)\n",
    "print('Delta en différences finies =%.3f, Gamma en différences finies =%.3f, Vega en différences finies =%.3f' % (Delta, Gamma, Vega))"
   ]
  },
  {
   "cell_type": "markdown",
   "metadata": {},
   "source": [
    "### Calcul de la volatilité implicite"
   ]
  },
  {
   "cell_type": "markdown",
   "metadata": {},
   "source": [
    "La volatilité est l'unique paramètre inobservable dans le modèle de Black Scholes. Ainsi, la volatilité implicite est la volatilité du Call calibrée sur le modèle de Black Scholes afin que le prix du Call issu du modèle puisse coller avec celui observé sur le marché, que l'on note $C$.\n",
    "\n",
    "Si l'on considère le prix du Call établi par la formule de Black Scholes comme fonction de la volatilité du sous-jacent, noté $C^{BS}(\\sigma)$, nous avons : \n",
    "\n",
    "$lim_{\\sigma \\rightarrow 0} C^{BS}(\\sigma) = (S_t - Ke^{-r(T-t)})_{+}$ et $lim_{\\sigma \\rightarrow \\infty} C^{BS}(\\sigma) = S_t$\n",
    "\n",
    "De plus, $V = \\frac{\\partial C^{BS}}{\\partial \\sigma} = s \\sqrt{T-t} \\frac{e^{-d_1^2/2}}{\\sqrt{2\\pi}} > 0$.\n",
    "\n",
    "Ainsi, l'équation $C^{BS}(\\sigma) = C$ a une unique solution par monotonie de la fonction $C^{BS}$, sous réserve que C vérifie les contraintes d'arbitrages : $(S_t - Ke^{-r(T-t)})_{+} \\leq C \\leq S_t$ (contraintes démontrées par le calcul du signe de la dérivée seconde $\\frac{\\partial^2 C^{BS}}{\\partial \\sigma^2}$, et qui confirme la convexité de la fonction dans les bornes d'arbitrages).\n",
    "\n",
    "Une autre explication de l'unicité de la solution serait que le Veja de l'option est toujours strictement positive, garantissant ainsi que le prix d'un Call est une fonction strictement croissante de la volatilité : $C(\\sigma)$. En observant un prix de marché d'un certain Call (sous condition d'absence d'opportunité d'arbitrage), il est naturel de retrouver une unique volatilité implicite via la bijectivité de la fonction.\n",
    "\n",
    "De ce fait, il est possible de retrouver la volatilité implicite via l'algorithme de Newton : \n",
    "\n",
    "$$\n",
    "\\sigma_0 = \\sqrt{\\frac{2|log(m)|}{T-t}}, m = \\frac{S_t}{Ke^{-r(T-t)}}\n",
    "$$\n",
    "$$\n",
    "\\sigma_{n+1} = \\sigma_n + \\frac{C - C^{BS}(\\sigma_n)}{\\frac{\\partial C^{BS}}{\\partial \\sigma}(\\sigma_n)}\n",
    "$$\n",
    "\n",
    "Cette algorithme est implémentée comme suit :"
   ]
  },
  {
   "cell_type": "code",
   "execution_count": 15,
   "metadata": {},
   "outputs": [],
   "source": [
    "def ImpliedVolBS(S,K,r,tau,Call, N):\n",
    "    m = S/K*math.exp(-r*tau)\n",
    "    sigma = math.sqrt(2*abs(math.log(m))/tau)\n",
    "    for i in range(N):\n",
    "        d1 = (math.log(S/K)+(r+sigma**2/2)*tau)/(sigma*math.sqrt(tau))\n",
    "        Vega = (S*math.sqrt(tau))*(math.exp(-d1**2/2))/math.sqrt(2*math.pi)\n",
    "        sigma+= (Call - FormulaBS(S,K,r,tau,sigma))/Vega\n",
    "    return sigma"
   ]
  },
  {
   "cell_type": "markdown",
   "metadata": {},
   "source": [
    "Pour une option d'achat à la monnaie d'échéance 3 mois valant 4.58 euros sur le marché sachant que $S_0 = 100$ et $r=5%$, la volatilité implicite est :"
   ]
  },
  {
   "cell_type": "code",
   "execution_count": 16,
   "metadata": {},
   "outputs": [
    {
     "name": "stdout",
     "output_type": "stream",
     "text": [
      "La volatilité implicite est égale à 0.1982183263\n"
     ]
    }
   ],
   "source": [
    "Vol_imp = ImpliedVolBS(100,100,0.05,0.25,4.58, 20)\n",
    "print('La volatilité implicite est égale à %.10f' % Vol_imp)"
   ]
  },
  {
   "cell_type": "markdown",
   "metadata": {},
   "source": [
    "Pour une option d'achat à la monnaie d'échéance 6 mois valant 4.58 euros sur le marché sachant que $S_0 = 100$ et $r=5%$, la volatilité implicite est :"
   ]
  },
  {
   "cell_type": "code",
   "execution_count": 17,
   "metadata": {},
   "outputs": [
    {
     "name": "stdout",
     "output_type": "stream",
     "text": [
      "La volatilité implicite est égale à 0.1147074026\n"
     ]
    }
   ],
   "source": [
    "Vol_imp = ImpliedVolBS(100,100,0.05,0.5,4.58, 20)\n",
    "print('La volatilité implicite est égale à %.10f' % Vol_imp)"
   ]
  },
  {
   "cell_type": "markdown",
   "metadata": {},
   "source": [
    "Cependant, lorsque la valeur du Call C observée sur le marché est trop proche des bornes d'arbitrages définiées précédemment, l'algorithme de Newton peut donner des valeurs instables. Dans ce cas, la méthode de bissection sur la fonction : $x \\rightarrow C^{BS}(\\frac{x}{1-x})$."
   ]
  },
  {
   "cell_type": "markdown",
   "metadata": {},
   "source": [
    "### Bonus : Calibration de la nappe de volatilité des Calls (inachevé)"
   ]
  },
  {
   "cell_type": "markdown",
   "metadata": {},
   "source": [
    "Une des limites du modèle de Black Scholes est que la volatilité du sous-jacent et donc de l'option est supposée constante,  ce qui est une hypothèse trop forte puisque la volatilité peut avoir une dynamique propre à elle et que l'on observe des phénomènes de Volatility Clustering liées à des évènements tels que les Krachs Boursiers. Cela a été observé lors du Krach boursier de Wall Street en 1987. Les rendements du sous-jacent ne sont en réalité pas Gaussienne, ont une distribution à queue épaisse et ne sont pas i.i.d. L'hypothèse stipulant que le sous-jacent suit un mouvement brownien géométrique st donc remis en cause. Cela implique ainsi une Volatilité implicite qui est en réalité aléatoire et donc non constante.\n",
    "\n",
    "Le phénomène qui illustre parfaitement cette limite du modèle concerne celle du Smile de volatilité, ou plus généralement de la nappe de volatilité. En effet, la volatilité est en réalité une fonction du Strike $K$ et de la maturité $T$. Ainsi, elle est exprimée sous la forme $\\sigma(K,T)$. Or le modèle de Black Scholes suppose une volatilité constante. Ainsi, si le modèle était juste, nous aurions eu $\\sigma(K,T) = \\sigma$ pour tout $(K,T)$, ce qui n'est pas le cas.\n",
    "\n",
    "Cela peut par ailleurs être appuyé par le fait que l'on trouve des prix de Call différents sur le marché en fonction du Strike $K$ et de la maturité $T$.\n",
    "\n",
    "Pour une certaine maturité $T$, la volatilité implicite est élevée pour les Calls dont le strike $K$ est petit. Plus celui ci augmente, plus la volatilité diminue, ce qui illustre le phénomène de Volatility Skew. Cependant, pour des Call à très grands strikes, il se peut que cette volatilité augmente à nouveau. Il s'agit ici du Smile de volatilité. Plus précisément, la volatilité implicite du Call est au plus bas lorsque celui-ci est à la monnaie, et elle augmente au fur et à mesure que le Call s'éloigne de la monnaie.\n",
    "\n",
    "Par ailleurs, la volatilité implicite est souvent bien plus élevée pour des Calls de maturité courtes que celles de maturité longues. Plus précisément, le phénomène du Smile est davantage marqué pour les options à courtes maturités que pour les longues. Cela est particulièrement vraie en cas de période stressée du fait de l'incertitude sur les marchés ainsi que du caractère risque-adverse des agents. Lorsque la maturité tend vers l'infini, la volatilité tend vers une constante.\n",
    "\n",
    "Le traçace de la volatilité en tant que fonction du strike et de la maturité de l'option permet ainsi d'obtenir ce qu'on appelle communément la Nappe de volatilité. Ce paragraphe sera donc consacré à la calibration de cette Nappe de volatilité à partir de la formule de Black Scholes."
   ]
  },
  {
   "cell_type": "markdown",
   "metadata": {},
   "source": [
    "#### Rappel de la fonction retournant la volatilité implicite du Call"
   ]
  },
  {
   "cell_type": "markdown",
   "metadata": {},
   "source": [
    "Rappelons la fonction permettant de calculer la volatilité implicite d'une option, selon laquelle le prix du Call calculé par le modèle est au plus proche de celui observé sur le marché :"
   ]
  },
  {
   "cell_type": "code",
   "execution_count": 142,
   "metadata": {},
   "outputs": [],
   "source": [
    "def ImpliedVolBS(S,K,r,tau,Call, N):\n",
    "    m = S/K*math.exp(-r*tau)\n",
    "    sigma = math.sqrt(2*abs(math.log(m))/tau)\n",
    "    for i in range(N):\n",
    "        d1 = (math.log(S/K)+(r+sigma**2/2)*tau)/(sigma*math.sqrt(tau))\n",
    "        Vega = (S*math.sqrt(tau))*(math.exp(-d1**2/2))/math.sqrt(2*math.pi)\n",
    "        if Vega != 0:\n",
    "            sigma+= (Call - FormulaBS(S,K,r,tau,sigma))/Vega\n",
    "        else :\n",
    "            sigma+=0\n",
    "    return sigma"
   ]
  },
  {
   "cell_type": "code",
   "execution_count": 155,
   "metadata": {},
   "outputs": [],
   "source": [
    "def ImpliedVolBS(S,K,r,tau,Call, N):\n",
    "    _S, _K, _r, _tau, _Call, _N = S,K,r,tau,Call, N\n",
    "    m = S/K*math.exp(-r*tau)\n",
    "    sigma_0 = math.sqrt(2*abs(math.log(m))/tau)\n",
    "    difference_call = lambda sigma : _Call - FormulaBS(_S,_K,_r,_tau,sigma)\n",
    "    iv = spop.fsolve(difference_call, sigma_0)\n",
    "    return iv"
   ]
  },
  {
   "cell_type": "markdown",
   "metadata": {},
   "source": [
    "Ainsi, il convient par la suite de charger et traiter les données de marché pour les Calls afin de calculer l'ensemble des volatilités implicites."
   ]
  },
  {
   "cell_type": "markdown",
   "metadata": {},
   "source": [
    "#### Chargement et traitement des données de marché pour les Calls"
   ]
  },
  {
   "cell_type": "markdown",
   "metadata": {},
   "source": [
    "La nappe de volatilité sera calibrée sur les Calls portant sur les actions des entreprise de la banque américaine JP Morgan. Pour cela, les données concernées sont importés du site Yahoo Finance via la librairie yfinance. Dans un premier temps, nous créons un dictionnaire contenant, pour chaque date d'expiration des Calls du groupe, un dataFrame de l'ensemble des caractéristiques de ces dernières. Par ailleurs, une colonne destiné à la date d'expiration de chaque Call est créée."
   ]
  },
  {
   "cell_type": "code",
   "execution_count": 124,
   "metadata": {},
   "outputs": [],
   "source": [
    "import yfinance as yfi\n",
    "\n",
    "# Déclaration du Ticker JPM\n",
    "JPM = yfi.Ticker(\"JPM\")\n",
    "\n",
    "# Obtention de l'ensemble des dates d'expirations des Calls de JP Morgan\n",
    "JPM_date = JPM.options\n",
    "\n",
    "# Déclaration du dictionnaire Vide\n",
    "Calls_JPM = {}\n",
    "\n",
    "for date in JPM_date:\n",
    "    # Ajout de la DataFrame des Calls pour chaque date d'expirations\n",
    "    Calls_JPM[date] = JPM.option_chain(date).calls\n",
    "    # Création de la colonne de la date d'expiration\n",
    "    Calls_JPM[date]['Expiration'] = date"
   ]
  },
  {
   "cell_type": "markdown",
   "metadata": {},
   "source": [
    "Le dictionnaire créé sera ensuite converti en DataFrame : chaque DataFrame du dictionnaire sera concaténé dans une seule et unique DataFrame."
   ]
  },
  {
   "cell_type": "code",
   "execution_count": 125,
   "metadata": {},
   "outputs": [],
   "source": [
    "# Conversion du dictionnaire en DataFrame\n",
    "Data_Calls_JPM = pd.DataFrame()\n",
    "for date in JPM_date:\n",
    "    Data_Calls_JPM = pd.concat([Data_Calls_JPM, Calls_JPM[date]])"
   ]
  },
  {
   "cell_type": "markdown",
   "metadata": {},
   "source": [
    "Les indices étant mal définies après cette conversion du dictionnaire en DataFrame, ils sont redéfinies par une séquence consécutive d'integer allant de 1 à la longueur totale du DataFrame."
   ]
  },
  {
   "cell_type": "code",
   "execution_count": 126,
   "metadata": {},
   "outputs": [],
   "source": [
    "n = len(Data_Calls_JPM)\n",
    "Data_Calls_JPM[\"Index\"] = [i for i in range (n)]\n",
    "Data_Calls_JPM = Data_Calls_JPM.set_index(\"Index\")"
   ]
  },
  {
   "cell_type": "markdown",
   "metadata": {},
   "source": [
    "Par ailleurs, nous disposons de la date d'expiration des Calls mais pas de leur ténor. Ainsi, il faut rajouter cette variable dans le jeu de données. Pour cela, nous exprimons les dates d'expirations selon la date exacte suivi de l'heure, la minute et la seconde (23h 59 min 59 sec) et la soustrayons à la dernière date de trading de chaque Call, avant de diviser la différence avec le nombre total de seconde dans une année (qui est de 31536000) afin d'obtenir le ténor de chaque Call exprimé en année."
   ]
  },
  {
   "cell_type": "code",
   "execution_count": 127,
   "metadata": {},
   "outputs": [],
   "source": [
    "# Conversion en datetime des deux colonnes concernées\n",
    "Expiration = pd.to_datetime(Data_Calls_JPM['Expiration'])\n",
    "lastTradeDate = pd.to_datetime(Data_Calls_JPM['lastTradeDate'])\n",
    "\n",
    "# Ajout de l'heure pour la date d'expiration et reconversion en datetime\n",
    "date_str = Expiration.dt.strftime('%Y-%m-%d') + ' 23:59:59'\n",
    "date_str = pd.to_datetime(date_str)\n",
    "\n",
    "# Expression de la différence entre l'expiration et la dernière date de trading\n",
    "time_difference = date_str - lastTradeDate\n",
    "\n",
    "# Conversion de la différence en seconde\n",
    "difference_in_sec = time_difference.dt.total_seconds().astype(int)\n",
    "\n",
    "# nombre de secondes dans une année\n",
    "seconds_in_year = 31536000\n",
    "\n",
    "# Mise à jour de la date d'expiration\n",
    "Data_Calls_JPM[\"Expiration\"] = date_str\n",
    "\n",
    "# Calcul du Tenor des Calls et ajout dans le jeu de données\n",
    "Data_Calls_JPM[\"Tenor\"] = np.maximum((difference_in_sec/seconds_in_year).values, 1e-10)\n",
    "\n",
    "# Calcul du Tenor des Calls et ajout dans le jeu de données\n",
    "Data_Calls_JPM[\"Tenor_in_days\"] = time_difference.dt.days + 1"
   ]
  },
  {
   "cell_type": "markdown",
   "metadata": {},
   "source": [
    "Par ailleurs, nous supprimons les colonnes percentChange ainsi que la volatilité implicite car cette dernière sera calculée manuellement dans ce projet. Par la suite, les colones seront renommées pour davantage de visibilité."
   ]
  },
  {
   "cell_type": "code",
   "execution_count": 128,
   "metadata": {},
   "outputs": [],
   "source": [
    "del Data_Calls_JPM[\"percentChange\"]\n",
    "del Data_Calls_JPM[\"impliedVolatility\"]"
   ]
  },
  {
   "cell_type": "code",
   "execution_count": 129,
   "metadata": {},
   "outputs": [],
   "source": [
    "columns = {'contractSymbol':'Symbol', \n",
    "           'lastTradeDate':'Last_Trade_Date',\n",
    "           'strike':'Strike',\n",
    "          'lastPrice':'Last_Price',\n",
    "          'bid':'Bid',\n",
    "          'ask':'Ask',\n",
    "          'change':'Chg',\n",
    "          'volume':'Volume',\n",
    "          'openInterest':'Open_Interest',\n",
    "          'inTheMoney':'In_The_Money',\n",
    "          'contractSize':'Contract_Size',\n",
    "          'currency':'Currency',\n",
    "          'Expiration':'Expiration',\n",
    "          'Tenor':'Tenor'}\n",
    "\n",
    "Data_Calls_JPM.rename(columns=columns, inplace = True)"
   ]
  },
  {
   "cell_type": "markdown",
   "metadata": {},
   "source": [
    "Par ailleurs, il est décidé de calibrer la volatilité implicite selon la moyenne arithmétique entre le bid et le ask, qui est considéré comme le prix représentant au mieux celui du Call observé sur le marché. De ce fait, nous implémentons la fonction calculant cette quantité."
   ]
  },
  {
   "cell_type": "code",
   "execution_count": 130,
   "metadata": {},
   "outputs": [],
   "source": [
    "def get_fair_price(data):\n",
    "    Bid = data[\"Bid\"]\n",
    "    Ask = data[\"Ask\"]\n",
    "    Last = data[\"Last_Price\"]\n",
    "    # On retourne 0 si le bid ou le ask est manquante\n",
    "    if np.isnan(Bid) or np.isnan(Ask):\n",
    "        return 0.0\n",
    "    # On retourne le dernier prix de trade si le bid ou le ask est nul\n",
    "    elif Bid == 0.0 or Ask == 0.0:\n",
    "        return Last\n",
    "    else:\n",
    "        return (Bid+Ask)/2.0"
   ]
  },
  {
   "cell_type": "code",
   "execution_count": 131,
   "metadata": {},
   "outputs": [],
   "source": [
    "# Rajout du prix Mid au jeu de données\n",
    "Data_Calls_JPM['Mid'] = Data_Calls_JPM.apply(get_fair_price, axis=1)"
   ]
  },
  {
   "cell_type": "markdown",
   "metadata": {},
   "source": [
    "Le prix du sous-jacent, c'est à dire celui des actions de JP Morgan, lors du trade des Calls du groupe, n'a pas été spécifié dans le jeu de données. Il convient ainsi de récupérer les données en question pour la calibration de la volatilité implicite. Ainsi, les prix des actions du groupe sur un historique d'un an sont importés du site Yahoo Finance."
   ]
  },
  {
   "cell_type": "code",
   "execution_count": 132,
   "metadata": {},
   "outputs": [],
   "source": [
    "# Importation des données historiques de JPM\n",
    "JPM_equity = JPM.history(period=\"1y\")\n",
    "JPM_equity = pd.DataFrame(JPM_equity[\"Close\"])"
   ]
  },
  {
   "cell_type": "markdown",
   "metadata": {},
   "source": [
    "Par ailleurs, nous enlevons l'heure, la minute et la seconde de la date du dernier trade des Calls afin de ne garder que l'année, le mois et le jour."
   ]
  },
  {
   "cell_type": "code",
   "execution_count": 133,
   "metadata": {},
   "outputs": [],
   "source": [
    "n = len(Data_Calls_JPM)\n",
    "index = [i for i in range (n)]\n",
    "\n",
    "# Création de la variable de la date du dernier trade sans heures\n",
    "lastTradeDate_bis_character=[0 for i in range(n)]\n",
    "for i in range(n):\n",
    "    lastTradeDate_bis_character[i] = str(Data_Calls_JPM['Last_Trade_Date'][i])[0:10]\n",
    "    \n",
    "# Conversion du vecteur en datetime\n",
    "lastTradeDate_bis = pd.to_datetime(lastTradeDate_bis_character)\n",
    "\n",
    "# Création de la colonne associée dans le jeu de données\n",
    "Data_Calls_JPM[\"Last_Trade_Date_without_hours\"] = lastTradeDate_bis\n",
    "\n",
    "# On indexe la DataFrame des Calls par ladite colonne afin d'effectuer la jointure ultérieurement selon les index\n",
    "Data_Calls_JPM = Data_Calls_JPM.set_index(\"Last_Trade_Date_without_hours\")"
   ]
  },
  {
   "cell_type": "markdown",
   "metadata": {},
   "source": [
    "Après avoir défini cette nouvelle colonne, nous joignons la table de données des options de JP Morgan avec celle du prix de ses actions qui sont considérés comme le sous-jacent. Cela permet ainsi d'obtenir le prix du sous-jacent des Calls lors de la date de Trade de ces derniers.\n",
    "\n",
    "Ainsi, la jointure (selon une procédure Left Join) se fait selon la nouvelle variable définie qui est la date du dernier trade sans l'heure."
   ]
  },
  {
   "cell_type": "code",
   "execution_count": 134,
   "metadata": {},
   "outputs": [],
   "source": [
    "# On joint selon une procédure Left Join la table des Calls avec celle du prix du sous-jacent, selon l'index\n",
    "Data_Calls_JPM = Data_Calls_JPM.join(JPM_equity)"
   ]
  },
  {
   "cell_type": "code",
   "execution_count": 135,
   "metadata": {},
   "outputs": [],
   "source": [
    "# On renomme la colonne Close par Underlying_Price\n",
    "columns = {'Close':'Underlying_Price'}\n",
    "Data_Calls_JPM.rename(columns=columns, inplace = True)"
   ]
  },
  {
   "cell_type": "code",
   "execution_count": 136,
   "metadata": {},
   "outputs": [
    {
     "data": {
      "text/html": [
       "<div>\n",
       "<style scoped>\n",
       "    .dataframe tbody tr th:only-of-type {\n",
       "        vertical-align: middle;\n",
       "    }\n",
       "\n",
       "    .dataframe tbody tr th {\n",
       "        vertical-align: top;\n",
       "    }\n",
       "\n",
       "    .dataframe thead th {\n",
       "        text-align: right;\n",
       "    }\n",
       "</style>\n",
       "<table border=\"1\" class=\"dataframe\">\n",
       "  <thead>\n",
       "    <tr style=\"text-align: right;\">\n",
       "      <th></th>\n",
       "      <th>Symbol</th>\n",
       "      <th>Last_Trade_Date</th>\n",
       "      <th>Strike</th>\n",
       "      <th>Last_Price</th>\n",
       "      <th>Bid</th>\n",
       "      <th>Ask</th>\n",
       "      <th>Chg</th>\n",
       "      <th>Volume</th>\n",
       "      <th>Open_Interest</th>\n",
       "      <th>In_The_Money</th>\n",
       "      <th>Contract_Size</th>\n",
       "      <th>Currency</th>\n",
       "      <th>Expiration</th>\n",
       "      <th>Tenor</th>\n",
       "      <th>Tenor_in_days</th>\n",
       "      <th>Mid</th>\n",
       "      <th>Underlying_Price</th>\n",
       "    </tr>\n",
       "  </thead>\n",
       "  <tbody>\n",
       "    <tr>\n",
       "      <th>2020-06-18</th>\n",
       "      <td>JPM220121C00100000</td>\n",
       "      <td>2020-06-18 14:06:03</td>\n",
       "      <td>100.0</td>\n",
       "      <td>15.55</td>\n",
       "      <td>15.35</td>\n",
       "      <td>15.65</td>\n",
       "      <td>0.150001</td>\n",
       "      <td>29.0</td>\n",
       "      <td>3712.0</td>\n",
       "      <td>False</td>\n",
       "      <td>REGULAR</td>\n",
       "      <td>USD</td>\n",
       "      <td>2022-01-21 23:59:59</td>\n",
       "      <td>1.595651</td>\n",
       "      <td>583</td>\n",
       "      <td>15.500</td>\n",
       "      <td>99.68</td>\n",
       "    </tr>\n",
       "    <tr>\n",
       "      <th>2020-06-18</th>\n",
       "      <td>JPM220121C00105000</td>\n",
       "      <td>2020-06-18 14:07:26</td>\n",
       "      <td>105.0</td>\n",
       "      <td>13.80</td>\n",
       "      <td>13.55</td>\n",
       "      <td>13.95</td>\n",
       "      <td>0.630000</td>\n",
       "      <td>53.0</td>\n",
       "      <td>2935.0</td>\n",
       "      <td>False</td>\n",
       "      <td>REGULAR</td>\n",
       "      <td>USD</td>\n",
       "      <td>2022-01-21 23:59:59</td>\n",
       "      <td>1.595648</td>\n",
       "      <td>583</td>\n",
       "      <td>13.750</td>\n",
       "      <td>99.68</td>\n",
       "    </tr>\n",
       "    <tr>\n",
       "      <th>2020-06-18</th>\n",
       "      <td>JPM220121C00115000</td>\n",
       "      <td>2020-06-18 13:43:35</td>\n",
       "      <td>115.0</td>\n",
       "      <td>9.78</td>\n",
       "      <td>9.75</td>\n",
       "      <td>10.10</td>\n",
       "      <td>-0.420000</td>\n",
       "      <td>10.0</td>\n",
       "      <td>2091.0</td>\n",
       "      <td>False</td>\n",
       "      <td>REGULAR</td>\n",
       "      <td>USD</td>\n",
       "      <td>2022-01-21 23:59:59</td>\n",
       "      <td>1.595693</td>\n",
       "      <td>583</td>\n",
       "      <td>9.925</td>\n",
       "      <td>99.68</td>\n",
       "    </tr>\n",
       "    <tr>\n",
       "      <th>2020-06-18</th>\n",
       "      <td>JPM220121C00120000</td>\n",
       "      <td>2020-06-18 13:30:22</td>\n",
       "      <td>120.0</td>\n",
       "      <td>8.35</td>\n",
       "      <td>8.00</td>\n",
       "      <td>8.65</td>\n",
       "      <td>-0.120000</td>\n",
       "      <td>5.0</td>\n",
       "      <td>3800.0</td>\n",
       "      <td>False</td>\n",
       "      <td>REGULAR</td>\n",
       "      <td>USD</td>\n",
       "      <td>2022-01-21 23:59:59</td>\n",
       "      <td>1.595718</td>\n",
       "      <td>583</td>\n",
       "      <td>8.325</td>\n",
       "      <td>99.68</td>\n",
       "    </tr>\n",
       "    <tr>\n",
       "      <th>2020-06-18</th>\n",
       "      <td>JPM220121C00150000</td>\n",
       "      <td>2020-06-18 14:34:32</td>\n",
       "      <td>150.0</td>\n",
       "      <td>3.00</td>\n",
       "      <td>3.00</td>\n",
       "      <td>3.10</td>\n",
       "      <td>-0.220000</td>\n",
       "      <td>822.0</td>\n",
       "      <td>2034.0</td>\n",
       "      <td>False</td>\n",
       "      <td>REGULAR</td>\n",
       "      <td>USD</td>\n",
       "      <td>2022-01-21 23:59:59</td>\n",
       "      <td>1.595596</td>\n",
       "      <td>583</td>\n",
       "      <td>3.050</td>\n",
       "      <td>99.68</td>\n",
       "    </tr>\n",
       "  </tbody>\n",
       "</table>\n",
       "</div>"
      ],
      "text/plain": [
       "                        Symbol     Last_Trade_Date  Strike  Last_Price    Bid  \\\n",
       "2020-06-18  JPM220121C00100000 2020-06-18 14:06:03   100.0       15.55  15.35   \n",
       "2020-06-18  JPM220121C00105000 2020-06-18 14:07:26   105.0       13.80  13.55   \n",
       "2020-06-18  JPM220121C00115000 2020-06-18 13:43:35   115.0        9.78   9.75   \n",
       "2020-06-18  JPM220121C00120000 2020-06-18 13:30:22   120.0        8.35   8.00   \n",
       "2020-06-18  JPM220121C00150000 2020-06-18 14:34:32   150.0        3.00   3.00   \n",
       "\n",
       "              Ask       Chg  Volume  Open_Interest  In_The_Money  \\\n",
       "2020-06-18  15.65  0.150001    29.0         3712.0         False   \n",
       "2020-06-18  13.95  0.630000    53.0         2935.0         False   \n",
       "2020-06-18  10.10 -0.420000    10.0         2091.0         False   \n",
       "2020-06-18   8.65 -0.120000     5.0         3800.0         False   \n",
       "2020-06-18   3.10 -0.220000   822.0         2034.0         False   \n",
       "\n",
       "           Contract_Size Currency          Expiration     Tenor  \\\n",
       "2020-06-18       REGULAR      USD 2022-01-21 23:59:59  1.595651   \n",
       "2020-06-18       REGULAR      USD 2022-01-21 23:59:59  1.595648   \n",
       "2020-06-18       REGULAR      USD 2022-01-21 23:59:59  1.595693   \n",
       "2020-06-18       REGULAR      USD 2022-01-21 23:59:59  1.595718   \n",
       "2020-06-18       REGULAR      USD 2022-01-21 23:59:59  1.595596   \n",
       "\n",
       "            Tenor_in_days     Mid  Underlying_Price  \n",
       "2020-06-18            583  15.500             99.68  \n",
       "2020-06-18            583  13.750             99.68  \n",
       "2020-06-18            583   9.925             99.68  \n",
       "2020-06-18            583   8.325             99.68  \n",
       "2020-06-18            583   3.050             99.68  "
      ]
     },
     "execution_count": 136,
     "metadata": {},
     "output_type": "execute_result"
    }
   ],
   "source": [
    "Data_Calls_JPM.tail()"
   ]
  },
  {
   "cell_type": "markdown",
   "metadata": {},
   "source": [
    "#### Calibration de la volatilité implicite"
   ]
  },
  {
   "cell_type": "markdown",
   "metadata": {},
   "source": [
    "Avec la fonction précédemment implémentée, la volatilité implicite est ainsi calibré sur l'ensemble des prix Mid des Calls de JP Morgan exprimés en fonction du strike $K$ et du ténor $\\tau$, sachant que tous les paramètres requis en entrée sont à notre disposition."
   ]
  },
  {
   "cell_type": "code",
   "execution_count": 156,
   "metadata": {},
   "outputs": [],
   "source": [
    "def all_implied_Vol(data):\n",
    "    S = data['Underlying_Price']\n",
    "    K = data[\"Strike\"]\n",
    "    r = 0\n",
    "    tau = data[\"Tenor\"]\n",
    "    Mid = data[\"Mid\"]\n",
    "    return float(ImpliedVolBS(S,K,r,tau,Mid, 25))"
   ]
  },
  {
   "cell_type": "code",
   "execution_count": 157,
   "metadata": {},
   "outputs": [
    {
     "name": "stderr",
     "output_type": "stream",
     "text": [
      "C:\\Users\\Si Dan\\anaconda3\\lib\\site-packages\\scipy\\optimize\\minpack.py:162: RuntimeWarning: The iteration is not making good progress, as measured by the \n",
      "  improvement from the last ten iterations.\n",
      "  warnings.warn(msg, RuntimeWarning)\n",
      "C:\\Users\\Si Dan\\anaconda3\\lib\\site-packages\\scipy\\optimize\\minpack.py:162: RuntimeWarning: The number of calls to function has reached maxfev = 400.\n",
      "  warnings.warn(msg, RuntimeWarning)\n"
     ]
    }
   ],
   "source": [
    "Data_Calls_JPM[\"Implied_Volatility\"] = Data_Calls_JPM.apply(all_implied_Vol, axis = 1)"
   ]
  },
  {
   "cell_type": "code",
   "execution_count": 158,
   "metadata": {},
   "outputs": [
    {
     "data": {
      "text/html": [
       "<div>\n",
       "<style scoped>\n",
       "    .dataframe tbody tr th:only-of-type {\n",
       "        vertical-align: middle;\n",
       "    }\n",
       "\n",
       "    .dataframe tbody tr th {\n",
       "        vertical-align: top;\n",
       "    }\n",
       "\n",
       "    .dataframe thead th {\n",
       "        text-align: right;\n",
       "    }\n",
       "</style>\n",
       "<table border=\"1\" class=\"dataframe\">\n",
       "  <thead>\n",
       "    <tr style=\"text-align: right;\">\n",
       "      <th></th>\n",
       "      <th>Symbol</th>\n",
       "      <th>Last_Trade_Date</th>\n",
       "      <th>Strike</th>\n",
       "      <th>Last_Price</th>\n",
       "      <th>Bid</th>\n",
       "      <th>Ask</th>\n",
       "      <th>Chg</th>\n",
       "      <th>Volume</th>\n",
       "      <th>Open_Interest</th>\n",
       "      <th>In_The_Money</th>\n",
       "      <th>Contract_Size</th>\n",
       "      <th>Currency</th>\n",
       "      <th>Expiration</th>\n",
       "      <th>Tenor</th>\n",
       "      <th>Tenor_in_days</th>\n",
       "      <th>Mid</th>\n",
       "      <th>Underlying_Price</th>\n",
       "      <th>Implied_Volatility</th>\n",
       "    </tr>\n",
       "  </thead>\n",
       "  <tbody>\n",
       "    <tr>\n",
       "      <th>2020-06-18</th>\n",
       "      <td>JPM220121C00100000</td>\n",
       "      <td>2020-06-18 14:06:03</td>\n",
       "      <td>100.0</td>\n",
       "      <td>15.55</td>\n",
       "      <td>15.35</td>\n",
       "      <td>15.65</td>\n",
       "      <td>0.150001</td>\n",
       "      <td>29.0</td>\n",
       "      <td>3712.0</td>\n",
       "      <td>False</td>\n",
       "      <td>REGULAR</td>\n",
       "      <td>USD</td>\n",
       "      <td>2022-01-21 23:59:59</td>\n",
       "      <td>1.595651</td>\n",
       "      <td>583</td>\n",
       "      <td>15.500</td>\n",
       "      <td>99.68</td>\n",
       "      <td>0.313271</td>\n",
       "    </tr>\n",
       "    <tr>\n",
       "      <th>2020-06-18</th>\n",
       "      <td>JPM220121C00105000</td>\n",
       "      <td>2020-06-18 14:07:26</td>\n",
       "      <td>105.0</td>\n",
       "      <td>13.80</td>\n",
       "      <td>13.55</td>\n",
       "      <td>13.95</td>\n",
       "      <td>0.630000</td>\n",
       "      <td>53.0</td>\n",
       "      <td>2935.0</td>\n",
       "      <td>False</td>\n",
       "      <td>REGULAR</td>\n",
       "      <td>USD</td>\n",
       "      <td>2022-01-21 23:59:59</td>\n",
       "      <td>1.595648</td>\n",
       "      <td>583</td>\n",
       "      <td>13.750</td>\n",
       "      <td>99.68</td>\n",
       "      <td>0.317699</td>\n",
       "    </tr>\n",
       "    <tr>\n",
       "      <th>2020-06-18</th>\n",
       "      <td>JPM220121C00115000</td>\n",
       "      <td>2020-06-18 13:43:35</td>\n",
       "      <td>115.0</td>\n",
       "      <td>9.78</td>\n",
       "      <td>9.75</td>\n",
       "      <td>10.10</td>\n",
       "      <td>-0.420000</td>\n",
       "      <td>10.0</td>\n",
       "      <td>2091.0</td>\n",
       "      <td>False</td>\n",
       "      <td>REGULAR</td>\n",
       "      <td>USD</td>\n",
       "      <td>2022-01-21 23:59:59</td>\n",
       "      <td>1.595693</td>\n",
       "      <td>583</td>\n",
       "      <td>9.925</td>\n",
       "      <td>99.68</td>\n",
       "      <td>0.306776</td>\n",
       "    </tr>\n",
       "    <tr>\n",
       "      <th>2020-06-18</th>\n",
       "      <td>JPM220121C00120000</td>\n",
       "      <td>2020-06-18 13:30:22</td>\n",
       "      <td>120.0</td>\n",
       "      <td>8.35</td>\n",
       "      <td>8.00</td>\n",
       "      <td>8.65</td>\n",
       "      <td>-0.120000</td>\n",
       "      <td>5.0</td>\n",
       "      <td>3800.0</td>\n",
       "      <td>False</td>\n",
       "      <td>REGULAR</td>\n",
       "      <td>USD</td>\n",
       "      <td>2022-01-21 23:59:59</td>\n",
       "      <td>1.595718</td>\n",
       "      <td>583</td>\n",
       "      <td>8.325</td>\n",
       "      <td>99.68</td>\n",
       "      <td>0.301415</td>\n",
       "    </tr>\n",
       "    <tr>\n",
       "      <th>2020-06-18</th>\n",
       "      <td>JPM220121C00150000</td>\n",
       "      <td>2020-06-18 14:34:32</td>\n",
       "      <td>150.0</td>\n",
       "      <td>3.00</td>\n",
       "      <td>3.00</td>\n",
       "      <td>3.10</td>\n",
       "      <td>-0.220000</td>\n",
       "      <td>822.0</td>\n",
       "      <td>2034.0</td>\n",
       "      <td>False</td>\n",
       "      <td>REGULAR</td>\n",
       "      <td>USD</td>\n",
       "      <td>2022-01-21 23:59:59</td>\n",
       "      <td>1.595596</td>\n",
       "      <td>583</td>\n",
       "      <td>3.050</td>\n",
       "      <td>99.68</td>\n",
       "      <td>0.293138</td>\n",
       "    </tr>\n",
       "  </tbody>\n",
       "</table>\n",
       "</div>"
      ],
      "text/plain": [
       "                        Symbol     Last_Trade_Date  Strike  Last_Price    Bid  \\\n",
       "2020-06-18  JPM220121C00100000 2020-06-18 14:06:03   100.0       15.55  15.35   \n",
       "2020-06-18  JPM220121C00105000 2020-06-18 14:07:26   105.0       13.80  13.55   \n",
       "2020-06-18  JPM220121C00115000 2020-06-18 13:43:35   115.0        9.78   9.75   \n",
       "2020-06-18  JPM220121C00120000 2020-06-18 13:30:22   120.0        8.35   8.00   \n",
       "2020-06-18  JPM220121C00150000 2020-06-18 14:34:32   150.0        3.00   3.00   \n",
       "\n",
       "              Ask       Chg  Volume  Open_Interest  In_The_Money  \\\n",
       "2020-06-18  15.65  0.150001    29.0         3712.0         False   \n",
       "2020-06-18  13.95  0.630000    53.0         2935.0         False   \n",
       "2020-06-18  10.10 -0.420000    10.0         2091.0         False   \n",
       "2020-06-18   8.65 -0.120000     5.0         3800.0         False   \n",
       "2020-06-18   3.10 -0.220000   822.0         2034.0         False   \n",
       "\n",
       "           Contract_Size Currency          Expiration     Tenor  \\\n",
       "2020-06-18       REGULAR      USD 2022-01-21 23:59:59  1.595651   \n",
       "2020-06-18       REGULAR      USD 2022-01-21 23:59:59  1.595648   \n",
       "2020-06-18       REGULAR      USD 2022-01-21 23:59:59  1.595693   \n",
       "2020-06-18       REGULAR      USD 2022-01-21 23:59:59  1.595718   \n",
       "2020-06-18       REGULAR      USD 2022-01-21 23:59:59  1.595596   \n",
       "\n",
       "            Tenor_in_days     Mid  Underlying_Price  Implied_Volatility  \n",
       "2020-06-18            583  15.500             99.68            0.313271  \n",
       "2020-06-18            583  13.750             99.68            0.317699  \n",
       "2020-06-18            583   9.925             99.68            0.306776  \n",
       "2020-06-18            583   8.325             99.68            0.301415  \n",
       "2020-06-18            583   3.050             99.68            0.293138  "
      ]
     },
     "execution_count": 158,
     "metadata": {},
     "output_type": "execute_result"
    }
   ],
   "source": [
    "Data_Calls_JPM.tail()"
   ]
  },
  {
   "cell_type": "markdown",
   "metadata": {},
   "source": [
    "#### Valeurs manquantes pour la volatilité implicite"
   ]
  },
  {
   "cell_type": "markdown",
   "metadata": {},
   "source": [
    "Il convient d'étudier les valeurs manquantes concernant la volatilité implicite:"
   ]
  },
  {
   "cell_type": "code",
   "execution_count": 159,
   "metadata": {},
   "outputs": [
    {
     "data": {
      "text/plain": [
       "0"
      ]
     },
     "execution_count": 159,
     "metadata": {},
     "output_type": "execute_result"
    }
   ],
   "source": [
    "missing_iv = Data_Calls_JPM[np.isnan(Data_Calls_JPM['Implied_Volatility'])]\n",
    "len(missing_iv)"
   ]
  },
  {
   "cell_type": "markdown",
   "metadata": {},
   "source": [
    "Ainsi, il n'existe qu'une seule valeur manquante, qui est due à l'absence de valeur concernant le prix du sous-jacent à ce moment précis. Sachant que cette valeur manquante est unique, il est possible de l'imputer."
   ]
  },
  {
   "cell_type": "code",
   "execution_count": 160,
   "metadata": {},
   "outputs": [],
   "source": [
    "Data_Calls_JPM = Data_Calls_JPM.fillna(method ='ffill')"
   ]
  },
  {
   "cell_type": "markdown",
   "metadata": {},
   "source": [
    "L'ensemble des volatilités implicites ayant été calculés, il est possible de tracer le Smile et la Nappe de Volatilité."
   ]
  },
  {
   "cell_type": "markdown",
   "metadata": {},
   "source": [
    "#### Traçace du Smile de Volatilité"
   ]
  },
  {
   "cell_type": "markdown",
   "metadata": {},
   "source": [
    "La valeur manquante ayant été imputée, il est maintenant possible de tracer le smile et la nappe de volatilité des Calls du groupe JP Morgan.\n",
    "\n",
    "Dans le cas du Smile de volatilité, pour un ténor d'environ un an, le code correspondant est le suivant:"
   ]
  },
  {
   "cell_type": "code",
   "execution_count": 161,
   "metadata": {},
   "outputs": [
    {
     "data": {
      "text/plain": [
       "<matplotlib.axes._subplots.AxesSubplot at 0x233de56e408>"
      ]
     },
     "execution_count": 161,
     "metadata": {},
     "output_type": "execute_result"
    },
    {
     "data": {
      "image/png": "[encoded data removed]",
      "text/plain": [
       "<Figure size 432x288 with 1 Axes>"
      ]
     },
     "metadata": {
      "needs_background": "light"
     },
     "output_type": "display_data"
    }
   ],
   "source": [
    "# On garde les Calls de ténor d'environ six mois\n",
    "iv_strike = Data_Calls_JPM[round(Data_Calls_JPM['Tenor'],1)==1]\n",
    "# On définit un dataframe contenant la volatilité implicite des Calls en fonction du Strike en indice\n",
    "iv_strike = iv_strike[['Strike','Implied_Volatility']].set_index('Strike').sort_index()\n",
    "\n",
    "# On trace le Smile de Volatilité\n",
    "iv_strike.plot(title = 'Volatility Smile')"
   ]
  },
  {
   "cell_type": "markdown",
   "metadata": {},
   "source": [
    "Malgré une forte instabilité dans le traage du smile de volatilité due au bruit présent dans les données de marché, nous pouvons ainsi constater pour les strike de ténor d'un an le phénomène de Volatility Skew, c'est à dire une décroissance de la volatilité par rapport au Strike. Cependant, au delà d'un certain Strike, il est hautement probable de pouvoir constater une légère remontée de la volatilité, qui correspond ainsi au Smile de Volatilité. Cela pourrait permettre ainsi de valider les conjectures et affirmations émises pour ces phénomènes, et aussi de confirmer que la volatilité implicite du Call est au plus bas lorsque celui-ci est à la monnaie, et elle augmente au fur et à mesure que le Call s'éloigne de la monnaie.\n",
    "\n",
    "Par ailleurs, il est possible de tracer la volatilité implicite des Calls de Strike fixé, par exemple à 120, en fonction de leur ténor :"
   ]
  },
  {
   "cell_type": "code",
   "execution_count": 102,
   "metadata": {},
   "outputs": [
    {
     "data": {
      "text/plain": [
       "<matplotlib.axes._subplots.AxesSubplot at 0x233dd223088>"
      ]
     },
     "execution_count": 102,
     "metadata": {},
     "output_type": "execute_result"
    },
    {
     "data": {
      "image/png": "[encoded data removed]",
      "text/plain": [
       "<Figure size 432x288 with 1 Axes>"
      ]
     },
     "metadata": {
      "needs_background": "light"
     },
     "output_type": "display_data"
    }
   ],
   "source": [
    "# On garde les Calls de ténor d'environ six mois\n",
    "iv_tenor = Data_Calls_JPM[Data_Calls_JPM['Strike']==120]\n",
    "# On définit un dataframe contenant la volatilité implicite des Calls en fonction du Strike en indice\n",
    "iv_tenor = iv_tenor[['Tenor','Implied_Volatility']].set_index('Tenor').sort_index()\n",
    "\n",
    "# On trace le Smile de Volatilité\n",
    "iv_tenor.plot(title = 'Implied Volatility depending on the Tenor')"
   ]
  },
  {
   "cell_type": "markdown",
   "metadata": {},
   "source": [
    "Il est ainsi possible de constater que la volatilité implicite décroit très rapidement en fonction du ténor avant de se stabiliser tout aussi rapidement vers une constante, environ égale à 0.3. Cela corrobore avec la théorie qui stipule que la volatilité implicite est souvent bien plus élevée pour des Calls de maturité courtes que celles de maturité longues, et donc que le phénomène du Smile est davantage marqué pour les options à courtes maturités que pour les longues, et lorsque lorsque la maturité tend vers l'infini, la volatilité tend vers une constante.\n",
    "\n",
    "Cette différence d'amplitude du phénomène de Smile pourrait être clairement constatée lors du traçage de la nappe de volatilité, où la courbe de volatilité implicite est de plus en plus plate au fur et à mesure que le ténor et donc la maturité, augmente. Malheureusement, il n'a pas été possible de tracer la nappe de volatilité."
   ]
  },
  {
   "cell_type": "markdown",
   "metadata": {},
   "source": [
    "### Bonus : pricing du Call par résolution numérique de l'EDP de Black Scholes"
   ]
  },
  {
   "cell_type": "markdown",
   "metadata": {},
   "source": [
    "Sachant que la dynamique du sous-jacent suit l'EDS : $dS_t = S_t(r dt + \\sigma dW_t)$ sous la probabilité risque neutre,\n",
    "\n",
    "le prix du call selon le modèle de Black Scholes au temps t et de sous-jacent valant $S_t$ : $C_t = C(t, S_t)$ est connu pour suivre l'équation aux dérivée partielles suivante:\n",
    "\n",
    "$$\n",
    "\\frac{\\partial C}{\\partial t}(t,S) + rS \\frac{\\partial C}{\\partial S}(t,S) + \\frac{1}{2}\\sigma \\frac{\\partial^2 C}{\\partial S^2}(t,S) - rC(t,S) = 0\n",
    "$$\n",
    "\n",
    "Ce postulat peut être démontré en appliquant directement la formule de Feynman-Kac au prix du Call exprimée sous forme d'espérance des flux futurs actualisés sous la probabilité risque neutre, ou bien en effectuant un calcul d'Itô au prix du portefeuille autofinancant composé du sous-jacent et de l'actif sans risque qui réplique le prix du Call en tout temps, ainsi que sur le prix lui même qui est exprimé sous la forme $C_t = C(t, S)$. L'absence d'opportunité d'arbitrage garantit l'égalité en tout temps du prix du portefeuille ainsi que celui du Call, ce qui permet de retrouver l'EDP par identification.\n",
    "\n",
    "avec comme condition au bord : $C(T,S) = (S-K)_{+}$, et comme conditions aux limites : $C(t,0) = 0$ et $C(t,S) \\sim S - Ke^{-r(T-t)}, \\ S \\rightarrow \\infty$."
   ]
  },
  {
   "cell_type": "markdown",
   "metadata": {},
   "source": [
    "#### Transformation de l'EDP de Black Scholes en l'équation de la chaleur"
   ]
  },
  {
   "cell_type": "markdown",
   "metadata": {},
   "source": [
    "Cependant, cette EDP est difficile à résoudre, et c'est pourquoi il convient d'effectuer un changement de variable pour supprimer les quantités $S$ et $S^2$ devant les dérivées partielles et ainsi retrouver l'équation de la chaleur qui est plus aisée à résoudre.\n",
    "\n",
    "Pour ce faire, nous posons tout d'abord : $S = Ke^x$,  et $v(x,t) = C(S,t)$.\n",
    "\n",
    "Ce changement de variable permet d'obtenir les nouvelles dérivées partielles :\n",
    "\n",
    "$$\n",
    "\\left\\{\n",
    "    \\begin{array}{ll}\n",
    "        \\frac{\\partial v}{\\partial x} =\\frac{\\partial C}{\\partial S} \\frac{dS}{dx} = Ke^x \\frac{\\partial C}{\\partial S} = S\\frac{\\partial C}{\\partial S} \\\\\n",
    "        \\frac{\\partial^2 v}{\\partial x^2} = Ke^x \\frac{\\partial C}{\\partial S} + Ke^x \\frac{\\partial^2 C}{\\partial S^2} \\frac{dS}{dx} = S\\frac{\\partial C}{\\partial S} + S^2\\frac{\\partial^2 C}{\\partial S^2}\n",
    "    \\end{array}\n",
    "\\right.\n",
    "$$\n",
    "\n",
    "ce qui permet, en réinjectant ces termes dans l'équation initiale, d'obtenir l'équation suivante :\n",
    "\n",
    "$$\n",
    "\\frac{\\partial v}{\\partial t} + \\frac{1}{2} \\sigma^2 \\frac{\\partial^2 v}{\\partial x^2}  + (r - \\frac{1}{2} \\sigma^2)  \\frac{\\partial v}{\\partial x} - rv = 0\n",
    "$$\n",
    "\n",
    "En posant $\\tau = (T-t)\\sigma^2$ et $k = \\frac{2r}{\\sigma^2}$, l'équation ci dessus devient :\n",
    "\n",
    "$$\n",
    "\\frac{1}{2}\\frac{\\partial^2 v}{\\partial x^2} + \\frac{1}{2}(k-1)\\frac{\\partial v}{\\partial x} - \\frac{1}{2}kv = \\frac{\\partial v}{\\partial \\tau}\n",
    "$$\n",
    "\n",
    "Sachant que l'EDP précédente a pour équation caractéristique : $\\alpha^2 + (k-1)\\alpha-k$, il est possible de poser $\\alpha$ tel que $2\\alpha + (k-1) =0$ et $\\beta$ tel que $\\beta = \\alpha^2 + (k-1)\\alpha-k$, pour ainsi effectuer le changement de variable suivant : $v(x,\\tau) = e^{\\alpha x + \\beta \\tau}u(x,\\tau)$, permettant ainsi d'obtenir les dérivées partielles suivantes:\n",
    "\n",
    "$$\n",
    "\\left\\{\n",
    "    \\begin{array}{lll}\n",
    "        \\frac{\\partial v}{\\partial x} = \\alpha e^{\\alpha x + \\beta \\tau} u(x,\\tau) + e^{\\alpha x + \\beta \\tau} \\frac{\\partial u}{\\partial x}(x,\\tau) \\\\\n",
    "        \\frac{\\partial^2 v}{\\partial x^2} = \\alpha^2 e^{\\alpha x + \\beta \\tau} u(x,\\tau) + 2\\alpha e^{\\alpha x + \\beta \\tau} \\frac{\\partial u}{\\partial x}(x,\\tau) + e^{\\alpha x + \\beta \\tau} \\frac{\\partial^2 u}{\\partial x^2}(x,\\tau) \\\\\n",
    "        \\frac{\\partial v}{\\partial \\tau} = \\beta e^{\\alpha x + \\beta \\tau} u(x,\\tau) + e^{\\alpha x + \\beta \\tau} \\frac{\\partial u}{\\partial \\tau}(x,\\tau)\n",
    "    \\end{array}\n",
    "\\right.\n",
    "$$\n",
    "\n",
    "De ce fait, l'équation suivante est obtenue :\n",
    "\n",
    "$$\n",
    "- \\frac{\\partial u}{\\partial \\tau} + \\frac{1}{2}\\frac{\\partial^2 u}{\\partial x^2} + (\\alpha + \\frac{1}{2}(k-1))\\frac{\\partial u}{\\partial x} + (-\\beta + \\frac{1}{2}\\alpha^2 + \\frac{1}{2}\\beta(k-1) - \\frac{1}{2}k)u = 0\n",
    "$$\n",
    "\n",
    "Or, $\\alpha = \\frac{1}{2}(1-k)$ et $\\beta = \\alpha^2 + (k-1)\\alpha-k= \\frac{1}{8}(1+k)^2$,\n",
    "\n",
    "ce qui permet ainsi de conclure que u suit l'équation de la chaleur :\n",
    "\n",
    "$$\n",
    "\\frac{\\partial u}{\\partial \\tau} - \\frac{1}{2} \\frac{\\partial^2 u}{\\partial x^2} = 0\n",
    "$$\n",
    "\n",
    "avec $\\tau \\in [0, \\frac{1}{2}\\sigma^2T]$ et $x \\in \\mathbb{R}$.\n",
    "\n",
    "La condition initiale de cette équation de la chaleur est donnée par : $u(x,0) = e^{-\\alpha x} (K - Ke^x)_{+} = Ke^{-\\alpha x}(1 - e^x)_{+}$.\n",
    "\n",
    "Et de même, par changement de variable, les conditions aux bords sont données par : $\\lim\\limits_{x \\rightarrow -\\infty} C(\\tau,x) = 0$ et $C(\\tau,x) \\sim e^x- Ke^{-r\\tau}, \\ x \\rightarrow \\infty$.\n",
    "\n",
    "L'équation finale à résoudre ayant été posée, le schéma choisi pour la résolution numérique est celui de Crank Nicholson. Avant cela, un paragraphe est consacré à la méthode des différences finies."
   ]
  },
  {
   "cell_type": "markdown",
   "metadata": {},
   "source": [
    "#### Méthodes des différences finies"
   ]
  },
  {
   "cell_type": "markdown",
   "metadata": {},
   "source": [
    "Rappelons que pour différentier une dérivée partielle, trois méthodes de différences finies peuvent être utilisées :\n",
    "\n",
    "- $\\frac{\\partial u(x,\\tau)}{\\partial x} \\approx \\frac{u(x+\\delta x, \\tau) - u(x,\\tau)}{\\delta x}$ : différence progressive\n",
    "- $\\frac{\\partial u(x,\\tau)}{\\partial x} \\approx \\frac{u(x,\\tau) - u(x-\\delta x, \\tau)}{\\delta x}$ : différence rétrograde\n",
    "- $\\frac{\\partial u(x,\\tau)}{\\partial x} \\approx \\frac{u(x+\\delta x, \\tau) - u(x-\\delta x,\\tau)}{2\\delta x}$ : différence centrée\n",
    "\n",
    ", avec $\\delta x$ et $\\delta \\tau$ les intervalles de temps selon les différentes variables.\n",
    "\n",
    "Et pour les dérivés secondes, la méthode des différences finies centrées est :\n",
    "\n",
    "$\\frac{\\partial^2 u(x,\\tau)}{\\partial x^2} \\approx \\frac{u(x+\\delta x, \\tau) - u(x-\\delta x, \\tau) - 2 u(x,\\tau)}{\\delta x^2}$"
   ]
  },
  {
   "cell_type": "markdown",
   "metadata": {},
   "source": [
    "#### Résolution par le schéma de Crank Nicolson"
   ]
  },
  {
   "cell_type": "markdown",
   "metadata": {},
   "source": [
    "La résolution numérique de l'équation de la chaleur commence par la discrétisation de l'espace de définition des deux variables $x$ et $\\tau$, selon un pas spatiale $\\delta x$ et un pas de temps $\\delta t$. De ce fait, les dérivés partielles aux points $(x_n, \\tau_m)$. Nous définissons ainsi $u_{n,m} = u(n\\delta x, m\\delta \\tau)$.\n",
    "\n",
    "La condition au bord est donc $u_{n,0} = u(n\\delta x, 0) = Ke^{-\\alpha n\\delta x}(1 - e^{n\\delta x})_{+}$ et les conditions aux limites sont : $u_{N^{-},m} = u(N^{-}\\delta x, m\\delta \\tau)$ et $u_{N^{+},m} = u(N^{+}\\delta x, m\\delta \\tau)$, avec $N^{-}$ et $N^{+}$ définis tels que $N^{-} \\leq n \\leq N^{+}$. En parallèle, nous posons $M^{+}$ tel que $0 \\leq m \\leq M^{+}$\n",
    "\n",
    "De ce fait, la discrétisation de l'espace permet d'évoquer deux premières possibilités de résolution de l'équation de la chaleur. La première serait d'utiliser le schéma d'Euler explicite : à partir de cette discrétisation et de la nouvelle variable déclarée, l'équation de la chaleur est résolu par une différence finie décentrée à droite :\n",
    "\n",
    "$$\n",
    "\\frac{u_{n,m+1}-u_{n,m}}{\\delta \\tau} \\approx \\frac{1}{2}\\frac{u_{n-1,m} - 2 u_{n,m} + u_{n+1,m}}{\\delta x^2}\n",
    "$$\n",
    "\n",
    "La deuxième possibilité est le schéma d'Euler implicite, consistant à effectuer une différence finie décentrée à gauche :\n",
    "\n",
    "$$\n",
    "\\frac{u_{n,m+1}-u_{n,m}}{\\delta \\tau} \\approx \\frac{1}{2}\\frac{u_{n-1,m+1} - 2 u_{n,m+1} + u_{n+1,m+1}}{\\delta x^2}\n",
    "$$\n",
    "\n",
    "En déterminant les conditions aux bords et aux limites sur l'espace discrétisé puis en posant $\\alpha = \\frac{\\delta \\tau}{\\delta x^2}$ qui doit être strictement inférieur à 0.5 pour répondre aux conditions de stabilité, on montre que le problème initial se transforme en un système linéaire du type : $AU^{m+1} = b^m$ avec $U^{m+1}$ un vecteur contenant les variables $u_{n,m+1}$ avec $m+1$ fixé, et $b^m$ le second membre qui est connu\n",
    "\n",
    "Ce système est résolvable numériquement par la méthode du pivot de Gauss.\n",
    "\n",
    "\n",
    "Cependant, la méthode qui fournit la solution la plus stable et la plus précise semble être le schéma de Crank Nicolson, qui consiste en un schéma aux différences finis centré en espace. Il s'agit d'une moyenne des schémas d'Euler explicite et implicite. De ce fait, l'équation de la chaleur devient :\n",
    "\n",
    "$$\n",
    "\\frac{u_{n,m+1}-u_{n,m}}{\\delta \\tau} \\approx \\frac{1}{4}(\\frac{u_{n-1,m} - 2 u_{n,m} + u_{n+1,m}}{\\delta x^2}+ \\frac{u_{n-1,m+1} - 2 u_{n,m+1} + u_{n+1,m+1}}{\\delta x^2})\n",
    "$$\n",
    "\n",
    "En posant $\\alpha = \\frac{\\delta \\tau}{\\delta x^2}$, l'équation précédente devient :\n",
    "\n",
    "$$\n",
    "u_{n,m+1} - \\frac{1}{4} \\alpha (u_{n-1,m+1} - 2 u_{n,m+1} + u_{n+1,m+1}) = u_{n,m} + \\frac{1}{4} \\alpha(u_{n-1,m} - 2 u_{n,m} + u_{n+1,m})\n",
    "$$\n",
    "\n",
    "En supposant que les quantités $u_{n,m}$ sont connus pour un $m$ fixé et sachant que les conditions aux limites sont connues, il est possible de transformer l'équation précédente en un système linéaire, étant donné que l'on souhaite calculer tous les $u_{n,m+1}$, avec $m$ fixé. Le système linéaire est exprimé sous la forme :\n",
    "\n",
    "$$\n",
    "CU^{m+1} = b^m\n",
    "$$\n",
    "\n",
    "Avec : \n",
    "\n",
    "$$\n",
    "U^{m+1} = \\begin{pmatrix} u_{N^{-}+1, m+1} \\\\ \\vdots \\\\ u_{0, m+1} \\\\ \\vdots  \\\\ u_{N^{+}-1, m+1}\\end{pmatrix}\n",
    "$$\n",
    "\n",
    "$$\n",
    "C = \\begin{pmatrix}\n",
    "    1+\\frac{1}{2}\\alpha & -\\frac{1}{4}\\alpha & 0 & \\cdots & 0 \\\\ \n",
    "    -\\frac{1}{4}\\alpha & 1+\\frac{1}{2}\\alpha & -\\frac{1}{4}\\alpha & \\cdots & 0 \\\\ \n",
    "    0 & -\\frac{1}{4}\\alpha & \\ddots & \\ddots &  \\\\ \n",
    "    \\vdots &  & \\ddots & \\ddots & -\\frac{1}{4}\\alpha \\\\ \n",
    "    0 & 0 &  & -\\frac{1}{4}\\alpha & 1+\\frac{1}{2}\\alpha \\\\ \n",
    "\\end{pmatrix}\n",
    "$$\n",
    "\n",
    "et :\n",
    "$$\n",
    "b^m = \\begin{pmatrix} f_{N^{-}+1, m} \\\\ \\vdots \\\\ f_{0, m} \\\\ \\vdots  \\\\ f_{N^{+}-1, m}\\end{pmatrix} + \\frac{1}{4}\\alpha \\begin{pmatrix} u_{N^{-}, m+1} \\\\ 0 \\\\ \\vdots \\\\ 0 \\\\ u_{N^{+}, m+1}\\end{pmatrix}\n",
    "$$\n",
    "\n",
    "avec : \n",
    "\n",
    "$$\n",
    "f_{n, m} = (1- \\frac{1}{2}\\alpha) u_{n, m} + \\frac{1}{4}\\alpha(u_{n-1, m}+u_{n+1, m})\n",
    "$$\n",
    "\n",
    "Le calcul du prix d'un Call selon le modèle de Black Scholes passe donc par la résolution de ce système linéaire, en rappelant que la condition au bord est $u_{n,0} = u(n\\delta x, 0) = Ke^{-\\alpha n\\delta x}(1 - e^{n\\delta x})_{+}$ et les conditions aux limites sont : $u_{N^{-},m} = u(N^{-}\\delta x, m\\delta \\tau) = 0$ et $u_{N^{+},m} = u(N^{+}\\delta x, m\\delta \\tau) = e^{N^{+}\\delta x}$.\n",
    "\n",
    "Rappelons par ailleurs que $S = Ke^x$ donc $x = ln(\\frac{S}{K})$ et que $\\tau = (T-t)\\sigma^2$."
   ]
  },
  {
   "cell_type": "code",
   "execution_count": 393,
   "metadata": {},
   "outputs": [],
   "source": [
    "## Implémentation de la méthode."
   ]
  },
  {
   "cell_type": "markdown",
   "metadata": {},
   "source": [
    "Cependant, les résultats obtenus ne sont pas satisfaisants, à cause d'erreur de programmation ou de spécification du problème. Il a donc été convenu d'utiliser une autre approche."
   ]
  },
  {
   "cell_type": "markdown",
   "metadata": {},
   "source": [
    "#### Autre approche utilisée"
   ]
  },
  {
   "cell_type": "markdown",
   "metadata": {},
   "source": [
    "En reprenant l'EDP de Black Scholes à laquelle le changement de variable $S = Ke^x$,  et $v(x,t) = C(S,t)$ a été effectué afin de supprimer les quantités $S$ et $S^2$, l'EDP transformé est, selon la démonstration effectuée au début de la partie concernée :\n",
    "\n",
    "$$\n",
    "\\frac{\\partial v}{\\partial t} + (r - \\frac{1}{2} \\sigma^2)  \\frac{\\partial v}{\\partial x} + \\frac{1}{2} \\sigma^2 \\frac{\\partial^2 v}{\\partial x^2} - rv = 0\n",
    "$$\n",
    "\n",
    "La condition terminale est $v(x,T) = (e^x - K)_{+}$,\n",
    "\n",
    "et les conditions aux bords sont : $\\lim\\limits_{x \\rightarrow -\\infty} v(t,x) = 0$ et $v(t,x) \\sim e^x- Ke^{-r(T-t)}, \\ x \\rightarrow \\infty$.\n",
    "\n",
    "L'idée de l'approche précédente était d'effectuer un autre changement de variable $\\tau = (T-t)\\sigma^2$ afin d'obtenir l'équation de la chaleur, mais il a été décidé d'exploiter directement l'équation aux dérivées partielles définie ci dessus.\n",
    "\n",
    "Afin de résoudre numériquement l'équation, le schéma d'Euler implicite, reconnue comme plus stable que celui explicite, a été utilisé au lieu du schéma de Crank Nicolson."
   ]
  },
  {
   "cell_type": "markdown",
   "metadata": {},
   "source": [
    "#### Schéma implicite"
   ]
  },
  {
   "cell_type": "markdown",
   "metadata": {},
   "source": [
    "Comme convenu, l'espace de définition des deux variables $x$ et $\\tau$ est discrétisé selon un pas spatiale $\\delta x$ et un pas de temps $\\delta t$. De ce fait, les dérivés partielles aux points $(x_n, \\tau_m)$. Nous définissons ainsi $v_{n,m} = v(n\\delta x, m\\delta \\tau)$.\n",
    "\n",
    "La condition au bord est donc $v_{n,0} = v(n\\delta x, 0) = (e^{-\\alpha n\\delta x} - K)_{+}$ et les conditions aux limites sont : $v_{N^{-},m} = v(N^{-}\\delta x, m\\delta \\tau)$ et $v_{N^{+},m} = v(N^{+}\\delta x, m\\delta \\tau)$, avec $N^{-}$ et $N^{+}$ définis tels que $N^{-} \\leq n \\leq N^{+}$. En parallèle, nous posons $M^{+}$ tel que $0 \\leq m \\leq M^{+}$.\n",
    "\n",
    "Le schéma d'Euler implicite peut être appliqué pour obtenir la version discrétisée de l'équation aux dérivées partielles :\n",
    "\n",
    "$$\n",
    "\\frac{v_{n,m+1}-v_{n,m}}{\\delta t} + (r - \\frac{1}{2} \\sigma^2) \\frac{v_{n+1,m}-v_{n-1,m}}{2\\delta x} + \\frac{1}{2}\\frac{v_{n-1,m} - 2 v_{n,m} + v_{n+1,m}}{\\delta x^2} \\approx  0\n",
    "$$,\n",
    "\n",
    "Ce qui donne :\n",
    "\n",
    "$$\n",
    "v_{n,m+1} \\approx v_{n-1,m}((r - \\frac{1}{2} \\sigma^2) \\frac{\\delta t}{2\\delta x} + \\frac{1}{2} \\sigma^2\\frac{\\delta t}{\\delta x^2}) + v_{n,m}(1 + r \\delta t + \\sigma^2 \\frac{\\delta t}{\\delta x^2}) + v_{n+1,m}(-(r - \\frac{1}{2} \\sigma^2) \\frac{\\delta t}{2\\delta x} + \\frac{1}{2} \\sigma^2\\frac{\\delta t}{\\delta x^2})\n",
    "$$.\n",
    "\n",
    "Ainsi, en posant :\n",
    "\n",
    "$a = (r - \\frac{1}{2} \\sigma^2) \\frac{\\delta t}{2\\delta x} + \\frac{1}{2} \\sigma^2\\frac{\\delta t}{\\delta x^2}$\n",
    "\n",
    "$b = 1 + r \\delta t + \\sigma^2 \\frac{\\delta t}{\\delta x^2}$\n",
    "\n",
    "$c = -(r - \\frac{1}{2} \\sigma^2) \\frac{\\delta t}{2\\delta x} + \\frac{1}{2} \\sigma^2\\frac{\\delta t}{\\delta x^2}$,\n",
    "\n",
    "il est possible d'obtenir :\n",
    "\n",
    "$$\n",
    "v_{n,m+1} \\approx a v_{n-1,m} + b v_{n,m} + c v_{n+1,m}\n",
    "$$,\n",
    "\n",
    "ce qui permet finalement de transformer l'equation aux dérivées partielles de départ en un système linéaire pouvant être exprimé comme suit :\n",
    "\n",
    "$$\n",
    "V^{m+1} = C V^m + b^m\n",
    "$$\n",
    "\n",
    "Avec : \n",
    "\n",
    "$$\n",
    "V^{m} = \\begin{pmatrix} V_{N^{-}+1, m} \\\\ \\vdots \\\\ v_{0, m} \\\\ \\vdots  \\\\ v_{N^{+}-1, m}\\end{pmatrix}\n",
    "$$\n",
    "\n",
    "donc \n",
    "\n",
    "$$\n",
    "V^{m+1} = \\begin{pmatrix} u_{N^{-}+1, m+1} \\\\ \\vdots \\\\ v_{0, m+1} \\\\ \\vdots  \\\\ v_{N^{+}-1, m+1}\\end{pmatrix}\n",
    "$$\n",
    "\n",
    "$$\n",
    "C = \\begin{pmatrix}\n",
    "    b & c & 0 & \\cdots & 0 \\\\ \n",
    "    a & b & c & \\cdots & 0 \\\\ \n",
    "    0 & \\ddots & \\ddots & \\ddots & \\vdots  \\\\ \n",
    "    \\vdots & 0 & a & b & c \\\\ \n",
    "    0 & 0 &  & b & c \\\\ \n",
    "\\end{pmatrix}\n",
    "$$\n",
    "\n",
    "et :\n",
    "$$\n",
    "b^m = \\begin{pmatrix} v_{N^{-}, m} \\\\ 0 \\\\ \\vdots \\\\ 0 \\\\ v_{N^{+}, m}\\end{pmatrix}\n",
    "$$\n",
    "\n",
    "Ainsi, le système linéaire peut donc directement être résolu numériquement. Pour cela, dans un premier temps, on initialise les paramètres :"
   ]
  },
  {
   "cell_type": "code",
   "execution_count": 382,
   "metadata": {},
   "outputs": [],
   "source": [
    "r = 0.1 \n",
    "sig = 0.2                \n",
    "S0 = 100 \n",
    "X0 = np.log(S0)          \n",
    "K = 100\n",
    "T = 1"
   ]
  },
  {
   "cell_type": "markdown",
   "metadata": {},
   "source": [
    "Par la suite, nous discrétisons les espaces de variables $x = log(S)$ et $t$ selon respectivement 3000 pas d'espaces et 2000 pas de temps. Il est par ailleurs coutume de prendre comme valeurs minimales spatiaux $S_{min} = K/3$ et $S_{max} = 3K$, ainsi que $t_0 = 0$ et $t_max = T$."
   ]
  },
  {
   "cell_type": "code",
   "execution_count": 388,
   "metadata": {},
   "outputs": [],
   "source": [
    "Nspace = 3000 \n",
    "Ntime = 2000   \n",
    "\n",
    "S_max = 3*float(K)                \n",
    "S_min = float(K)/3\n",
    "\n",
    "x_max = np.log(S_max)\n",
    "x_min = np.log(S_min)\n",
    "\n",
    "x, dx = np.linspace(x_min, x_max, Nspace, retstep=True)\n",
    "t, dt = np.linspace(0, T, Ntime, retstep=True)"
   ]
  },
  {
   "cell_type": "markdown",
   "metadata": {},
   "source": [
    "Ainsi, la matrice $V$ de l'ensemble des prix des Calls en fonction du log du sous-jacent $x$ et du temps $t$, et le vecteur $b$ de l'équation sont initialisés et les conditions au bords et terminales sont spécifiées."
   ]
  },
  {
   "cell_type": "code",
   "execution_count": 389,
   "metadata": {},
   "outputs": [],
   "source": [
    "# initialisation\n",
    "V = np.zeros((Nspace,Ntime))    \n",
    "bm = np.zeros(Nspace-2)           \n",
    "\n",
    "# condition terminale\n",
    "Payoff = np.maximum(np.exp(x)-K,0)\n",
    "V[:,-1] = Payoff           \n",
    "\n",
    "# conditions aux bords\n",
    "V[-1,:] = np.exp(x_max) - K * np.exp(-r* t[::-1] )  \n",
    "V[0,:] = 0    "
   ]
  },
  {
   "cell_type": "markdown",
   "metadata": {},
   "source": [
    "La matrice $C$ du système linéaire est par la suite spécifiée selon ses termpes $a$, $b$ et $c$ :"
   ]
  },
  {
   "cell_type": "code",
   "execution_count": 390,
   "metadata": {},
   "outputs": [],
   "source": [
    "# Spécification de la matrice C\n",
    "sig2 = sig*sig; dxx = dx * dx\n",
    "\n",
    "a = ( (dt/2) * ( (r-0.5*sig2)/dx - sig2/dxx ) )\n",
    "b = ( 1 + dt * ( sig2/dxx + r ) )\n",
    "c = (-(dt/2) * ( (r-0.5*sig2)/dx + sig2/dxx ) )\n",
    "\n",
    "C = sparse.diags([a, b, c], [-1, 0, 1], shape=(Nspace-2, Nspace-2)).tocsc()"
   ]
  },
  {
   "cell_type": "markdown",
   "metadata": {},
   "source": [
    "Le système linéaire est finalement résolu numériquement :"
   ]
  },
  {
   "cell_type": "code",
   "execution_count": 391,
   "metadata": {},
   "outputs": [],
   "source": [
    "# Résolution du système linéaire\n",
    "for i in range(Ntime-2,-1,-1):\n",
    "    bm[0] = a * V[0,i]\n",
    "    bm[-1] = c * V[-1,i]; \n",
    "    V[1:-1,i] = spsolve( C, (V[1:-1,i+1] - bm) )"
   ]
  },
  {
   "cell_type": "markdown",
   "metadata": {},
   "source": [
    "Ainsi, il est possible dans un premier temps de tracer le prix actuel du Call ainsi que son PayOff en fonction du prix de son sous-jacent, et dans un second temps de tracer le prix du Call en fonction de celui du sous-jacent et du temps $t$ :"
   ]
  },
  {
   "cell_type": "code",
   "execution_count": 392,
   "metadata": {},
   "outputs": [
    {
     "data": {
      "image/png": "[encoded data removed]",
      "text/plain": [
       "<Figure size 1080x432 with 2 Axes>"
      ]
     },
     "metadata": {
      "needs_background": "light"
     },
     "output_type": "display_data"
    }
   ],
   "source": [
    "S = np.exp(x)\n",
    "fig = plt.figure(figsize=(15,6))\n",
    "ax1 = fig.add_subplot(121)\n",
    "ax2 = fig.add_subplot(122, projection='3d')\n",
    "\n",
    "ax1.plot(S, Payoff, color='blue',label=\"Payoff\")\n",
    "ax1.plot(S, V[:,0], color='red',label=\"BS curve\")\n",
    "ax1.set_xlim(60,170); ax1.set_ylim(0,50)\n",
    "ax1.set_xlabel(\"S\"); ax1.set_ylabel(\"price\")\n",
    "ax1.legend(loc='upper left'); ax1.set_title(\"BS actual price\")\n",
    "\n",
    "X, Y = np.meshgrid(t, S)\n",
    "ax2.plot_surface(Y, X, V, cmap=cm.ocean)\n",
    "ax2.set_title(\"BS price surface\")\n",
    "ax2.set_xlabel(\"S\"); ax2.set_ylabel(\"t\"); ax2.set_zlabel(\"V\")\n",
    "ax2.view_init(30, -100) # this function rotates the 3d plot\n",
    "plt.show()"
   ]
  },
  {
   "cell_type": "markdown",
   "metadata": {},
   "source": [
    "Ainsi, il est possible de constater le prix actuel du Call en fonction de celui du sous-jacent, dont la forme est bien connue. Au fur et à mesure que le temps progresse, la courbe de prix se rapproche progressivement de la valeur du Pay-Off, avant d'en être égale à maturité, comme il est possible de constater sur le second graphique."
   ]
  },
  {
   "cell_type": "code",
   "execution_count": null,
   "metadata": {},
   "outputs": [],
   "source": []
  }
 ],
 "metadata": {
  "kernelspec": {
   "display_name": "Python 3",
   "language": "python",
   "name": "python3"
  },
  "language_info": {
   "codemirror_mode": {
    "name": "ipython",
    "version": 3
   },
   "file_extension": ".py",
   "mimetype": "text/x-python",
   "name": "python",
   "nbconvert_exporter": "python",
   "pygments_lexer": "ipython3",
   "version": "3.7.6"
  }
 },
 "nbformat": 4,
 "nbformat_minor": 2
}
