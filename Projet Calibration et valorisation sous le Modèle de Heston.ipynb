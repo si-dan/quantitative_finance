{
 "cells": [
  {
   "cell_type": "markdown",
   "metadata": {},
   "source": [
    "## Author : Si Dan HO, Antoine Jacquet, Mickael Masumbuko"
   ]
  },
  {
   "cell_type": "markdown",
   "metadata": {},
   "source": [
    "# Calibration et valorisation sous le modèle d'Heston"
   ]
  },
  {
   "cell_type": "code",
   "execution_count": 1,
   "metadata": {},
   "outputs": [],
   "source": [
    "import time\n",
    "import datetime as dt\n",
    "import pandas as pd\n",
    "#from pandas_datareader import data as pdr\n",
    "import numpy as np\n",
    "import math\n",
    "import scipy.stats as st\n",
    "import scipy as sp\n",
    "import scipy.optimize as spop\n",
    "import matplotlib.pyplot as plt\n",
    "import os\n",
    "import statsmodels.api as sm \n",
    "import pylab as py\n",
    "#from tabulate import tabulate\n",
    "#import QuantLib as ql\n",
    "import scipy.integrate\n",
    "import cmath\n",
    "from tqdm import tqdm_notebook as tq\n"
   ]
  },
  {
   "cell_type": "markdown",
   "metadata": {},
   "source": [
    "Il a été vu précédemment que le modèle de Black Scholes, bien que simple et intuitif à mettre en place pour la valorisation des options, souffrait de plusieurs limites, dont la principale fut l'hypothèse de la volatilité constante. En effet, il a été constaté que la volatilité implicite d'une option dépend en réalité du strike et de la maturité de l'option, ce qui permet d'observer le phénomène de Smile de volatilité, dont le modèle ne peut capturer et donc ne peut reproduire l'ensemble des prix d'options observés sur le marché. \n",
    "\n",
    "C'est pourquoi d'autres modèles plus avancés telle que les modèles de volatilité locale où la volatilité du sous-jacent (qui est une action) est une fonction déterministe du prix du sous jacent ainsi que du temps, et qui permet donc, tout en gardant l'hypothèse de complétude des marchés, de reproduire le plus fidèlement possible le phénomène du Smile de volatilité par une calibration de cette volatilité via la formule de Dupire ou en utilisant le modèle CEV par exemple. \n",
    "\n",
    "Cependant, les dynamiques de volatilité prévue par ce type de modèle ne sont en réalités pas en adéquation avec ceux observés sur le marché. Ce problème peut être résolu via l'introduction de modèles à volatilité stochastique, où la volatilité du sous-jacent suit explicitement une propre dynamique stochastique, qui peut être corrélée avec celle qui est propre au sous-jacent. Ces modèles permettent ainsi non seulement de reproduire et expliquer le Smile de volatilité, mais aussi de modéliser le plus justement et donc le plus précisément possible la dynamique de la volatilité implicite de l'option.\n",
    "\n",
    "L'inconvénient des modèles à volatilité stochastique est l'abandon de l'hypothèse de complétude des marchés du fait de l'introduction d'une nouvelle dynamique, celle de la volatilité du sous-jacent, appliquant donc l'ajout du facteur de risque lié à la volatilité qui ne peut être couvert par une stratégie de portefeuille composé uniquement d'actions, qui ne se permet de se couvrir qu'en delta. Cela pourrait être résolu en introduisant un nouvel instrument tel que le VIX ou bien des variance-forwards, permettant ainsi une couverture en vega.\n",
    "\n",
    "Quelques uns des modèles à volatilité stochastique les plus célèbres sont :\n",
    "- le modèle de Heston\n",
    "- le modèle SABR\n",
    "- le modèle de Bates\n",
    "- le modèle à cadre Markovien\n",
    "- le modèle de Taylor\n",
    "\n",
    "L'objectif de ce projet est de calibrer le modèle de Heston.\n",
    "\n",
    "Le modèle de Heston est un modèle de volatilité stochastique, stipulant que la dynamique du prix du sous-jacent $S$ et de sa volatilité $\\sigma$ s'exprime de la manière suivante, sous la probabilité risque neutre $\\mathbb{Q}$ :\n",
    "\n",
    "$$\n",
    "\\left\\{\n",
    "    \\begin{array}{lll}\n",
    "    dS_t = S_t(r dt + \\sqrt{\\sigma_t} dW_t^1) \\\\\n",
    "    d\\sigma_t = \\kappa(\\theta - \\sigma_t) dt + \\xi \\sqrt{\\sigma_t} dW_t^2 \\\\\n",
    "    d<W_t^1, W_t^2> = \\rho dt\n",
    "    \\end{array}\n",
    "\\right.\n",
    "$$\n",
    "\n",
    "avec $W_t^1$ et $W_t^1$ des $\\mathbb{Q}$ mouvements browniens.\n",
    "\n",
    "Il est ainsi aisé de constater que la volatilité $\\sigma$ suit un modèle de taux d'intéret à court terme nommé Cox-Ingersoll-Ross (CIR) permettant ainsi à cette volatilité stochastique un retour à la moyenne positive et à long terme $\\theta$ selon le paramètre $\\kappa$. Le terme $\\sqrt{\\sigma_t}$ permet de s'assurer que la volatilité reste positive à tout instant. Il faut enfin noter que le terme $\\xi$ est la volatilité de la volatilité."
   ]
  },
  {
   "cell_type": "markdown",
   "metadata": {},
   "source": [
    "# Sommaire "
   ]
  },
  {
   "cell_type": "markdown",
   "metadata": {},
   "source": [
    "- Calcul du prix de Call sous le modèle de Heston\n",
    "    - Calcul par la formule analytique de Heston\n",
    "    - Calcul par simulation Monte Carlo\n",
    "- Estimation de la trajectoire de la volatilité sous le modèle d'Heston\n",
    "    - Estimation par filtrage Bootstrap\n",
    "- Calibration des paramètres du modèle de Heston\n",
    "    - Calibration sur les données marché du S&P500\n",
    "        - Chargement et traitement des données\n",
    "        - Calibration des paramètres selon les données\n",
    "    - Calcul de la volatilité implicite des Calls sous le modèle\n",
    "- pricing des Variance Swap sur S&P500 sous le modèle d'Heston\n",
    "    - Application numérique"
   ]
  },
  {
   "cell_type": "markdown",
   "metadata": {},
   "source": [
    "## Calcul du prix de Call sous le modèle de Heston"
   ]
  },
  {
   "cell_type": "markdown",
   "metadata": {},
   "source": [
    "### Calcul par la formule analytique de Heston"
   ]
  },
  {
   "cell_type": "markdown",
   "metadata": {},
   "source": [
    "La grande avantage du modèle de Heston est l'existence d'une formule fermée pour le prix des options européennes Vanille. En effet, le prix $C_t$ d'un Call de sous-jacent $S$ et de payoff $(S_T- K)_{+}$ sous le modèle de Heston est exprimée de cette manière, en notant $\\tau = T-t$ qui est le ténor du Call à l'instant $t$:\n",
    "\n",
    "$$\n",
    "C_t = C(t, S, \\sigma) = S_tP_1 - Ke^{-r\\tau}P_2\n",
    "$$\n",
    "\n",
    "où : \n",
    "\n",
    "$$\n",
    "P_j = \\frac{1}{2} + \\frac{1}{\\pi} \\int_{0}^{\\infty} Re[\\frac{e^{-i\\Phi ln(K)}f_j(t, x, \\sigma, \\Phi)}{i\\Phi}]d\\Phi\n",
    "$$\n",
    "\n",
    "avec : $x = ln(S)$, $f_j(t, x, \\sigma,\\phi) = exp(C_j(\\tau, \\phi) + D_j(\\tau, \\phi)\\sigma + i\\phi x)$,\n",
    "\n",
    "Puis :\n",
    "\n",
    "$$\n",
    "C_j(\\tau, \\Phi) = r\\Phi i \\tau+ \\frac{a}{\\xi^2}[(b_j- \\rho \\xi \\Phi + d)\\tau- 2ln(\\frac{1-ge^{d\\tau}}{1-g})]\n",
    "$$\n",
    "\n",
    "$$\n",
    "D_j(\\tau, \\Phi) = \\frac{b_j - \\rho \\xi\\Phi i + d}{\\xi^2}[\\frac{1-e^{d\\tau}}{1-ge^{d\\tau}}]\n",
    "$$,\n",
    "\n",
    "avec : $g = \\frac{b_j - \\rho \\xi \\Phi i +d}{b_j - \\rho \\xi \\Phi i - d}$,  $d = \\sqrt{(\\rho \\xi \\Phi i -b_j)^2 - \\xi^2(2u_j \\Phi i - \\Phi^2)}$,\n",
    "\n",
    "et $a = \\kappa \\theta$, $u_1 = \\frac{1}{2}$, $u_2 = -\\frac{1}{2}$, $b_1 = \\kappa + \\lambda - \\rho \\xi$, $b_2 = \\kappa + \\lambda$.\n",
    "\n",
    "La démonstration de cette formule fermée, inspirée du raisonnement effectué dans le cadre de celle de Black Scholes, a été effectuée et se trouve en annexe. L'implémentation de la formule fermée pour calculer le prix actuel d'un Call, c'est à dire à l'instant $0$, s'effectue comme suit :"
   ]
  },
  {
   "cell_type": "code",
   "execution_count": 12,
   "metadata": {},
   "outputs": [],
   "source": [
    "import cmath\n",
    "\n",
    "# Déclaration du nombre imaginaire i\n",
    "i=complex(0,1)\n",
    "\n",
    "# Implémentation de la formule de Heston pour un Call\n",
    "def HestonCallClosedForm(kappa, theta, xi, rho, v0, r, tau, S0, K):\n",
    "    def PIntegrand(u, kappa, theta, xi, rho, v0, r, tau, S0, K, j):\n",
    "            F = S0*math.exp(r*tau)\n",
    "            x = cmath.log(F/K)\n",
    "            a = kappa * theta\n",
    "            \n",
    "            if j == 1 :\n",
    "                b = kappa - rho*xi\n",
    "                alpha = - u**2/2 - u/2 * i + i * u\n",
    "                beta = kappa - rho * xi - rho *xi * i * u\n",
    "            else:\n",
    "                b = kappa\n",
    "                alpha = - u**2/2 - u/2 * i\n",
    "                beta = kappa - rho*xi*i*u\n",
    "            \n",
    "            gamma = xi**2/2\n",
    "            d = cmath.sqrt(beta**2 - 4*alpha*gamma)\n",
    "            rplus = (beta + d)/(2*gamma)\n",
    "            rminus = (beta - d)/(2*gamma)\n",
    "            g = rminus/rplus\n",
    "            \n",
    "            D = rminus*(1 - cmath.exp(-d*tau))/(1-g*cmath.exp(-d*tau))\n",
    "            C = kappa*(rminus * tau - 2/(xi**2) * cmath.log((1-g*cmath.exp(-d*tau))/(1-g)))\n",
    "            \n",
    "            top = cmath.exp(C*theta + D*v0 + i*u*x)\n",
    "            bottom = (i*u)\n",
    "            return (top/bottom).real\n",
    "\n",
    "    def P(kappa, theta, xi, rho, v0, r, tau, S0, K, j):\n",
    "            value = scipy.integrate.quad(PIntegrand, 0, np.inf, args=(kappa, theta, xi, rho, v0, r, tau, \n",
    "                               S0, K, j))[0]\n",
    "            return 0.5 + (1/math.pi)*value\n",
    "    A = S0*P(kappa, theta, xi, rho, v0, r, tau, S0, K, 1)\n",
    "    B = K*cmath.exp(-r*tau)*P(kappa, theta, xi, rho, v0, r, tau, S0, K, 0)\n",
    "    return A-B"
   ]
  },
  {
   "cell_type": "markdown",
   "metadata": {},
   "source": [
    "Supposons ici un Call de strike $K = 100$, de ténor $\\tau = 1$ et de sous-jacent de prix et de volatilité actuel $S_0 = 100$ et $\\sigma_0 = \\theta= 0.03$ sous le modèle de Heston, et dont les paramètres sont donc : $\\kappa = 4$, $\\theta = 0.03$, $\\xi = 0.4$, $r = 0.04$, $\\rho = -0.5$.\n",
    "\n",
    "Avec la formule fermée implémentée ci dessus, son prix actuel est calculé comme suit :"
   ]
  },
  {
   "cell_type": "code",
   "execution_count": 13,
   "metadata": {},
   "outputs": [
    {
     "name": "stdout",
     "output_type": "stream",
     "text": [
      "Sous les hypothèses susmentionnés du modèle de Heston, le prix du Call de ténor 1 ans et de strike 100 est égale à 8.825\n"
     ]
    }
   ],
   "source": [
    "# Déclaration des paramètres\n",
    "kappa = 4.0\n",
    "theta = 0.03\n",
    "xi = 0.4\n",
    "rho = -0.5\n",
    "v0 = 0.03\n",
    "r = 0.04\n",
    "tau = 1\n",
    "S0 = 100\n",
    "K=100\n",
    "\n",
    "# Calcul\n",
    "C_ferme = HestonCallClosedForm(kappa, theta, xi, rho, v0, r, tau, S0, K)\n",
    "print('Sous les hypothèses susmentionnés du modèle de Heston, le prix du Call de ténor 1 ans et de strike 100 est égale à %.3f' % C_ferme.real)"
   ]
  },
  {
   "cell_type": "markdown",
   "metadata": {},
   "source": [
    "### Calcul par simulation de Monte Carlo"
   ]
  },
  {
   "cell_type": "markdown",
   "metadata": {},
   "source": [
    "D'après le théorème fondamental de la valorisation des actifs dont la démonstration pour les modèles à volatilité stochastique se trouve en annexe, le prix du Call de sous-jacent $S$, de strike $K$, de maturité $T$, et dont le pay-off est donc $(S_T - K)_{+}$, peut s'écrire sous forme d'espérance risque-neutre conditionnelle de ses flux futurs actualisés, sachant que sous le modèle de Heston, elle possède comme facteur de risque le sous-jacent $S$ ainsi que sa volatilité $\\sigma$:\n",
    "\n",
    "$$\n",
    "C_t = c(t, S, \\sigma) = e^{-r(T-t)}\\mathbb{E}^{\\mathbb{Q}}[(S_T - K)_{+}|S_t = S, \\sigma_t = \\sigma]\n",
    "$$\n",
    "\n",
    "Plus particulièrement, le prix actuel d'un Call sous le modèle de Heston est donné par :\n",
    "\n",
    "$$\n",
    "C_0 = c(0, S, \\sigma) = e^{-rT}\\mathbb{E}^{\\mathbb{Q}}[(S_T - K)_{+}|S_0 = S_0, \\sigma_0 = \\nu_0]\n",
    "$$\n",
    "\n",
    "Cette forme sous espérance du prix du Call sous le modèle de Heston permet ainsi sa valorisation par application de la méthode Monte Carlo. De ce fait, pourvu que le nombre de simulations $M$ soit suffisamment grande pour la convergence de l'estimateur, l'expression ci-dessus peut être estimée par :\n",
    "\n",
    "$$\n",
    "\\hat{C}_0 \\approx e^{-rT}*\\frac{1}{M}\\sum_{i=1}^{M}(S_T^i - K)_{+}\n",
    "$$\n",
    "\n",
    "L'enjeu est donc ici de simuler $M$ réalisations $S_T^i$ de la variable $S_T$. Sachant que le modèle de Heston est à volatilité stochastique et qu'il n'existe pas de formules fermées pour la solution du système d'équation différentielle stochastique, il sera nécessaire de simuler $M$ trajectoires du prix du sous-jacent $S$ et de sa volatilité $\\sigma$ à partir des équations différentielles stochastiques de Heston, au lieu de simuler directement $M$ prix de $S$ à maturité $T$.\n",
    "\n",
    "Rappelons que sous probabilité risque neutre, le modèle de Heston s'exprime comme suit :\n",
    "\n",
    "$$\n",
    "\\left\\{\n",
    "    \\begin{array}{lll}\n",
    "    dS_t = S_t(r dt + \\sqrt{\\sigma_t} dW_t^1) \\\\\n",
    "    d\\sigma_t = \\kappa(\\theta - \\sigma_t) dt + \\xi \\sqrt{\\sigma_t} dW_t^2 \\\\\n",
    "    d<W_t^1, W_t^2> = \\rho dt\n",
    "    \\end{array}\n",
    "\\right.\n",
    "$$\n",
    "\n",
    "En posant un premier changement de variable $x = ln(S)$, nous obtenons la nouvelle équation :\n",
    "\n",
    "$$\n",
    "dx_t = (r - \\frac{1}{2}\\sigma_t)dt + \\sqrt{\\sigma_t} dW_t^1\n",
    "$$\n",
    "\n",
    "En posant un second changement de variable $y = ln(\\sigma)$, la formule d'Itô permet d'obtenir :\n",
    "\n",
    "$$\n",
    "dy_t = \\frac{1}{\\sigma_t}(\\kappa(\\theta - \\sigma_t) - \\frac{1}{2}\\xi^2_t)dt + \\frac{\\xi}{\\sqrt{\\sigma_t}}dW_t^2\n",
    "$$\n",
    "\n",
    "Ces changements de variables permettent d'empêcher la volatilité $\\sigma$ de prendre des valeurs négatives lors de la simulation. Cela permet ainsi de reformuler le modèle comme suit :\n",
    "\n",
    "$$\n",
    "\\left\\{\n",
    "    \\begin{array}{lll}\n",
    "    dx_t = (r - \\frac{1}{2}e^{y_t})dt + e^{\\frac{y_t}{2}}dW_t^1\\\\\n",
    "    dy_t = e^{-y_t}(\\kappa(\\theta - e^{y_t}) - \\frac{1}{2}\\xi^2)dt + \\xi e^{-\\frac{y_t}{2}}dW_t^2  \\\\\n",
    "    d<W_t^1, W_t^2> = \\rho dt\n",
    "    \\end{array}\n",
    "\\right.\n",
    "$$\n",
    "\n",
    "De ce fait, le système peut donc être simulé en discrétisant l'espace temps $[0,T]$, $T$ étant la maturité de l'option, en $N+1$ dates $t_0=0, ..., t_N=T$ avec $t_i = i\\Delta t$, permettant ainsi d'obtenir $N$ intervalles de temps $\\Delta t = \\frac{T}{N}$. \n",
    "\n",
    "Une telle discrétisation des équations différentielles stochastiques provient du Schéma d'Euler.\n",
    "\n",
    "De ce fait, les deux équations peuvent être discrétisées comme suit, en notant que les différentielles de mouvements browniens $dW_t^i$ suivent une loi normale $\\mathcal{N}(0,dt)$ et en prenant en compte la covariance $\\rho$ de ces deux quantités:\n",
    "\n",
    "$$\n",
    "\\left\\{\n",
    "    \\begin{array}{lll}\n",
    "    x_{t+ \\Delta t} = x_t + (r - \\frac{1}{2} e^{y_t})\\Delta t + e^{\\frac{y_t}{2}} \\sqrt{\\Delta t}\\epsilon_1 \\\\\n",
    "    y_{t+\\Delta t} = y_t + e^{-y_t}(\\kappa(\\theta - e^{y_t}) - \\frac{1}{2}\\xi^2)\\Delta t + \\xi e^{-\\frac{y_t}{2}}\\sqrt{\\Delta t}\\epsilon_2 \\\\\n",
    "    \\epsilon_2 = \\rho \\epsilon_1 + \\sqrt{1-\\rho^2} \\epsilon\n",
    "    \\end{array}\n",
    "\\right.\n",
    "$$\n",
    "\n",
    "avec $\\epsilon$ suivant une loi normale centrée réduite indépendante de $\\epsilon_1$ et $\\epsilon_2$, qui suivent aussi la même loi, et qui doivent être resimulés à chaque instant de discrétisation. \n",
    "\n",
    "De ce fait, il convient ici de :\n",
    "\n",
    "- Simuler $2N$ variables gaussiennes centrées réduites correspondant aux $N$ réalisations des variables $\\epsilon$ puis $\\epsilon_1$. Ces dernières doivent être toutes indépendantes.\n",
    "- Par la suite, les $N$ $\\epsilon_2$ seront calculés via la formule $\\epsilon_2 = \\rho \\epsilon_1 + \\sqrt{1-\\rho^2} \\epsilon$, $\\rho$ étant connu.\n",
    "- A partir de la second équation différentielle stochastique et des $N$ $\\epsilon_2$, seront calculés les $N$ réalisations $ln(\\sigma_{t_i})$.\n",
    "- A partir de la première équation différentielle stochastique, des $N$ $\\epsilon_1$ et des $ln(\\sigma_{t_i})$, seront calculés les $N$ réalisations $ln(S_{t_i})$.\n",
    "- De ce fait, en élevant les deux termes à l'exponentielle et en prenant la dernière réalisation, une réalisation de $S_T$ et $\\sigma_T$ sera obtenu.\n",
    "\n",
    "Sachant que cela nous a permis d'obtenir une seule trajectoire selon le modèle de Heston, il convient ici pour la valorisation du Call de simuler $M$ réalisations de $S_T$. De ce fait, les cinq étapes susmentionnées doivent être réitérées $M$ fois.\n",
    "\n",
    "C'est ainsi qu'il sera possible d'obtenir le prix actuel du Call en question :\n",
    "\n",
    "$$\n",
    "\\hat{C}_0 \\approx e^{-rT}*\\frac{1}{M}\\sum_{i=1}^{M}(S_T^i - K)_{+}\n",
    "$$"
   ]
  },
  {
   "cell_type": "code",
   "execution_count": 4,
   "metadata": {},
   "outputs": [],
   "source": [
    "# n : nombre de simulations nécessaire pour construire une trajectoire de 0 à T pour S et sigma\n",
    "# M : nombre de trajectoires à simuler pour calculer le prix du Call\n",
    "\n",
    "def fast_MC_Heston_Call(kappa, theta, xi, rho, v0, r, tau, S0, K, n, M):\n",
    "    # On discrétise l'espace\n",
    "    Delta_t = tau/n\n",
    "    \n",
    "    # On initialise la somme de Monte Carlo\n",
    "    G = 0\n",
    "    Traj_X = np.zeros((M,n+1))\n",
    "    Traj_X[:,0] = np.array([np.log(S0) for i in range(M)])\n",
    "    \n",
    "    Traj_Y = np.zeros((M,n+1))\n",
    "    Traj_Y[:,0] = np.array([np.log(v0) for i in range(M)])\n",
    "    \n",
    "    epsilon = np.random.normal(size = (M, n))\n",
    "    epsilon1 = np.random.normal(size = (M, n))\n",
    "    \n",
    "    epsilon2 = rho*epsilon1 + np.sqrt(1-rho**2)*epsilon\n",
    "    p = True\n",
    "    \n",
    "    for i in tq(range(n)):\n",
    "\n",
    "        Traj_Y[:, i+1] = Traj_Y[:, i] + np.exp(-Traj_Y[:, i])*(kappa*(theta - np.exp(Traj_Y[:, i])) - ((xi**2)/2))*Delta_t\\\n",
    "        + xi*np.exp(-Traj_Y[:, i]/2)*np.sqrt(Delta_t)*epsilon2[:, i]\n",
    "        \n",
    "        if (np.isnan(Traj_Y[:, i+1]).any()):\n",
    "            #Dans certain cas l'exponentiel conduit à des erreurs numériques, on retire les nan\n",
    "            Traj_Y[:, i+1] = np.nan_to_num(Traj_Y[:, i+1])\n",
    "            if p:\n",
    "                print(\"Attention : estimation possiblement faussée\")\n",
    "                p = False\n",
    "\n",
    "        Traj_X[:, i+1] = Traj_X[:, i] + (r- (np.exp(Traj_Y[:, i])/2))*Delta_t + np.exp(Traj_Y[:, i]/2)*np.sqrt(Delta_t)*epsilon1[:, i]\n",
    "\n",
    "        if (np.isnan(Traj_X[:, i+1]).any()):\n",
    "            \n",
    "            #Dans certain cas l'exponentiel conduit à des erreurs numériques, on retire les nan et inf\n",
    "            Traj_X[:, i+1] = np.nan_to_num(Traj_X[:, i+1])\n",
    "    S_T = np.exp(Traj_X[:,-1]) \n",
    "    \n",
    "    # On somme G avec la nouvelle valeur simulée\n",
    "    G = np.maximum(S_T-K, 0).sum()\n",
    "   \n",
    "    # On applique la formule de pricing\n",
    "    Call_Price = (np.exp(-r*tau) * G)/M\n",
    "    \n",
    "    # Return\n",
    "    return Call_Price"
   ]
  },
  {
   "cell_type": "markdown",
   "metadata": {},
   "source": [
    "L'application numérique avec $M=10000$ trajectoires simulées selon $n = 1000$ instants est effectuée pour déterminer le prix d'un Call possédant les mêmes caractéristiques que celles mentionnées précédemment :"
   ]
  },
  {
   "cell_type": "code",
   "execution_count": 5,
   "metadata": {},
   "outputs": [
    {
     "name": "stdout",
     "output_type": "stream",
     "text": [
      "Attention : estimation possiblement faussée\n",
      "\n",
      "Par simulation de Monte Carlo, le prix du Call de ténor 1 ans et de strike 100 est égale à 8.801\n"
     ]
    }
   ],
   "source": [
    "%%capture --no-stdout \n",
    "\n",
    "n = 1000\n",
    "M = 10000\n",
    "\n",
    "Call_Price_MC = fast_MC_Heston_Call(kappa, theta, xi, rho, v0, r, tau, S0, K, n, M)\n",
    "print('Par simulation de Monte Carlo, le prix du Call de ténor 1 ans et de strike 100 est égale à %.3f' % Call_Price_MC)"
   ]
  },
  {
   "cell_type": "markdown",
   "metadata": {},
   "source": [
    "## Estimation de la trajectoire de la volatilité sous le modèle d'Heston"
   ]
  },
  {
   "cell_type": "markdown",
   "metadata": {},
   "source": [
    "Supposons que nous disposons chaque jour de prix d'un Call noté $y_t$ de strike $K$ et de ténor $\\tau$ indexé sur un sous-jacent $S_t$ dont les prix sont tout aussi disponible quotidiennement. Ce prix $y_t$ contient des erreurs de mesures notées $\\epsilon_t$ qui sont supposés être des bruits blancs i.i.d Gaussiens centrés et de variance $\\sigma_{epsilon}$.\n",
    "\n",
    "Ainsi, en supposant que la formule fermée d'un tel Call selon le modèle d'Heston est donnée par la fonction $C(t,\\theta, \\sigma_t, S_t, K, \\tau)$, alors le prix observé $y_t$ est exprimé comme suit, en réexprimant $\\epsilon_t$ comme une variable gaussienne centrée réduite :\n",
    "\n",
    "$$\n",
    "y_t = C(t,\\theta, \\sigma_t, S_t, K, \\tau) + \\sigma_{\\epsilon} \\epsilon_t\n",
    "$$\n",
    "\n",
    "Rappelons que le modèle d'Heston est exprimé sous la probabilité risque neutre de cette manière :\n",
    "\n",
    "$$\n",
    "\\left\\{\n",
    "    \\begin{array}{lll}\n",
    "    dS_t = S_t(r dt + \\sqrt{\\sigma_t} dW_t^1) \\\\\n",
    "    d\\sigma_t = \\kappa(\\theta - \\sigma_t) dt + \\xi \\sqrt{\\sigma_t} dW_t^2 \\\\\n",
    "    d<W_t^1, W_t^2> = \\rho dt\n",
    "    \\end{array}\n",
    "\\right.\n",
    "$$\n",
    "\n",
    "\n",
    "Sachant que les observations, au nombre de $n$ sont uniquement journalières, il convient de discrétiser ce système d'équations différentielles stochastiques, selon le schéma d'Euler modifié, selon un pas de discrétisation égal $\\Delta = \\frac{\\tau}{n}$ constant, :\n",
    "\n",
    "$$\n",
    "\\left\\{\n",
    "    \\begin{array}{lll}\n",
    "    S_t = S_{t-1} (1 +r \\Delta + \\sqrt{\\Delta \\sigma_t} Z_t^1) \\\\\n",
    "    \\sigma_t = |\\sigma_{t-1} \\kappa(\\theta - \\sigma_{t-1}) \\Delta + \\xi \\sqrt{\\Delta \\sigma_{t-1}} Z_t^2| \\\\\n",
    "    Cov(Z_t^1, Z_t^2) = \\rho\n",
    "    \\end{array}\n",
    "\\right.\n",
    "$$\n",
    "\n",
    "avec $(Z_t^1)_{t \\in 1...n}$ et $(Z_t^2)_{t \\in 1...n}$ qui sont des variables gaussiennes centrées réduites.\n",
    "\n",
    "Finalement, le problème final devient :\n",
    "\n",
    "$$\n",
    "\\left\\{\n",
    "    \\begin{array}{llll}\n",
    "    y_t = C(t,\\theta, \\sigma_t, S_t, K, \\tau) + \\sigma_{\\epsilon} \\epsilon_t \\\\\n",
    "    S_t = S_{t-1} (1 +r \\Delta + \\sqrt{\\Delta \\sigma_t} Z_t^1) \\\\\n",
    "    \\sigma_t = |\\sigma_{t-1} \\kappa(\\theta - \\sigma_{t-1}) \\Delta + \\xi \\sqrt{\\Delta \\sigma_{t-1}} Z_t^2| \\\\\n",
    "    Cov(Z_t^1, Z_t^2) = \\rho\n",
    "    \\end{array}\n",
    "\\right.\n",
    "$$\n",
    "\n",
    "En supposant connu le jeu de paramètre $\\theta_0 = (\\kappa, \\xi, \\theta, \\rho)$ connu, le but est de retrouver la trajectoire de la volatilité $\\sigma_t$ pour ce Call en question, sachant celle de son prix observé, qui est $y_t$."
   ]
  },
  {
   "cell_type": "markdown",
   "metadata": {},
   "source": [
    "### Estimation de la trajectoire par filtrage particulaire Bootstrap"
   ]
  },
  {
   "cell_type": "markdown",
   "metadata": {},
   "source": [
    "A l'instar de l'étude effectué lors du TP précédent, le problème consiste ainsi à retrouver la trajectoire d'un processus inobservé, qui est ici la volatilité $\\sigma_t$ du modèle de Heston, à partir des prix observés $y_t$ du Call de strike $K$ et de ténor $\\tau$. Sachant que la relation en temps discret entre les deux processus est donnée par le système discrétisé du modèle de Heston défini ci dessus, qui est non linéaire, l'approche naturelle à envisager est d'utiliser un filtrage particulaire Boostrap.\n",
    "\n",
    "Sans développer la théorie sous-jacente à cet algorithme, puisque cela a déjà été effectué lors du TP précédent traitant du modèle à volatilité stochastique de Taylor, il convient de rappeler l'ensemble de ses instructions, en l'adaptant au problème à traiter:\n",
    "\n",
    "Pour $t=0$ et $i = 1...M$ :\n",
    "- Générer $\\sigma^i_0$ selon la densité $p_{\\theta}(\\sigma_0)$ selon les poids associés $w_{\\theta}(\\sigma^i_{0:t}) =\\frac{1}{M}$\n",
    "\n",
    "fin pour\n",
    "\n",
    "Pour $t=1...n$ :\n",
    "\n",
    "- Pour $i = 1...M$:\n",
    "\n",
    "    - Générer $\\sigma^i_t \\sim p_{\\theta}(\\sigma_t|x^i_{t-1})$. Poser $\\sigma^i_{0:t} = (\\sigma^i_{0:t-1}, \\sigma^i_t)$\n",
    "    - Mettre à jour les poids : $w_{\\theta}(\\sigma^i_{0:t}) = p_{\\theta}(C_i|\\sigma^i_{i-1})$\n",
    "    - Normaliser les poids : $\\tilde{w}_{\\theta}(\\sigma^i_{0:t})$\n",
    "    - Etape de rééchantillonnage : rééchantillonner $\\sigma^i_t$\n",
    "    - Réinitialiser les poids :  $\\tilde{w}_{\\theta}(\\sigma^i_{0:t}) = 1/M$\n",
    "    \n",
    "    fin pour\n",
    " \n",
    "finpour\n",
    "\n",
    "En supposant le jeu de paramètre $\\theta_0 = (\\kappa, \\xi, \\theta, \\rho)$ égal à $(4, 0.4, 0.03, -0.5)$, la volatilité de l'erreur de mesure $\\sigma_{\\epsilon} = 0.1$, ainsi que le strike $K = 100$ et le ténor $\\tau = 1$, le filtre peut être appliqué pour en déduire la trajectoire de la volatilité $\\sigma_t$.\n",
    "\n",
    "Dans un premier temps, les prix aux instants $t=1...n = 250$ du Call de Strike $K=100$, de ténor $\\tau = 1$ indexé par le sous-jacent $S_t$ sont téléchargés, ainsi que ceux de son sous-jacent $S_t$.\n",
    "\n",
    "Par ailleurs, bien que inobservée, nous disposons de la trajectoire véritable de la volatilité à chaque instant $t$, permettant in fine de la comparer avec celle estimée par filtrage Boostrap."
   ]
  },
  {
   "cell_type": "code",
   "execution_count": 61,
   "metadata": {},
   "outputs": [
    {
     "name": "stdout",
     "output_type": "stream",
     "text": [
      "     Call_Price  Underlying_Price  True_Volatility\n",
      "0      9.490011        100.000000         0.030000\n",
      "1      8.792074         99.591405         0.030604\n",
      "2      9.297852         99.138760         0.032915\n",
      "3      7.046587         98.406275         0.036840\n",
      "4      6.921165         97.005900         0.038910\n",
      "..          ...               ...              ...\n",
      "245    7.727216         97.259964         0.050108\n",
      "246    7.280373         97.534115         0.053199\n",
      "247    7.649374         98.925072         0.054769\n",
      "248    9.330731         99.184692         0.052766\n",
      "249    8.199201         99.683927         0.047852\n",
      "\n",
      "[250 rows x 3 columns]\n"
     ]
    }
   ],
   "source": [
    "import pandas as pd\n",
    "\n",
    "Call_Data = pd.DataFrame(index = [i for i in range(250)])\n",
    "Call_Data[\"Call_Price\"] = pd.read_csv(\"Donnees/DataP_B.csv\")\n",
    "Call_Data[\"Underlying_Price\"] = pd.read_csv('Donnees/dataS.csv')\n",
    "Call_Data[\"True_Volatility\"] = pd.read_csv('Donnees/dataV.csv')\n",
    "print(Call_Data)"
   ]
  },
  {
   "cell_type": "markdown",
   "metadata": {},
   "source": [
    "Par la suite, il est possible d'implémenter le filtre particulaire Boostrap adapté pour le modèle d'Heston :"
   ]
  },
  {
   "cell_type": "code",
   "execution_count": 60,
   "metadata": {},
   "outputs": [],
   "source": [
    "heston_vec = np.vectorize(HestonCallClosedForm, excluded = [0,1,2,3,5,6,8])\n",
    "\n",
    "def fast_bootsrap_filter(yt, s, M, *params):\n",
    "    lambda_, theta, eta, rho, v0, r, tau, S0, K, sig = params\n",
    "    n = len(yt)\n",
    "    deltaT = tau/n\n",
    "    \n",
    "    sets = np.zeros((n+1, M))\n",
    "    sets[0,:] = st.foldnorm.rvs(c = v0, size = M)\n",
    "    sample_index = [i for i in range(M)]\n",
    "    \n",
    "    S = np.zeros((n+1,M))\n",
    "    S[0,:] = S0\n",
    "    \n",
    "    epsilon = np.random.normal(size = (n, M))\n",
    "    epsilon1 = np.random.normal(size = (n, M))\n",
    "    epsilon2 = rho*epsilon1 + np.sqrt(1-rho**2)*epsilon\n",
    "    \n",
    "    s = np.append(s, s[-1])\n",
    "    \n",
    "    for i in tq(range(1, n+1)):\n",
    "        \n",
    "        sets[i, :] = np.abs(sets[i-1,:] + lambda_*deltaT*(v0-sets[i-1,:]) + eta*np.sqrt(sets[i-1,:]*deltaT)*epsilon2[i-1, :])\n",
    "        S[i,:] = s[i-1]*(1 + r*deltaT+np.sqrt(deltaT*sets[i, :])*epsilon1[i-1, :])\n",
    "        \n",
    "        t = deltaT*i\n",
    "        C = heston_vec(lambda_, theta, xi, rho, sets[i, :], r, tau - t, S[i,:], K)\n",
    "        w = st.norm.pdf(yt[i-1], loc = C, scale = sig)\n",
    "        w = np.nan_to_num(w)\n",
    "        w /= np.sum(w)        \n",
    "        \n",
    "        sampled_id = np.random.choice(sample_index, size = M, replace = True, p = w)\n",
    "        sets[:, sample_index] = sets[:, sampled_id]\n",
    "        \n",
    "    return sets\n"
   ]
  },
  {
   "cell_type": "markdown",
   "metadata": {},
   "source": [
    "Une fois cela terminé, le filtre particulaire sera appliqué sur les données téléchargés avec les paramètres $\\theta_0$ connus, égaux à $(4, 0.4, 0.03, -0.5)$ afin de pouvoir estimer la trajectoire de sa volatilité $\\sigma_t$ entre l'instant présent et la maturité, en rappelant que le Call en question est de strike 100 et de ténor égal à 1 an :"
   ]
  },
  {
   "cell_type": "code",
   "execution_count": 63,
   "metadata": {},
   "outputs": [
    {
     "data": {
      "application/vnd.jupyter.widget-view+json": {
       "model_id": "bed1a5dd75f547deb6e8b045a652b34b",
       "version_major": 2,
       "version_minor": 0
      },
      "text/plain": [
       "HBox(children=(IntProgress(value=0, max=250), HTML(value='')))"
      ]
     },
     "metadata": {},
     "output_type": "display_data"
    },
    {
     "name": "stdout",
     "output_type": "stream",
     "text": [
      "\n"
     ]
    },
    {
     "name": "stderr",
     "output_type": "stream",
     "text": [
      "/Users/mickaelmasumbuko/miniconda3/lib/python3.7/site-packages/ipykernel_launcher.py:37: IntegrationWarning: The integral is probably divergent, or slowly convergent.\n"
     ]
    }
   ],
   "source": [
    "kappa = 4.0\n",
    "theta = 0.03\n",
    "xi = 0.4\n",
    "rho = -0.5\n",
    "v0 = 0.03\n",
    "r = 0.04\n",
    "tau = 1\n",
    "S0 = 100\n",
    "K=100\n",
    "\n",
    "params = (kappa, v0, xi, rho, v0, r, tau, S0, K, np.sqrt(0.1))\n",
    "\n",
    "Vol_hat = fast_bootsrap_filter(Call_Data.Call_Price.values, Call_Data.Underlying_Price.values, 10, *params)"
   ]
  },
  {
   "cell_type": "markdown",
   "metadata": {},
   "source": [
    "La trajectoire de la volatilité du Call sous le modèle d'Heston ayant pu être estimé grace au filtrage, elle peut être comparée visuellement avec la trajectoire de la volatilité véritable provenant des données téléchargées associées :"
   ]
  },
  {
   "cell_type": "code",
   "execution_count": 74,
   "metadata": {},
   "outputs": [
    {
     "data": {
      "image/png": "[encoded data removed]",
      "text/plain": [
       "<Figure size 1440x576 with 1 Axes>"
      ]
     },
     "metadata": {
      "needs_background": "light"
     },
     "output_type": "display_data"
    }
   ],
   "source": [
    "plt.figure(figsize=(20,8))\n",
    "plt.plot(Vol_hat.max(axis = 1), label = 'Max estimated log-volatility', ls = '-.')\n",
    "plt.title(\"Comparaison Bootsrap vs log-volatilité\")\n",
    "plt.ylabel(\"Value\")\n",
    "plt.xlabel(\"Time\")\n",
    "plt.plot(Vol_hat.min(axis = 1), label = 'Min estimated log-volatility')\n",
    "plt.plot(Vol_hat[:,6], label = '6th estimated trajectory', ls = ':')\n",
    "plt.plot(np.mean(Vol_hat, axis = 1))\n",
    "plt.plot(Call_Data.True_Volatility.values, label = 'Unobserved volatility')\n",
    "plt.legend()\n",
    "plt.show()"
   ]
  },
  {
   "cell_type": "markdown",
   "metadata": {},
   "source": [
    "Nous pouvons voir ici que comparativement au filtre que nous avions dans le TP2, celui-ci converge très vite vers un échantillon à une seule trajectoire. Le nombre d'observation est pourtant du même ordre de grandeur, cependant, les distributions utilisée diffèrent. En effet, nous avons utilisé ici pour le processus de log-volatilité une loi normale repliée tronquant donc les valeurs négatives."
   ]
  },
  {
   "cell_type": "markdown",
   "metadata": {},
   "source": [
    "## Calibration des paramètres du modèle de Heston"
   ]
  },
  {
   "cell_type": "markdown",
   "metadata": {},
   "source": [
    "Les paramètres utilisés pour modéliser la trajectoire de la volatilité $\\sigma_t$ de Heston ont été préalablement fixés. Or, ceci n'est pas réaliste puisqu'ils ne sont en réalité pas connus et que le but de la calibration du modèle est d'estimer ces paramètres à partir du prix observé du Call sur le marché selon le strike $K$ et le ténor $\\tau$. \n",
    "\n",
    "L'enjeu de pouvoir retrouver le prix du marché d'un Call d'un certain strike $K$ et ténor $\\tau$ à partir de la formule de pricing du modèle d'Heston. Cela signifie ainsi qu'il convient de trouver le jeu de paramètre $\\theta_0$ optimal permettant à la formule de se rapprocher le plus possible des prix de Calls observés sur le marché.\n",
    "\n",
    "Ainsi, la méthode la plus naturelle est de considérer un problème d'optimisation, où le vecteur de paramètre doit minimiser l'erreur quadratique entre les prix observés et ceux calculés par la formule, qui n'est autre que la racine de la somme des moindres carrés divisée par le nombre d'observations (root mean squared error).\n",
    "\n",
    "Plus précisément, en supposant le strike $K$ et le ténor $\\tau$ fixé puisque nous ne disposons que de données selon un unique strike 100 et de ténor 1 ans, le problème d'optimisation est le suivant, en posant $y_i$ les prix observés et $C_i$ la fonction de pricing de Heston à chaque instant $i \\in [|1,n|]$:\n",
    "\n",
    "$$\n",
    "\\hat{\\theta}_0 = argmin_{\\theta_0 \\in \\Theta} \\sqrt{\\frac{1}{n}\\sum_{i=1}^n [y_i - C_i(\\theta_0)]^2}\n",
    "$$\n",
    "\n",
    "Ainsi, il convient dans cette partie de résoudre un problème d'optimisation permettant de retrouver les paramètres optimaux sous lesquels le prix des Calls $C_t$ calculés à partir de la formule fermée du modèle de Heston se rapprochent au maximum avec ceux observés sur le marché $y_t$. D'après la littérature, un des algorithmes les plus adaptés à cette situation est celui de Levenberg-Marquardt. Cependant, cette méthode n'est pas robuste notamment lors de la présence de minimum locaux, ainsi, l'optimisation serra plus générale, et sera effectuée via la fonction fmin du package scipy.optimize.\n",
    "\n",
    "Rappelons que le jeu de paramètre à optimiser est : $\\theta_0 = (\\kappa, \\xi, \\theta, \\rho, \\nu_0)$"
   ]
  },
  {
   "cell_type": "markdown",
   "metadata": {},
   "source": [
    "### Estimation des paramètres $\\theta_0$ du modèle de Heston sur des Calls sur l'indice du S&P500"
   ]
  },
  {
   "cell_type": "markdown",
   "metadata": {},
   "source": [
    "Il convient dans un premier temps de charger et traiter les données de marché pour les Calls afin de calculer l'ensemble des volatilités implicites."
   ]
  },
  {
   "cell_type": "markdown",
   "metadata": {},
   "source": [
    "#### Chargement et traitement des données de marché des options"
   ]
  },
  {
   "cell_type": "markdown",
   "metadata": {},
   "source": [
    "Les données des options sur l'indice S&P500 ont été une fois de plus téléchargés depuis la plateforme Cboe delayed quotes, et proviennent cette fois ci d'une cotation effectuée le 8 Juin 2020. La date d'expiration pour chaque option est renseignée, ce qui permet d'en déduire chaque maturité."
   ]
  },
  {
   "cell_type": "code",
   "execution_count": 2,
   "metadata": {},
   "outputs": [],
   "source": [
    "CallPriceSPX = pd.read_excel(\"C:/Users/Si Dan/Documents/calcul stochastique/Projets_finance_python_Dan/SPXCallData.xlsx\")\n",
    "PutPriceSPX = pd.read_excel(\"C:/Users/Si Dan/Documents/calcul stochastique/Projets_finance_python_Dan/SPXPutData.xlsx\")"
   ]
  },
  {
   "cell_type": "markdown",
   "metadata": {},
   "source": [
    "Dans un premier temps, il convient d'harmoniser le format de la date d'expiration, et ainsi de construire la variable de maturité pour chaque option sachant que la cotation a eu lieu le 12 Juin 2020."
   ]
  },
  {
   "cell_type": "code",
   "execution_count": 3,
   "metadata": {},
   "outputs": [],
   "source": [
    "from datetime import timedelta\n",
    "from datetime import date\n",
    "\n",
    "n = len(CallPriceSPX['Expiration_Date'])\n",
    "Expiration_Date = CallPriceSPX['Expiration_Date']\n",
    "\n",
    "# Déclaration du vecteur Date de composantes égales au 12 Juin 2020\n",
    "Today=[0 for i in range(n)]\n",
    "for i in range(n):\n",
    "    Today[i] = str('2020-06-12')\n",
    "Today = pd.to_datetime(Today)\n",
    "\n",
    "# Expression de la différence entre l'expiration et la date du 12 Juin 2020\n",
    "time_difference = Expiration_Date - Today\n",
    "\n",
    "# Conversion de la différence en nombre entier de jours, sachant que le type du vecteur est timedelta\n",
    "m = len(time_difference)\n",
    "Time_difference = [int(time_difference[i]/np.timedelta64(1, 'D')) for i in range(m)]\n",
    "\n",
    "# Calcul de la maturité des Options et ajout dans le jeu de données\n",
    "CallPriceSPX[\"Maturity\"] = [((Time_difference[i] + 1)/365) for i in range(n)]\n",
    "PutPriceSPX[\"Maturity\"] = [((Time_difference[i] + 1)/365) for i in range(n)]"
   ]
  },
  {
   "cell_type": "markdown",
   "metadata": {},
   "source": [
    "Il est par ailleurs coutume d'utiliser comme valeur de référence le prix Mid, qui est la moyenne entre les prix Bid et Ask. qui est considéré comme le prix représentant au mieux celui de l'option observé sur le marché. De ce fait, nous implémentons la fonction calculant cette quantité. Si tous les deux prix sont manquantes, on utilise le prix Last qui est le prix fixé lors de la dernière transaction."
   ]
  },
  {
   "cell_type": "code",
   "execution_count": 4,
   "metadata": {},
   "outputs": [],
   "source": [
    "def get_fair_price(data):\n",
    "    Bid = data[\"Bid\"]\n",
    "    Ask = data[\"Ask\"]\n",
    "    Last = data[\"Last_Sale\"]\n",
    "    # On retourne 0 si le bid ou le ask est manquante\n",
    "    if np.isnan(Bid) or np.isnan(Ask):\n",
    "        return 0.0\n",
    "    # On retourne le dernier prix de trade si le bid ou le ask est nul\n",
    "    elif Bid == 0.0 or Ask == 0.0:\n",
    "        return Last\n",
    "    else:\n",
    "        return (Bid+Ask)/2.0"
   ]
  },
  {
   "cell_type": "code",
   "execution_count": 5,
   "metadata": {},
   "outputs": [],
   "source": [
    "# Rajout du prix Mid au jeu de données\n",
    "CallPriceSPX['Mid'] = CallPriceSPX.apply(get_fair_price, axis=1)\n",
    "PutPriceSPX['Mid'] = PutPriceSPX.apply(get_fair_price, axis=1)"
   ]
  },
  {
   "cell_type": "code",
   "execution_count": 6,
   "metadata": {},
   "outputs": [
    {
     "data": {
      "text/html": [
       "<div>\n",
       "<style scoped>\n",
       "    .dataframe tbody tr th:only-of-type {\n",
       "        vertical-align: middle;\n",
       "    }\n",
       "\n",
       "    .dataframe tbody tr th {\n",
       "        vertical-align: top;\n",
       "    }\n",
       "\n",
       "    .dataframe thead th {\n",
       "        text-align: right;\n",
       "    }\n",
       "</style>\n",
       "<table border=\"1\" class=\"dataframe\">\n",
       "  <thead>\n",
       "    <tr style=\"text-align: right;\">\n",
       "      <th></th>\n",
       "      <th>Expiration_Date</th>\n",
       "      <th>Calls</th>\n",
       "      <th>Last_Sale</th>\n",
       "      <th>Net</th>\n",
       "      <th>Bid</th>\n",
       "      <th>Ask</th>\n",
       "      <th>Vol</th>\n",
       "      <th>IV</th>\n",
       "      <th>Delta</th>\n",
       "      <th>Gamma</th>\n",
       "      <th>Open_Int</th>\n",
       "      <th>Strike</th>\n",
       "      <th>Maturity</th>\n",
       "      <th>Mid</th>\n",
       "    </tr>\n",
       "  </thead>\n",
       "  <tbody>\n",
       "    <tr>\n",
       "      <th>0</th>\n",
       "      <td>2020-06-12</td>\n",
       "      <td>SPXW200612C00500000</td>\n",
       "      <td>2519.3</td>\n",
       "      <td>0.0</td>\n",
       "      <td>2519.6</td>\n",
       "      <td>2567.6</td>\n",
       "      <td>0</td>\n",
       "      <td>0.02</td>\n",
       "      <td>0.9999</td>\n",
       "      <td>0.0</td>\n",
       "      <td>1</td>\n",
       "      <td>500</td>\n",
       "      <td>0.00274</td>\n",
       "      <td>2543.6</td>\n",
       "    </tr>\n",
       "    <tr>\n",
       "      <th>1</th>\n",
       "      <td>2020-06-12</td>\n",
       "      <td>SPXW200612C00600000</td>\n",
       "      <td>0.0</td>\n",
       "      <td>0.0</td>\n",
       "      <td>2419.6</td>\n",
       "      <td>2467.6</td>\n",
       "      <td>0</td>\n",
       "      <td>0.02</td>\n",
       "      <td>0.9999</td>\n",
       "      <td>0.0</td>\n",
       "      <td>0</td>\n",
       "      <td>600</td>\n",
       "      <td>0.00274</td>\n",
       "      <td>2443.6</td>\n",
       "    </tr>\n",
       "    <tr>\n",
       "      <th>2</th>\n",
       "      <td>2020-06-12</td>\n",
       "      <td>SPXW200612C00700000</td>\n",
       "      <td>0.0</td>\n",
       "      <td>0.0</td>\n",
       "      <td>2319.6</td>\n",
       "      <td>2367.6</td>\n",
       "      <td>0</td>\n",
       "      <td>0.02</td>\n",
       "      <td>0.9999</td>\n",
       "      <td>0.0</td>\n",
       "      <td>1</td>\n",
       "      <td>700</td>\n",
       "      <td>0.00274</td>\n",
       "      <td>2343.6</td>\n",
       "    </tr>\n",
       "    <tr>\n",
       "      <th>3</th>\n",
       "      <td>2020-06-12</td>\n",
       "      <td>SPXW200612C00800000</td>\n",
       "      <td>2187.9</td>\n",
       "      <td>0.0</td>\n",
       "      <td>2219.6</td>\n",
       "      <td>2267.6</td>\n",
       "      <td>0</td>\n",
       "      <td>0.02</td>\n",
       "      <td>0.9998</td>\n",
       "      <td>0.0</td>\n",
       "      <td>1</td>\n",
       "      <td>800</td>\n",
       "      <td>0.00274</td>\n",
       "      <td>2243.6</td>\n",
       "    </tr>\n",
       "    <tr>\n",
       "      <th>4</th>\n",
       "      <td>2020-06-12</td>\n",
       "      <td>SPXW200612C00900000</td>\n",
       "      <td>0.0</td>\n",
       "      <td>0.0</td>\n",
       "      <td>2119.6</td>\n",
       "      <td>2167.6</td>\n",
       "      <td>0</td>\n",
       "      <td>0.02</td>\n",
       "      <td>0.9998</td>\n",
       "      <td>0.0</td>\n",
       "      <td>0</td>\n",
       "      <td>900</td>\n",
       "      <td>0.00274</td>\n",
       "      <td>2143.6</td>\n",
       "    </tr>\n",
       "  </tbody>\n",
       "</table>\n",
       "</div>"
      ],
      "text/plain": [
       "  Expiration_Date                Calls  Last_Sale  Net     Bid     Ask  Vol  \\\n",
       "0      2020-06-12  SPXW200612C00500000     2519.3  0.0  2519.6  2567.6    0   \n",
       "1      2020-06-12  SPXW200612C00600000        0.0  0.0  2419.6  2467.6    0   \n",
       "2      2020-06-12  SPXW200612C00700000        0.0  0.0  2319.6  2367.6    0   \n",
       "3      2020-06-12  SPXW200612C00800000     2187.9  0.0  2219.6  2267.6    0   \n",
       "4      2020-06-12  SPXW200612C00900000        0.0  0.0  2119.6  2167.6    0   \n",
       "\n",
       "     IV   Delta  Gamma  Open_Int  Strike  Maturity     Mid  \n",
       "0  0.02  0.9999    0.0         1     500   0.00274  2543.6  \n",
       "1  0.02  0.9999    0.0         0     600   0.00274  2443.6  \n",
       "2  0.02  0.9999    0.0         1     700   0.00274  2343.6  \n",
       "3  0.02  0.9998    0.0         1     800   0.00274  2243.6  \n",
       "4  0.02  0.9998    0.0         0     900   0.00274  2143.6  "
      ]
     },
     "execution_count": 6,
     "metadata": {},
     "output_type": "execute_result"
    }
   ],
   "source": [
    "CallPriceSPX.head()"
   ]
  },
  {
   "cell_type": "code",
   "execution_count": 7,
   "metadata": {},
   "outputs": [
    {
     "data": {
      "text/html": [
       "<div>\n",
       "<style scoped>\n",
       "    .dataframe tbody tr th:only-of-type {\n",
       "        vertical-align: middle;\n",
       "    }\n",
       "\n",
       "    .dataframe tbody tr th {\n",
       "        vertical-align: top;\n",
       "    }\n",
       "\n",
       "    .dataframe thead th {\n",
       "        text-align: right;\n",
       "    }\n",
       "</style>\n",
       "<table border=\"1\" class=\"dataframe\">\n",
       "  <thead>\n",
       "    <tr style=\"text-align: right;\">\n",
       "      <th></th>\n",
       "      <th>Expiration_Date</th>\n",
       "      <th>Puts</th>\n",
       "      <th>Last_Sale</th>\n",
       "      <th>Net</th>\n",
       "      <th>Bid</th>\n",
       "      <th>Ask</th>\n",
       "      <th>Vol</th>\n",
       "      <th>IV</th>\n",
       "      <th>Delta</th>\n",
       "      <th>Gamma</th>\n",
       "      <th>Open_Int</th>\n",
       "      <th>Strike</th>\n",
       "      <th>Maturity</th>\n",
       "      <th>Mid</th>\n",
       "    </tr>\n",
       "  </thead>\n",
       "  <tbody>\n",
       "    <tr>\n",
       "      <th>0</th>\n",
       "      <td>2020-06-12</td>\n",
       "      <td>SPXW200612P00500000</td>\n",
       "      <td>0.00</td>\n",
       "      <td>0.0</td>\n",
       "      <td>0.0</td>\n",
       "      <td>20.00</td>\n",
       "      <td>0</td>\n",
       "      <td>0.020</td>\n",
       "      <td>-0.0001</td>\n",
       "      <td>0.0</td>\n",
       "      <td>0</td>\n",
       "      <td>500</td>\n",
       "      <td>0.00274</td>\n",
       "      <td>0.00</td>\n",
       "    </tr>\n",
       "    <tr>\n",
       "      <th>1</th>\n",
       "      <td>2020-06-12</td>\n",
       "      <td>SPXW200612P00600000</td>\n",
       "      <td>0.00</td>\n",
       "      <td>0.0</td>\n",
       "      <td>0.0</td>\n",
       "      <td>20.00</td>\n",
       "      <td>0</td>\n",
       "      <td>0.020</td>\n",
       "      <td>-0.0001</td>\n",
       "      <td>0.0</td>\n",
       "      <td>0</td>\n",
       "      <td>600</td>\n",
       "      <td>0.00274</td>\n",
       "      <td>0.00</td>\n",
       "    </tr>\n",
       "    <tr>\n",
       "      <th>2</th>\n",
       "      <td>2020-06-12</td>\n",
       "      <td>SPXW200612P00700000</td>\n",
       "      <td>0.00</td>\n",
       "      <td>0.0</td>\n",
       "      <td>0.0</td>\n",
       "      <td>20.00</td>\n",
       "      <td>0</td>\n",
       "      <td>0.020</td>\n",
       "      <td>-0.0001</td>\n",
       "      <td>0.0</td>\n",
       "      <td>0</td>\n",
       "      <td>700</td>\n",
       "      <td>0.00274</td>\n",
       "      <td>0.00</td>\n",
       "    </tr>\n",
       "    <tr>\n",
       "      <th>3</th>\n",
       "      <td>2020-06-12</td>\n",
       "      <td>SPXW200612P00800000</td>\n",
       "      <td>0.05</td>\n",
       "      <td>0.0</td>\n",
       "      <td>0.0</td>\n",
       "      <td>0.05</td>\n",
       "      <td>0</td>\n",
       "      <td>0.020</td>\n",
       "      <td>-0.0001</td>\n",
       "      <td>0.0</td>\n",
       "      <td>50</td>\n",
       "      <td>800</td>\n",
       "      <td>0.00274</td>\n",
       "      <td>0.05</td>\n",
       "    </tr>\n",
       "    <tr>\n",
       "      <th>4</th>\n",
       "      <td>2020-06-12</td>\n",
       "      <td>SPXW200612P00900000</td>\n",
       "      <td>0.00</td>\n",
       "      <td>0.0</td>\n",
       "      <td>0.0</td>\n",
       "      <td>20.00</td>\n",
       "      <td>0</td>\n",
       "      <td>36.733</td>\n",
       "      <td>-0.0001</td>\n",
       "      <td>0.0</td>\n",
       "      <td>0</td>\n",
       "      <td>900</td>\n",
       "      <td>0.00274</td>\n",
       "      <td>0.00</td>\n",
       "    </tr>\n",
       "  </tbody>\n",
       "</table>\n",
       "</div>"
      ],
      "text/plain": [
       "  Expiration_Date                 Puts  Last_Sale  Net  Bid    Ask  Vol  \\\n",
       "0      2020-06-12  SPXW200612P00500000       0.00  0.0  0.0  20.00    0   \n",
       "1      2020-06-12  SPXW200612P00600000       0.00  0.0  0.0  20.00    0   \n",
       "2      2020-06-12  SPXW200612P00700000       0.00  0.0  0.0  20.00    0   \n",
       "3      2020-06-12  SPXW200612P00800000       0.05  0.0  0.0   0.05    0   \n",
       "4      2020-06-12  SPXW200612P00900000       0.00  0.0  0.0  20.00    0   \n",
       "\n",
       "       IV   Delta  Gamma  Open_Int  Strike  Maturity   Mid  \n",
       "0   0.020 -0.0001    0.0         0     500   0.00274  0.00  \n",
       "1   0.020 -0.0001    0.0         0     600   0.00274  0.00  \n",
       "2   0.020 -0.0001    0.0         0     700   0.00274  0.00  \n",
       "3   0.020 -0.0001    0.0        50     800   0.00274  0.05  \n",
       "4  36.733 -0.0001    0.0         0     900   0.00274  0.00  "
      ]
     },
     "execution_count": 7,
     "metadata": {},
     "output_type": "execute_result"
    }
   ],
   "source": [
    "PutPriceSPX.head()"
   ]
  },
  {
   "cell_type": "markdown",
   "metadata": {},
   "source": [
    "Sachant que la cotation des options sur S&P500 pour les données présentes a été effectuée le 12 Juin 2020, la valeur de l'indice du S&P500 à cet instant précis est égale à 3041.31. Par ailleurs, le taux sans risque actuel, que l'on considère être celui des Bons du Trésor Américain sur 1 ans, est égal à 0,17% selon les données de la CNBC."
   ]
  },
  {
   "cell_type": "markdown",
   "metadata": {},
   "source": [
    "#### Calibration des paramètres selon les données"
   ]
  },
  {
   "cell_type": "markdown",
   "metadata": {},
   "source": [
    "L'objectif de la calibration est la recherche des paramètres du modèle de Heston permettant de calculer les prix des Calls de sorte qu'ils se rapprochent au maximum des prix du marché. Pour cela, il convient d'implémenter la fonction Root Mean Squared Error.\n",
    "\n",
    "Du fait de la complexité des calculs effectués avec la formule d'Heston et du temps computationnel engendré par l'optimisation numérique, il a été convenu de n'effectuer la calibration que sur les Calls du S&P500 dont la date d'expiration est le 18 Septembre 2020, c'est à dire dont la maturité est d'environ 3 mois. En effet, il a par ailleurs pu être constaté que la calibration effectuée en faisant intervenir des options de différentes maturités donnait des résultats moins satisfaisant, en addition à un temps computationnel plus long. Cela motive ainsi la calibration selon une maturité unique mais avec différents strikes.\n",
    "\n",
    "Par ailleurs, seuls les Calls dans la monnaie selon le prix Forward du S&P500. Sachant qu'au 18 Septembre 2020, ce prix forward $F$ est égal à 3024.28, qui sera arrondi à 3025, selon un calcul effectué selon la formule de Parité Call Put dans un autre projet portant sur le modèle de Bergomi, il est possible d'implémenter la calibration comme suit :"
   ]
  },
  {
   "cell_type": "code",
   "execution_count": 28,
   "metadata": {},
   "outputs": [],
   "source": [
    "ATMCallPriceSPX_3M = CallPriceSPX[CallPriceSPX['Expiration_Date'] == '2020-09-18']\n",
    "ATMCallPriceSPX_3M = ATMCallPriceSPX_3M[ATMCallPriceSPX_3M['Strike'] <= 3025]\n",
    "n = len(ATMCallPriceSPX_3M)\n",
    "ATMCallPriceSPX_3M['index'] =[i for i in range (n)]\n",
    "ATMCallPriceSPX_3M = ATMCallPriceSPX_3M.set_index('index')\n",
    "\n",
    "def RMSE(*params):\n",
    "    kappa, theta, xi, rho, v0 = params\n",
    "    n = len(ATMCallPriceSPX_3M)\n",
    "    r = 0.14/100\n",
    "    S0 = 3041.31\n",
    "    K = ATMCallPriceSPX_3M[\"Strike\"]\n",
    "    tau = ATMCallPriceSPX_3M[\"Maturity\"]\n",
    "    Mid = ATMCallPriceSPX_3M[\"Mid\"]\n",
    "    HestonCall_Price =[0 for i in range(n)]\n",
    "    for i in range(n):\n",
    "        HestonCall_Price[i] = HestonCallClosedForm(kappa, theta, xi, rho, v0, r, tau[i], S0, K[i]).real\n",
    "    residuals = np.power((HestonCall_Price - Mid),2)\n",
    "    RMSE = np.sqrt(np.sum(residuals)/len(residuals))\n",
    "    return RMSE"
   ]
  },
  {
   "cell_type": "markdown",
   "metadata": {},
   "source": [
    "Ainsi, nous définissons l'ensemble de définition de chaque paramètres et nous effectuons une minimisation généralisée."
   ]
  },
  {
   "cell_type": "code",
   "execution_count": null,
   "metadata": {},
   "outputs": [],
   "source": [
    "# On définit les conditions aux bords pour chaque variable :\n",
    "bound_kappa = (0.1,8.5)\n",
    "bound_theta = (0.01, 0.25)\n",
    "bound_xi = (0.05,2.5)\n",
    "bound_rho = (-1, -0.1)\n",
    "bound_v0 = (0.01, 0.09)\n",
    "\n",
    "general_bounds = (bound_kappa,bound_theta,bound_xi,bound_rho,bound_v0)\n",
    "\n",
    "optimize_function = lambda params :  RMSE(*params)\n",
    "param_initiaux = [4, 0.02, 0.4,-0.8, 0.01]\n",
    "opti_params =spop.minimize(optimize_function,param_initiaux,method='SLSQP',bounds = general_bounds)\n",
    "#opti_params = spop.fmin(optimize_function, param_initiaux, maxiter=110, maxfun=110)"
   ]
  },
  {
   "cell_type": "markdown",
   "metadata": {},
   "source": [
    "Malhereusement, le temps computationnel du programme dépasse environ 45 minutes. Il a donc été décidé d'abandonner cette idée et effectuer à la place une minimisation locale avec la fonction fmin, bien que cela ne soit pas le plus optimal."
   ]
  },
  {
   "cell_type": "code",
   "execution_count": 29,
   "metadata": {},
   "outputs": [
    {
     "name": "stderr",
     "output_type": "stream",
     "text": [
      "C:\\Users\\Si Dan\\anaconda3\\lib\\site-packages\\ipykernel_launcher.py:37: IntegrationWarning: The maximum number of subdivisions (50) has been achieved.\n",
      "  If increasing the limit yields no improvement it is advised to analyze \n",
      "  the integrand in order to determine the difficulties.  If the position of a \n",
      "  local difficulty can be determined (singularity, discontinuity) one will \n",
      "  probably gain from splitting up the interval and calling the integrator \n",
      "  on the subranges.  Perhaps a special-purpose integrator should be used.\n"
     ]
    },
    {
     "name": "stdout",
     "output_type": "stream",
     "text": [
      "Warning: Maximum number of function evaluations has been exceeded.\n"
     ]
    }
   ],
   "source": [
    "optimize_function = lambda params :  RMSE(*params)\n",
    "param_initiaux = [4, 0.03, 0.4,-0.5, 0.01]\n",
    "opti_params = spop.fmin(optimize_function, param_initiaux, maxiter=100, maxfun=100)"
   ]
  },
  {
   "cell_type": "code",
   "execution_count": 30,
   "metadata": {},
   "outputs": [
    {
     "name": "stdout",
     "output_type": "stream",
     "text": [
      "les paramètres calibrés sont : kappa = 13.217108, theta = 0.127902, xi = -0.720755, rho = 0.542605, v0 = 0.032688\n"
     ]
    }
   ],
   "source": [
    "(kappa, theta, xi, rho, v0) = opti_params\n",
    "print(\"les paramètres calibrés sont : kappa = %f, theta = %f, xi = %f, rho = %f, v0 = %f\" % (kappa, theta, xi, rho, v0))"
   ]
  },
  {
   "cell_type": "markdown",
   "metadata": {},
   "source": [
    "La calibration des paramètres semblent pour la plupart cohérent avec les résultats pouvant être trouvés dans la littérature concernant le modèle d'Heston pour les options vanilles sur S&P500, excepté pour le paramètre de corrélaltion $\\rho$ qui doit être négatif, et $\\xi$ la vol de vol, qui doit être aussi positif. Malheureusement, la calibration prend trop de temps pour être réitéré plusieurs fois. Le temps de calcul est en effet estimé à 15 minutes pour trouver un minimum local, et plus d'une heure pour un minimum global en prenant en compte les bords de définitions.\n",
    "\n",
    "Ainsi, les paramètres ont pu être calibrés pour l'ensemble des données. Il convient finalement de valoriser l'ensemble des Calls via le modèle de Heston avec les paramètres calibrés précédemment, puis de calculer l'erreur de valorisation qui est le Root Mean Squared Error :"
   ]
  },
  {
   "cell_type": "code",
   "execution_count": 31,
   "metadata": {},
   "outputs": [
    {
     "name": "stdout",
     "output_type": "stream",
     "text": [
      "L'erreur de valorisation des Calls sur le S&P500 avec les paramètres calibrés est égale à\n",
      "10.791575002250518\n"
     ]
    }
   ],
   "source": [
    "print(\"L'erreur de valorisation des Calls sur le S&P500 avec les paramètres calibrés est égale à\")\n",
    "print(RMSE(*opti_params))"
   ]
  },
  {
   "cell_type": "markdown",
   "metadata": {},
   "source": [
    "Cependant, il est malheureusement courant que la calibration du set de paramètres $\\theta$ induit à l'obtention de minimums locaux, signifiant qu'il ne s'agit pas de la solution la plus optimale possible pour obtenir les prix d'options les plus précises. \n",
    "\n",
    "Le calcul du Root Mean Squared Error est un indicateur de bonne calibration mais ne permet pas de statuer quant à la qualité de celle ci, étant donné qu'il n'y a aucun moyen de comparaison si le calcul s'effectue seul.\n",
    "\n",
    "Ainsi, il a été convenu d'établir qu'un set de solution $\\hat{\\theta}$ était acceptable si la moyenne absolue des erreurs (MAE) entre le prix des Calls du modèle d'Heston et du marché était inférieur ou égal à la moitié du spread bid-ask absolu moyen de l'ensemble des Calls sur le S&P500 :\n",
    "\n",
    "$$\n",
    "\\frac{1}{n}\\sum_{i=0}^n |C^{model}_i(\\hat{\\theta}) - C^{mkt}_i| \\leq \\frac{1}{2n}\\sum_{i=0}^n |bid_i - ask_i|\n",
    "$$"
   ]
  },
  {
   "cell_type": "code",
   "execution_count": 32,
   "metadata": {},
   "outputs": [
    {
     "name": "stdout",
     "output_type": "stream",
     "text": [
      "Mean Absolute Error = 9.273115\n",
      "Mean Absolute Bid Ask Spread = 2.671889\n",
      "Les paramètres issus de la calibration sur le sous ensemble ne constituent pas une solution acceptable\n"
     ]
    }
   ],
   "source": [
    "def MAE(*params):\n",
    "    kappa, theta, xi, rho, v0 = params\n",
    "    n = len(ATMCallPriceSPX_3M)\n",
    "    r = 0.13/100\n",
    "    S0 = 3041.31\n",
    "    K = ATMCallPriceSPX_3M[\"Strike\"]\n",
    "    tau = ATMCallPriceSPX_3M[\"Maturity\"]\n",
    "    Mid = ATMCallPriceSPX_3M[\"Mid\"]\n",
    "    HestonCall_Price =[0 for i in range(n)]\n",
    "    for i in range(n):\n",
    "        HestonCall_Price[i] = HestonCallClosedForm(kappa, theta, xi, rho, v0, r, tau[i], S0, K[i]).real\n",
    "    residuals = np.abs(HestonCall_Price - Mid)\n",
    "    MAE = np.sum(residuals)/len(residuals)\n",
    "    return MAE\n",
    "\n",
    "n = len(ATMCallPriceSPX_3M)\n",
    "AbsMeanBidAskSpread = (1/(2*n))*np.sum(np.abs(ATMCallPriceSPX_3M['Bid'] - ATMCallPriceSPX_3M['Ask']))\n",
    "\n",
    "MAE = MAE(*opti_params)\n",
    "\n",
    "print(\"Mean Absolute Error = %f\" % MAE)\n",
    "print(\"Mean Absolute Bid Ask Spread = %f\" % AbsMeanBidAskSpread)\n",
    "\n",
    "if MAE <= AbsMeanBidAskSpread :\n",
    "    print(\"Les paramètres issus de la calibration sur le sous ensemble constituent une solution acceptable\")\n",
    "else :\n",
    "    print(\"Les paramètres issus de la calibration sur le sous ensemble ne constituent pas une solution acceptable\")"
   ]
  },
  {
   "cell_type": "markdown",
   "metadata": {},
   "source": [
    "Malheureusement, l'erreur de calibration est plus grande que celle qui peut être tolérée, montrant que nous sommes tombé sur un minimum local. Ainsi, il convient de refaire la calibration. Cependant, sachant que le temps de calcul est chaque fois de 15 minutes, il a été décidé de garder ces paramètres, d'autant plus que la différence d'erreur n'est pas si grande.\n",
    "\n",
    "Par ailleurs, il est possible de calculer l'ensemble des prix des Calls de maturité de 3 mois, et pour l'ensemble des Strikes, selon le modèle d'Heston et les paramètres calibrés, afin de les comparer visuellement avec les prix du marché des Calls correspondants :"
   ]
  },
  {
   "cell_type": "code",
   "execution_count": 33,
   "metadata": {},
   "outputs": [
    {
     "name": "stderr",
     "output_type": "stream",
     "text": [
      "C:\\Users\\Si Dan\\anaconda3\\lib\\site-packages\\ipykernel_launcher.py:3: SettingWithCopyWarning: \n",
      "A value is trying to be set on a copy of a slice from a DataFrame.\n",
      "Try using .loc[row_indexer,col_indexer] = value instead\n",
      "\n",
      "See the caveats in the documentation: https://pandas.pydata.org/pandas-docs/stable/user_guide/indexing.html#returning-a-view-versus-a-copy\n",
      "  This is separate from the ipykernel package so we can avoid doing imports until\n"
     ]
    }
   ],
   "source": [
    "ATMCallPriceSPX_3M = CallPriceSPX[CallPriceSPX['Expiration_Date'] == '2020-09-18']\n",
    "n = len(ATMCallPriceSPX_3M)\n",
    "ATMCallPriceSPX_3M['index'] =[i for i in range (n)]\n",
    "ATMCallPriceSPX_3M = ATMCallPriceSPX_3M.set_index('index')\n",
    "\n",
    "def AllHestonPrice(*params):\n",
    "    kappa, theta, xi, rho, v0 = params\n",
    "    n = len(ATMCallPriceSPX_3M)\n",
    "    r = 0.13/100\n",
    "    S0 = 3041.31\n",
    "    K = ATMCallPriceSPX_3M[\"Strike\"]\n",
    "    tau = ATMCallPriceSPX_3M[\"Maturity\"]\n",
    "    Mid = ATMCallPriceSPX_3M[\"Mid\"]\n",
    "    HestonCall_Price =[0 for i in range(n)]\n",
    "    for i in range(n):\n",
    "        HestonCall_Price[i] = HestonCallClosedForm(kappa, theta, xi, rho, v0, r, tau[i], S0, K[i]).real\n",
    "    return HestonCall_Price\n",
    "\n",
    "ATMCallPriceSPX_3M['Heston_Price'] = AllHestonPrice(*opti_params)"
   ]
  },
  {
   "cell_type": "markdown",
   "metadata": {},
   "source": [
    "les prix calculés selon le modèle de Heston peuvent ainsi être comparés à l'occasion avec les prix Mid observés sur le marché :"
   ]
  },
  {
   "cell_type": "code",
   "execution_count": 34,
   "metadata": {},
   "outputs": [
    {
     "data": {
      "text/plain": [
       "Text(0.5, 1.0, 'Comparison Price of Calls, Maturity 3 months')"
      ]
     },
     "execution_count": 34,
     "metadata": {},
     "output_type": "execute_result"
    },
    {
     "data": {
      "image/png": "[encoded data removed]",
      "text/plain": [
       "<Figure size 360x270 with 1 Axes>"
      ]
     },
     "metadata": {
      "needs_background": "light"
     },
     "output_type": "display_data"
    }
   ],
   "source": [
    "# On définit un dataframe contenant la volatilité implicite des Calls en fonction du Strike en indice\n",
    "iv_strike_calculated = ATMCallPriceSPX_3M[['Strike','Heston_Price']].sort_values('Strike')\n",
    "\n",
    "# On définit un dataframe contenant la volatilité implicite des Calls en fonction du Strike en indice\n",
    "iv_strike_observed = ATMCallPriceSPX_3M[['Strike','Mid']].sort_values('Strike')\n",
    "\n",
    "fig, ax = plt.subplots(figsize=(5, 3.75))\n",
    "\n",
    "plt.plot(iv_strike_calculated['Strike'],iv_strike_calculated['Heston_Price'], color = 'b', label = 'Heston Price')\n",
    "plt.plot(iv_strike_calculated['Strike'],iv_strike_observed['Mid'], color = 'r', label = 'Real Price')\n",
    "plt.xlabel('Strike')\n",
    "plt.ylabel('Value')\n",
    "leg = ax.legend()\n",
    "plt.title('Comparison Price of Calls, Maturity 3 months')"
   ]
  },
  {
   "cell_type": "markdown",
   "metadata": {},
   "source": [
    "Nous pouvons ainsi constater que la calibration a assez bien fonctionné étant donné que pour l'ensemble des Strike, les prix selon le modèle d'Heston et ceux du marchés sont fortement similaires, dont la différence est quasi-inobservable graphiquement. Les erreurs semblent être concentrés autour \"de la monnaie\" c'est à dire autour du Strike 3200, où l'inflexion des deux courbes est différente."
   ]
  },
  {
   "cell_type": "markdown",
   "metadata": {},
   "source": [
    "### Calcul de la volatilité implicite des Calls sous le modèle d'Heston"
   ]
  },
  {
   "cell_type": "markdown",
   "metadata": {},
   "source": [
    "La volatilité implicite du modèle de Heston est la volatilité $\\sigma_{imp}$ tel que le prix actuel des options sur S&P500 calculé par la formule de Black Scholes, est égal à celui calculé par le modèle d'Heston. Plus particulièrement, $\\sigma_{imp}$ est défini tel que :\n",
    "\n",
    "$$\n",
    "C_{BS}(\\sigma_{imp}^2,T,K) = C_{Heston}(T,K)\n",
    "$$\n",
    "\n",
    "Ce qui équivaut à établir que $\\sigma_{imp}$ est racine de la fonction $C_{BS}(\\sigma_{imp}^2,T,K) = C_{Heston}(T,K)$ :\n",
    "\n",
    "$$\n",
    "\\sigma_{imp} = root_\\sigma (C_{BS}(\\sigma^2,T,K) - C_{Heston}(T,K))\n",
    "$$\n",
    "\n",
    "Ici, la volatilité implicite sera calculée pour l'ensemble des Calls dont la date d'expiration est le 18 Septembre 2020, quelque soit les Strikes."
   ]
  },
  {
   "cell_type": "markdown",
   "metadata": {},
   "source": [
    "Sachant que le prix d'Heston a déjà été calculé pour l'ensemble des Calls, la formule de Black Scholes est aussi implémentée :"
   ]
  },
  {
   "cell_type": "code",
   "execution_count": 35,
   "metadata": {},
   "outputs": [],
   "source": [
    "def CallFormulaBS(S0,r,K,T,sigma):\n",
    "    d1 = (math.log(S0/K)+(r+(sigma**2/2))*T)/(sigma*math.sqrt(T))\n",
    "    d2 = d1 - sigma*math.sqrt(T)\n",
    "    C = S0*st.norm.cdf(d1) - K*math.exp(-r*T)*st.norm.cdf(d2)\n",
    "    return C"
   ]
  },
  {
   "cell_type": "markdown",
   "metadata": {},
   "source": [
    "De ce fait, le calcul de la volatilité implicite pour l'ensemble des Calls s'effectue grâce à la fonction fsolve de scipy.optimize pour trouver la racine de la fonction de variable $\\sigma$ mesurant la différence entre le prix Black Scholes de l'option et celui du modèle d'Heston :"
   ]
  },
  {
   "cell_type": "code",
   "execution_count": 64,
   "metadata": {},
   "outputs": [],
   "source": [
    "def ImpliedVolCall(S0,r,K,T,Call):\n",
    "    _S0, _r, _K, _T, _Call = S0,r,K,T,Call\n",
    "    m = _S0/_K\n",
    "    sigma_0 = math.sqrt(2*abs(math.log(m))/_T)\n",
    "    difference_call = lambda sigma : _Call - CallFormulaBS(_S0, _r, _K, _T,sigma)\n",
    "    iv = spop.brentq(difference_call, -100,100)\n",
    "    return iv"
   ]
  },
  {
   "cell_type": "markdown",
   "metadata": {},
   "source": [
    "Le calcul de la volatilité implicite peut donc être effectué sur l'ensemble des prix Mid des options exprimés en fonction du strike $K$, sachant que tous les paramètres requis en entrée sont à notre disposition :"
   ]
  },
  {
   "cell_type": "code",
   "execution_count": 65,
   "metadata": {},
   "outputs": [],
   "source": [
    "def all_implied_Vol_Call(data):\n",
    "    S0 = 3041.31\n",
    "    r = 0.14/100\n",
    "    K = data[\"Strike\"]\n",
    "    T = data[\"Maturity\"]\n",
    "    HestonPrice = data[\"Heston_Price\"]\n",
    "    return float(ImpliedVolCall(S0,r,K,T,HestonPrice))"
   ]
  },
  {
   "cell_type": "code",
   "execution_count": 66,
   "metadata": {},
   "outputs": [],
   "source": [
    "ATMCallPriceSPX_3M[\"Heston_iv\"] = ATMCallPriceSPX_3M.apply(all_implied_Vol_Call, axis = 1)"
   ]
  },
  {
   "cell_type": "markdown",
   "metadata": {},
   "source": [
    "Ainsi, la volatilité implicite selon le modèle d'Heston et celui observé sur le marché peuvent être tracées afin d'en établir une comparaison :"
   ]
  },
  {
   "cell_type": "code",
   "execution_count": 67,
   "metadata": {},
   "outputs": [
    {
     "data": {
      "text/plain": [
       "Text(0.5, 1.0, 'Comparison IV of Calls, Maturity 3 months')"
      ]
     },
     "execution_count": 67,
     "metadata": {},
     "output_type": "execute_result"
    },
    {
     "data": {
      "image/png": "[encoded data removed]",
      "text/plain": [
       "<Figure size 360x270 with 1 Axes>"
      ]
     },
     "metadata": {
      "needs_background": "light"
     },
     "output_type": "display_data"
    }
   ],
   "source": [
    "# On définit un dataframe contenant la volatilité implicite des Calls en fonction du Strike en indice\n",
    "iv_strike_calculated = ATMCallPriceSPX_3M[['Strike','Heston_iv']].sort_values('Strike')\n",
    "\n",
    "# On définit un dataframe contenant la volatilité implicite des Calls en fonction du Strike en indice\n",
    "iv_strike_observed = ATMCallPriceSPX_3M[['Strike','IV']].sort_values('Strike')\n",
    "\n",
    "fig, ax = plt.subplots(figsize=(5, 3.75))\n",
    "\n",
    "plt.plot(iv_strike_calculated['Strike'],iv_strike_calculated['Heston_iv'], color = 'b', label = 'IV of Heston')\n",
    "plt.plot(iv_strike_calculated['Strike'],iv_strike_observed['IV'], color = 'r', label = 'Real IV')\n",
    "plt.xlabel('Strike')\n",
    "plt.ylabel('Value')\n",
    "leg = ax.legend()\n",
    "plt.title('Comparison IV of Calls, Maturity 3 months')"
   ]
  },
  {
   "cell_type": "markdown",
   "metadata": {},
   "source": [
    "Malheureusement, la volatilité implicite de Heston ne peut s'ajuster correctement à celle  du marché. Il convient de remarquer que la volatilité implicite est quasi nulle pour les Calls dont le Strike est inférieur à 1800, faisant ainsi apparaître des erreurs de calculs pour les données de marchés du CBOE dans la valorisation de leur options. "
   ]
  },
  {
   "cell_type": "markdown",
   "metadata": {},
   "source": [
    "## pricing des Variance Swap sur S&P500 sous le modèle d'Heston"
   ]
  },
  {
   "cell_type": "markdown",
   "metadata": {},
   "source": [
    "Le modèle de Heston est un modèle de volatilité stochastique, stipulant que la dynamique du prix du sous-jacent $S$ et de sa variance instantanée $v$ s'exprime de la manière suivante, sous la probabilité risque neutre $\\mathbb{Q}$ :\n",
    "\n",
    "$$\n",
    "\\left\\{\n",
    "    \\begin{array}{lll}\n",
    "    dS_t = S_t(r dt + \\sqrt{v_t} dW_t^1) \\\\\n",
    "    dv_t = \\kappa(\\theta - v_t) dt + \\xi \\sqrt{v_t} dW_t^2 \\\\\n",
    "    d<W_t^1, W_t^2> = \\rho dt\n",
    "    \\end{array}\n",
    "\\right.\n",
    "$$\n",
    "\n",
    "avec $W_t^1$ et $W_t^1$ des $\\mathbb{Q}$ mouvements browniens.\n",
    "\n",
    "Il est ainsi aisé de constater que la volatilité $\\sigma$ suit un modèle de taux d'intéret à court terme nommé Cox-Ingersoll-Ross (CIR) permettant ainsi à cette volatilité stochastique un retour à la moyenne positive et à long terme $\\theta$ selon le paramètre $\\kappa$. Le terme $\\sqrt{\\sigma_t}$ permet de s'assurer que la volatilité reste positive à tout instant. Il faut enfin noter que le terme $\\xi$ est la volatilité de la volatilité.\n",
    "\n",
    "En parallèle, il est connu que le prix actuel d'un variance swap, ou sa 'fair variance', est telle que :\n",
    "\n",
    "$$\n",
    "(\\sigma_0^T)^2 = \\mathbb{E}^{Q}[\\frac{1}{T}\\int_{0}^{T}\\sigma_s^2ds] = \\mathbb{E}^{Q}[\\frac{1}{T}\\int_{0}^{T}v_sds]\n",
    "$$\n",
    "\n",
    "Ainsi, sachant que la dynamique de $\\sigma_t$ a été définie, il est possible d'intégrer entre 0 et $t$ pour obtenir :\n",
    "\n",
    "$$\n",
    "v_t - v_0 = \\kappa\\theta t- \\kappa\\int_0^t v_s ds + \\int_0^t \\sqrt{v_s} dW_s^2\n",
    "$$\n",
    "\n",
    "En calculant l'espérance des deux membres :\n",
    "\n",
    "$$\n",
    "\\mathbb{E}^{Q}[v_t] - v_0 = \\kappa\\theta t- \\kappa \\mathbb{E}^{Q}[\\int_0^t v_s ds] + \\mathbb{E}^{Q}[\\int_0^t \\sqrt{v_s} dW_s^2]\n",
    "$$\n",
    "\n",
    "Sachant qu'une intégrale de Wiener est d'espérance nulle, en posant $m(t) = \\mathbb{E}^{Q}[v_t]$ et d'après le théorème de Fubini, on a\n",
    "\n",
    "$$\n",
    "m(t) - v_0 = \\kappa\\theta t - \\kappa \\int_0^t \\mathbb{E}^{Q}[v_s] ds = \\kappa\\theta t - \\kappa \\int_0^t m(s) ds\n",
    "$$\n",
    "\n",
    "En dérivant les deux membres, on obtient l'équation différentielle ordinaire :\n",
    "\n",
    "$$\n",
    "m'(t) = \\kappa(\\theta  - \\kappa m(t))\n",
    "$$\n",
    "\n",
    "dont la solution est donnée par : $m(t) = \\theta + ce^{-\\kappa t}$. Sachant que $m(0) = v_0$ , $c = v_0 - \\theta$ et la solution devient :\n",
    "\n",
    "$$\n",
    "\\mathbb{E}^{Q}[v_t] = \\theta + e^{-\\kappa t}(v_0 - \\theta)\n",
    "$$\n",
    "\n",
    "De ce fait, et par le lemme de Fubini, le prix actuel d'un Variance Swap sous le modèle d'Heston est égal à :\n",
    "\n",
    "$$\n",
    "(\\sigma_0^T)^2  = \\mathbb{E}^{Q}[\\frac{1}{T}\\int_{0}^{T}v_sds] = \\frac{1}{T}\\int_{0}^{T}\\mathbb{E}^{Q}[v_s] ds\n",
    "$$\n",
    "\n",
    "D'où :\n",
    "\n",
    "$$\n",
    "(\\sigma_0^T)^2  = \\theta + (v_0 - \\theta)\\frac{1-e^{-\\kappa T}}{\\kappa T}\n",
    "$$"
   ]
  },
  {
   "cell_type": "markdown",
   "metadata": {},
   "source": [
    "### Application numérique pour différentes maturités"
   ]
  },
  {
   "cell_type": "markdown",
   "metadata": {},
   "source": [
    "Les paramètres du modèle d'Heston ont été calibrés sur un autre projet spécifiquement dédié à celui ci pour des données provenant d'une cotation du 8 Juin 2020. Plus précisément, les paramètres calibrés sont telles que :\n",
    "\n",
    "$$\n",
    "\\kappa = 13.217108, \\theta = 0.127902, \\xi = -0.720755, \\rho = 0.542605, v_0 = 0.032688\n",
    "$$\n",
    "\n",
    "De ce fait, en utilisant les maturités des options sur S&P500, les nouvelles données sont créées :"
   ]
  },
  {
   "cell_type": "code",
   "execution_count": 71,
   "metadata": {},
   "outputs": [],
   "source": [
    "theta = 0.128\n",
    "kappa = 13.21\n",
    "v0 = 0.032\n",
    "\n",
    "Maturity = CallPriceSPX[\"Maturity\"].unique()\n",
    "n = len(Maturity)\n",
    "\n",
    "Index = [i for i in range(n)]\n",
    "HestonVSPrice = pd.DataFrame(index = Index)\n",
    "\n",
    "HestonVSPrice['Maturity'] = Maturity\n",
    "\n",
    "HestonVS_Price = []\n",
    "for T in Maturity :\n",
    "    HestonVS_Price.append(theta + (v0 - theta)*((1-math.exp(-kappa*T))/(kappa*T)))\n",
    "\n",
    "HestonVSPrice['HestonFairVariance'] = HestonVS_Price"
   ]
  },
  {
   "cell_type": "code",
   "execution_count": 72,
   "metadata": {},
   "outputs": [
    {
     "data": {
      "text/plain": [
       "<matplotlib.axes._subplots.AxesSubplot at 0x1ffe4fb3088>"
      ]
     },
     "execution_count": 72,
     "metadata": {},
     "output_type": "execute_result"
    },
    {
     "data": {
      "image/png": "[encoded data removed]",
      "text/plain": [
       "<Figure size 432x288 with 1 Axes>"
      ]
     },
     "metadata": {
      "needs_background": "light"
     },
     "output_type": "display_data"
    }
   ],
   "source": [
    "# On définit un dataframe contenant le prix des Variance Swap selon la maturité\n",
    "Heston_VSPrice = HestonVSPrice[['Maturity', 'HestonFairVariance']].set_index('Maturity').sort_index()\n",
    "\n",
    "# On trace le Smile de Volatilité\n",
    "Heston_VSPrice.plot(title = 'Variance Swap price')"
   ]
  },
  {
   "cell_type": "markdown",
   "metadata": {},
   "source": [
    "La structure à terme de la variance Swap est caractéristique de ce qui peut être observé sur le marché."
   ]
  },
  {
   "cell_type": "markdown",
   "metadata": {},
   "source": [
    "# Annexes"
   ]
  },
  {
   "cell_type": "markdown",
   "metadata": {},
   "source": [
    "## Valorisation d'actifs contingents sous volatilité stochastique"
   ]
  },
  {
   "cell_type": "markdown",
   "metadata": {},
   "source": [
    "### Equation aux dérivées partielles de pricing"
   ]
  },
  {
   "cell_type": "markdown",
   "metadata": {},
   "source": [
    "Dans sa forme la plus générale, le sous jacent et sa volatilité possède la dynamique suivante sous un modèle à volatilité stochastique :\n",
    "\n",
    "$$\n",
    "\\left\\{\n",
    "    \\begin{array}{lll}\n",
    "    dS_t = S_t(\\mu_t dt + \\sigma_t dB_t^1) \\\\\n",
    "    d\\sigma_t = a_t dt + b_t dB_t^2 \\\\\n",
    "    d<B_t^1, B_t^2> = \\rho dt\n",
    "    \\end{array}\n",
    "\\right.\n",
    "$$\n",
    "\n",
    "On considère un marché composé de l'actif risqué $S$ de prix $(S_t)_{t \\geq 0}$ et de l'actif sans risque $S_t^0$ dont le prix a pour dynamique : $dS_t^0 = rS_t^0 dt$, avec r le taux sans risque. En prenant en compte la remarque concernant la converture en vega, est ajouté un actif liquide supplémentaire $C^0$ côté au prix $C_t^0 = C^0(t,S, \\sigma)$ avec $\\frac{\\partial C^0}{\\partial \\sigma} > 0$ permettant cette opération, et donc assurant la complétude des marchés.\n",
    "\n",
    "Ce faisant, en constituant un portefeuille autofinançant de couverture de l'actif contingent (qui sera dans le cadre de ce projet une option dont le sous-jacent est $S$) composé d'actifs sans risque $S_t^0$, d'une quantité $\\delta_t$ d'actifs risqués $S$, sous jacent de l'actif contingent, ainsi que de $\\omega_t$ actifs liquides $C^0$, il est possible de déduire le prix de cet actif contingent sous le modèle de volatilité stochastique :\n",
    "\n",
    "Par définition d'un portefeuille autofinançant, la dynamique de son prix est donc : \n",
    "\n",
    "$$\n",
    "dV_t = (V_t- \\delta_t S_t - \\omega_t C_t^0)rdt + \\delta_t dS_t + \\omega_t dC_t^0\n",
    "$$\n",
    "\n",
    "Sachant que : $C_t^0 = C^0(t,S, \\sigma)$, alors sa différentielle s'exprime comme suit :\n",
    "\n",
    "$$\n",
    "dC_t^0 = dC^0(t,S, \\sigma) = \\frac{\\partial C^0}{\\partial t}dt + \\frac{\\partial C^0}{\\partial S}dS_t + \\frac{\\partial C^0}{\\partial \\sigma}d\\sigma_t + \\frac{1}{2} (\\frac{\\partial^2 C^0}{\\partial S^2}d<S>_t + \\frac{\\partial^2 C^0}{\\partial \\sigma^2}d<\\sigma>_t) + \\frac{\\partial^2 C^0}{\\partial S \\partial \\sigma} d<S,\\sigma>_t\n",
    "$$\n",
    "\n",
    "d'où :\n",
    "\n",
    "$$\n",
    "dC_t^0 =  \\frac{\\partial C^0}{\\partial S}dS_t + \\frac{\\partial C^0}{\\partial \\sigma}d\\sigma_t + (\\frac{\\partial C^0}{\\partial t} + \\frac{1}{2}\\sigma_t^2 S_t^2 \\frac{\\partial^2 C^0}{\\partial S^2} + \\frac{1}{2}b_t^2\\frac{\\partial^2 C^0}{\\partial \\sigma^2} + S_t \\sigma_t b_t \\rho \\frac{\\partial^2 C^0}{\\partial S \\partial \\sigma})dt\n",
    "$$\n",
    "\n",
    "En posant le générateur infinitésimal $\\mathscr{L}_t = \\frac{\\partial}{\\partial t} + \\frac{1}{2}\\sigma_t^2 S_t^2 \\frac{\\partial^2}{\\partial S^2} + \\frac{1}{2}b_t^2\\frac{\\partial^2}{\\partial \\sigma^2} + S_t \\sigma_t b_t \\rho \\frac{\\partial^2}{\\partial S \\partial \\sigma}$, nous avons :\n",
    "\n",
    "$$\n",
    "dC_t^0 =  \\frac{\\partial C^0}{\\partial S}dS_t + \\frac{\\partial C^0}{\\partial \\sigma}d\\sigma_t + \\mathscr{L}_tC^0 dt.\n",
    "$$\n",
    "\n",
    "Ainsi, la dynamique $V_t$ du portefeuille satisfait :\n",
    "\n",
    "$$\n",
    "dV_t = (V_t- \\delta_t S - \\omega_t C^0)rdt + \\delta_t dS_t + \\omega_t \\frac{\\partial C^0}{\\partial S}dS_t + \\omega_t\\frac{\\partial C^0}{\\partial \\sigma}d\\sigma_t + \\omega_t \\mathscr{L}_tC^0 dt\n",
    "$$\n",
    "\n",
    "C'est à dire :\n",
    "\n",
    "$$\n",
    "dV_t = (V_t- \\delta_t S - \\omega_t C^0)rdt + (\\delta_t + \\omega_t \\frac{\\partial C^0}{\\partial S})dS_t + \\omega_t\\frac{\\partial C^0}{\\partial \\sigma}d\\sigma_t + \\omega_t \\mathscr{L}_tC^0 dt. \\ \\ (1)\n",
    "$$\n",
    "\n",
    "Parallèlement, en considérant la fonction régulière $v$ telle que le prix du portefeuille soit tel que $V_t = v(t, S_t, \\sigma_t)$, alors par la formule d'Ito :\n",
    "\n",
    "$$\n",
    "dV_t = \\frac{\\partial v}{\\partial t}dt + \\frac{\\partial v}{\\partial S}dS_t + \\frac{\\partial v}{\\partial \\sigma}d\\sigma_t + \\frac{1}{2} (\\frac{\\partial^2 v}{\\partial S^2}d<S>_t + \\frac{\\partial^2 v}{\\partial \\sigma^2}d<\\sigma>_t) + \\frac{\\partial^2 v}{\\partial S \\partial \\sigma} d<S,\\sigma>_t\n",
    "$$\n",
    "\n",
    "Par le même raisonnement effectué que pour $C^0$, nous avons :\n",
    "\n",
    "$$\n",
    "dV_t = dv(t, S, \\sigma) =  \\frac{\\partial v}{\\partial S}dS_t + \\frac{\\partial v}{\\partial \\sigma}d\\sigma_t + \\mathscr{L}_tv dt \\ \\ (2)\n",
    "$$\n",
    "\n",
    "Par identification des termes devant les différentielles qui est nécessaire afin d'obtenir l'égalité entre les équations $(1)$ et $(2)$, les ratios de couvertures ainsi que la fonction $v$ doivent satisfaire :\n",
    "\n",
    "$$\n",
    "\\left\\{\n",
    "    \\begin{array}{lll}\n",
    "    \\delta_t =  \\frac{\\partial v}{\\partial S} - \\omega_t \\frac{\\partial C^0}{\\partial S}\\\\\n",
    "    \\omega_t = \\frac{\\partial v}{ \\partial \\sigma}/\\frac{\\partial C^0}{\\partial \\sigma} \\\\\n",
    "    (V_t- \\delta_t S_t - \\omega_t C_t^0)r + \\omega_t \\mathscr{L}_tC^0  = \\mathscr{L}_tv\n",
    "    \\end{array}\n",
    "\\right.\n",
    "$$\n",
    "\n",
    "Ce qui permet ainsi la couverture en delta-vega.\n",
    "\n",
    "Par substitution des termes $\\delta_t$ et $\\omega_t$ dans la dernière égalité, celle ci devient :\n",
    "\n",
    "$$\n",
    "rV_t- rS_t\\frac{\\partial v}{\\partial S}   + rS_t\\frac{\\partial C^0}{\\partial S}\\frac{\\frac{\\partial v}{ \\partial \\sigma}}{\\frac{\\partial C^0}{\\partial \\sigma}}  - rC_t^0 \\frac{\\frac{\\partial v}{ \\partial \\sigma}}{\\frac{\\partial C^0}{\\partial \\sigma}} + \\frac{\\frac{\\partial v}{ \\partial \\sigma}}{\\frac{\\partial C^0}{\\partial \\sigma}} \\mathscr{L}_tC^0  = \\mathscr{L}_tv\n",
    "$$\n",
    "\n",
    "D'où :\n",
    "\n",
    "$$\n",
    "\\mathscr{L}_tv - rv + rS_t\\frac{\\partial v}{\\partial S} = \\frac{\\partial v}{\\partial \\sigma} \\frac{\\mathscr{L}_tC^0 - rC^0 + rS_t \\frac{\\partial C^0}{\\partial S}}{\\partial C^0 / \\partial \\sigma}\n",
    "$$\n",
    "\n",
    "Ainsi, en posant $\\lambda_t = \\lambda(t,S, \\sigma) = - \\frac{\\mathscr{L}_tC^0 - rC^0 + rS_t \\frac{\\partial C^0}{\\partial S}}{\\partial C^0 / \\partial \\sigma}$ qui ne dépend aucunement du prix de l'actif contingent $v$ mais seulement de celui de l'actif liquide ajouté $C^0$, il est possible d'établir que  le prix $V$ de l'actif contingent (dans le cadre du projet il s'agira d'une option de sous-jacent $S$) de payoff $h(S_T)$ au temps $T$, par analogie au raisonnement de Black Scholes, satisfait l'équation aux dérivées partielles:\n",
    "\n",
    "$$\n",
    "\\mathscr{L}_tv - rv + rS_t\\frac{\\partial v}{\\partial S} + \\frac{\\partial v}{\\partial \\sigma}\\lambda_t =0\n",
    "$$\n",
    "\n",
    "avec : $v(T, S, \\sigma) = h(S_T)$, et $\\mathscr{L}_t = \\frac{\\partial}{\\partial t} + \\frac{1}{2}\\sigma_t^2 S_t^2\\frac{\\partial^2}{\\partial S^2} + \\frac{1}{2}b_t^2\\frac{\\partial^2}{\\partial \\sigma^2} + S_t \\sigma_t b_t \\rho \\frac{\\partial^2}{\\partial S \\partial \\sigma}$."
   ]
  },
  {
   "cell_type": "markdown",
   "metadata": {},
   "source": [
    "### Pricing sous probabilité risque neutre"
   ]
  },
  {
   "cell_type": "markdown",
   "metadata": {},
   "source": [
    "En reprenant la dynamique du portefeuille qui est telle que :\n",
    "\n",
    "$$\n",
    "dV_t =  dv(t, S, \\sigma) = \\mathscr{L}_tV dt+  \\frac{\\partial V}{\\partial S}dS_t + \\frac{\\partial V}{\\partial \\sigma}d\\sigma_t\n",
    "$$\n",
    "\n",
    "D'après ce qui précède, la fonction régulière $v$ satisfait l'équation aux dérivées partielles :\n",
    "\n",
    "$$\n",
    "\\mathscr{L}_tv - rv + rS_t\\frac{\\partial v}{\\partial S} + \\frac{\\partial v}{\\partial \\sigma}\\lambda_t =0\n",
    "$$\n",
    "\n",
    "avec : $v(T, S, \\sigma) = h(S_T)$, et $\\mathscr{L}_t = \\frac{\\partial}{\\partial t} + \\frac{1}{2}\\sigma_t^2 \\frac{\\partial^2}{\\partial S^2} + \\frac{1}{2}b_t^2\\frac{\\partial^2}{\\partial \\sigma^2} + S_t \\sigma_t b_t \\rho \\frac{\\partial^2}{\\partial S \\partial \\sigma}$.\n",
    "\n",
    "C'est à dire que :\n",
    "\n",
    "$$\n",
    "\\mathscr{L}_tv = rv - rS_t\\frac{\\partial v}{\\partial S} - \\frac{\\partial v}{\\partial \\sigma}\\lambda_t\n",
    "$$\n",
    "\n",
    "En réinjectant cette quantité dans la dynamique du prix $V_t$ du portefeuille et donc de l'actif contingent, celle-ci devient:\n",
    "\n",
    "$$\n",
    "dV_t = rV_tdt + \\frac{\\partial V}{\\partial S}(dS_t - rS_tdt) + \\frac{\\partial V}{\\partial \\sigma} (d\\sigma_t - \\lambda_tdt).\n",
    "$$\n",
    "\n",
    "Par la suite, la probabilité risque-neutre $Q$, sous laquelle le prix actualisé des actifs est une martingale et qui existe sous l'hypothèse d'absence d'opportunité d'arbitrage, est construite dans ce contexte de volatilité stochastique :\n",
    "\n",
    "Rappelons que la dynamique du sous-jacent et de sa volatilité sous la probabilité historique $P$ :\n",
    "\n",
    "$$\n",
    "\\left\\{\n",
    "    \\begin{array}{lll}\n",
    "    dS_t = S_t(\\mu_t dt + \\sigma_t dB_t^1) \\\\\n",
    "    d\\sigma_t = a_t dt + b_t dB_t^2 \\\\\n",
    "    d<B_t^1, B_t^2> = \\rho dt\n",
    "    \\end{array}\n",
    "\\right.\n",
    "$$\n",
    "\n",
    "De ce fait, ce système devient :\n",
    "\n",
    "$$\n",
    "\\left\\{\n",
    "    \\begin{array}{lll}\n",
    "    dS_t = r S_t dt + \\sigma_t S_t(\\frac{\\mu_t - r}{\\sigma_t}dt + dB_t^1) \\\\\n",
    "    d\\sigma_t = a_t dt + b_t dB_t^2 \\\\\n",
    "    d<B_t^1, B_t^2> = \\rho dt\n",
    "    \\end{array}\n",
    "\\right.\n",
    "$$\n",
    "\n",
    "En posant $\\theta_t = \\frac{\\mu_t - r}{\\sigma_t}$, puis la probabilité $\\mathbb{Q}$ équivalente à $\\mathbb{P}$ et dont la densité par rapport à $P$ est donnée par : $L_T = exp(-\\int_{0}^{T}\\theta_s dB_s^1 - \\int_{0}^{T}\\theta_s^2 ds)$ qui est une martingale locale puis une martingale si celle ci respecte la condition de Novikov (on la supposera respectée ici), alors d'après le théorème de Girsanov, $W_t^1 = B_t^1 + \\int_0^t \\theta_sds = B_t^1 + \\int_0^t \\frac{\\mu_s - r}{\\sigma_s}ds$ est un mouvement brownien sous $\\mathbb{Q}$.\n",
    "\n",
    "Cela permet ainsi d'établir que : $dS_t = rS_t dt + \\sigma_t dW_t^1$ et donc que sous $\\mathbb{Q}$, le prix actualisé du sous-jacent $S$ est une martingale. Ainsi, la probabilité $\\mathbb{Q}$ est donc la probabilité risque-neutre. Il est à noter que la dynamique du prix actualisé du sous-jacent $S$ est égale à : $dS_t - rS_tdt$. Notons que la volatilité est stochastique, et donc possède une prime de risque qu'il convient de définir.\n",
    "\n",
    "Plus généralement, l'ensemble des prix actualisés des actifs doivent être des martingales sous la probabilité risque-neutre $\\mathbb{Q}$, ce qui inclut le prix actualisé du portefeuille de couverture et donc de l'actif contingent. Or, il a été stipulé précédemment que la dynamique du portefeuille était, en posant $\\tilde{V}_t$ son prix actualisé:\n",
    "\n",
    "$$\n",
    "dV_t - rV_tdt = d\\tilde{V}_t = \\frac{\\partial V}{\\partial S}(dS_t - rS_tdt) + \\frac{\\partial V}{\\partial \\sigma} (d\\sigma_t - \\lambda_tdt) = \\frac{\\partial V}{\\partial S}\\sigma_tdW_t^1 + \\frac{\\partial V}{\\partial \\sigma} (d\\sigma_t - \\lambda_tdt).\n",
    "$$\n",
    "\n",
    "Sachant que $W_t^1$ est déjà un mouvement brownien sous $\\mathbb{Q}$, il est nécessaire que la quantité définie par la dynamique $d\\sigma_t + \\lambda_tdt$ soit une martingale sous $\\mathbb{Q}$ afin que le prix actualisé du portefeuille soit une martingale sous cette même probabilité.\n",
    "\n",
    "Pourtant, la volatilité stochastique a pour dynamique : $d\\sigma_t = a_t dt + b_t dB_t^2$.\n",
    "\n",
    "Ainsi, $d\\sigma_t - \\lambda_tdt  = b_t(\\frac{a_t - \\lambda_t}{b_t} + dB_t^2)$. \n",
    "\n",
    "En posant $\\theta^{'}_t = \\frac{a_t - \\lambda_t}{b_t}$ et $W_t^2 = B_t^2 + \\int_0^t \\theta^{'}_s ds$, alors cette dernière quantité doit être un mouvement brownien sous $\\mathbb{Q}$ puisque le prix actualisé du portefeuille doit être une martingale sous cette probabilité. La réciproque du théorème de Girsanov permet ainsi de définir $L^{'}_T = exp(-\\int_{0}^{T}\\theta^{'}_s dB_s^2 - \\int_{0}^{T}\\theta_s^{'2} ds)$ qui est donc la densité de $\\mathbb{Q}$ par rapport à la probabilité historique $\\mathbb{P}$. Nous pouvons ainsi aisément comprendre la non-unicité de la probabilité risque-neutre qui contredit ainsi l'hypothèse de complétude des marchés, qui ne peut être présent dans les modèles à volatilité stochastique si le portefeuille de couverture ne contient que des actions.\n",
    "\n",
    "Il faut noter que $\\theta^{'}_t = \\frac{a_t - \\lambda_t}{b_t}$ est la prime de risque liée au risque de volatilité. Pour conclure, la dynamique du modèle général de volatilité stochastique sous la probabilité risque-neutre $\\mathbb{Q}$ est donnée par :\n",
    "\n",
    "$$\n",
    "\\left\\{\n",
    "    \\begin{array}{lll}\n",
    "    dS_t = r S_t dt + \\sigma_t S_tdW_t^1 \\\\\n",
    "    d\\sigma_t = \\lambda_t dt + b_t dW_t^2 \\\\\n",
    "    d<W_t^1, W_t^2> = \\rho dt\n",
    "    \\end{array}\n",
    "\\right.\n",
    "$$\n",
    "\n",
    "avec $W_t^1$ et $W_t^2$ qui sont des $\\mathbb{Q}$ mouvements browniens.\n",
    "\n",
    "De ce fait, le prix $V_t$ du portefeuille autofinançant de converture a pour dynamique :\n",
    "\n",
    "$$\n",
    "dV_t - rV_tdt = \\sigma_t S_tdW_t^1 + b_t dW_t^2\n",
    "$$\n",
    "\n",
    "permettant ainsi de confirmer que son prix actualisé est bel et bien une $\\mathbb{Q}$ martingale.\n",
    "\n",
    "Ainsi, sachant que le portefeuille autofinançant réplique un actif contingent, que l'on suppose ici être un call de sous-jacent $S$ de payoff $h(S_T)$, dont le prix est supposé égal à $C_t = c(t, S_t, \\sigma_t)$, alors il est clair que pour tout $t$, $V_t = C_t$, alors il est possible, en posant $\\tilde{C}_t$ le prix actualisé du call, d'établir que :\n",
    "\n",
    "$$\n",
    "\\tilde{C}_t = \\mathbb{E}^{\\mathbb{Q}}[\\tilde{C}_T|\\mathscr{F}_t] = \\mathbb{E}^{\\mathbb{Q}}[\\tilde{C}_T| S_t = S, \\sigma_t = \\sigma]\n",
    "$$\n",
    "\n",
    "d'où : \n",
    "\n",
    "$$\n",
    "C_t = c(t, S, \\sigma) = e^{-r(T-t)}\\mathbb{E}^{\\mathbb{Q}}[h(S_T)|S_t = S, \\sigma_t = \\sigma]\n",
    "$$\n",
    "\n",
    "Ce résultat est classique puisqu'il provient du théorème fondamentale de la valorisation des actifs, stipulant que le prix d'un actif est l'espérance de l'ensemble de ses flux futures actualisés. Il est ainsi possible d'établir le prix d'une option et de n'importe quel actif contingent grâce à cette formule en appliquant la méthode de Monte Carlo."
   ]
  },
  {
   "cell_type": "markdown",
   "metadata": {},
   "source": [
    "## Modèle de Heston"
   ]
  },
  {
   "cell_type": "markdown",
   "metadata": {},
   "source": [
    "### Equation aux dérivées partielles de Heston"
   ]
  },
  {
   "cell_type": "markdown",
   "metadata": {},
   "source": [
    "Le modèle de Heston est un modèle de volatilité stochastique, stipulant que la dynamique du prix du sous-jacent $S$ et de sa volatilité $\\sigma$ s'exprime de la manière suivante, sous la probabilité risque neutre $\\mathbb{Q}$ :\n",
    "\n",
    "$$\n",
    "\\left\\{\n",
    "    \\begin{array}{lll}\n",
    "    dS_t = S_t(r dt + \\sqrt{\\sigma_t} dW_t^1) \\\\\n",
    "    d\\sigma_t = \\kappa(\\theta - \\sigma_t) dt + \\xi \\sqrt{\\sigma_t} dW_t^2 \\\\\n",
    "    d<W_t^1, W_t^2> = \\rho dt\n",
    "    \\end{array}\n",
    "\\right.\n",
    "$$\n",
    "\n",
    "avec $W_t^1$ et $W_t^1$ des $\\mathbb{Q}$ mouvements browniens.\n",
    "\n",
    "Il est ainsi aisé de constater que la volatilité $\\sigma$ suit un modèle de taux d'intéret à court terme nommé Cox-Ingersoll-Ross (CIR) permettant ainsi à cette volatilité stochastique un retour à la moyenne positive et à long terme $\\theta$ selon le paramètre $\\kappa$. Le terme $\\sqrt{\\sigma_t}$ permet de s'assurer que la volatilité reste positive à tout instant. Il faut enfin noter que le terme $\\xi$ est la volatilité de la volatilité.\n",
    "\n",
    "Il a été démontré précédemment que le prix $V_t = v(t,S, \\sigma)$ du portefeuille autofinançant répliquant celui d'un actif contingent de sous-jacent $S$, et donc de cet actif contingent lui même, satisfait dans le cadre général l'équation aux dérivées partielles suivante :\n",
    "\n",
    "$$\n",
    "\\mathscr{L}_tv - rv + rS_t\\frac{\\partial v}{\\partial S} + \\frac{\\partial v}{\\partial \\sigma}\\lambda_t =0\n",
    "$$\n",
    "\n",
    "avec : $c(T, S, \\sigma) = h(S_T)$, $\\mathscr{L}_t = \\frac{\\partial}{\\partial t} + \\frac{1}{2}\\sigma_t^2 S_t^2\\frac{\\partial^2}{\\partial S^2} + \\frac{1}{2}b_t^2\\frac{\\partial^2}{\\partial \\sigma^2} + S_t \\sigma_t b_t \\rho \\frac{\\partial^2}{\\partial S \\partial \\sigma}$ et $\\lambda_t = \\lambda(t,S, \\sigma) = - \\frac{\\mathscr{L}_tC^0 - rC^0 + rS_t \\frac{\\partial C^0}{\\partial S}}{\\partial C^0 / \\partial \\sigma}$.\n",
    "\n",
    "Sachant que le modèle général de la volatilité stochastique est défini par :\n",
    "\n",
    "$$\n",
    "\\left\\{\n",
    "    \\begin{array}{lll}\n",
    "    dS_t = S_t(\\mu_t dt + \\sigma_t dB_t^1) \\\\\n",
    "    d\\sigma_t = a_t dt + b_t dB_t^2 \\\\\n",
    "    d<B_t^1, B_t^2> = \\rho dt\n",
    "    \\end{array}\n",
    "\\right.\n",
    "$$\n",
    "\n",
    "Alors il convient par identification au modèle de Heston de substituer dans l'équation aux dérivées partielles précédente le terme $b_t$ par $\\xi \\sqrt{\\sigma_t}$ et le terme $\\sigma_t$ de la dynamique de $S_t$ par $\\sqrt{\\sigma_t}$.\n",
    "\n",
    "L'actif contingent étant ici supposé être un Call de sous-jacent $S$ et de payoff $h(S_T)$, dont le prix est défini par $C_t = c(t,S_t, \\sigma_t)$ , alors son prix est égal à celui de son portefeuille autofinançant de couverture. Ainsi, $C_t = V_t$, et par substitution ce prix satisfait finalement sous le modèle de Heston l'équation aux dérivées partielle suivante :\n",
    "\n",
    "$$\n",
    "\\mathscr{L}_tc - rc + rS_t\\frac{\\partial c}{\\partial S} + \\frac{\\partial c}{\\partial \\sigma}\\lambda_t =0\n",
    "$$\n",
    "\n",
    "avec : $c(T, S, \\sigma) = h(S_T)$, $\\mathscr{L}_t = \\frac{\\partial}{\\partial t} + \\frac{1}{2}\\sigma_t S_t^2\\frac{\\partial^2}{\\partial S^2} + \\frac{1}{2}\\xi^2 \\sigma_t \\frac{\\partial^2}{\\partial \\sigma^2} + S_t \\xi \\sigma_t \\rho \\frac{\\partial^2}{\\partial S \\partial \\sigma}$ et $\\lambda_t = \\lambda(t,S, \\sigma) = - \\frac{\\mathscr{L}_tC^0 - rC^0 + rS_t \\frac{\\partial C^0}{\\partial S}}{\\partial C^0 / \\partial \\sigma}$.\n",
    "\n",
    "$\\lambda_t$ est cependant une fonction dépendant de l'actif $C^0$ utilisé pour couvrir le risque de volatilité. S'il est réinjecté dans l'équation aux dérivées partielles précédente, celle ci devient : \n",
    "\n",
    "$$\n",
    "\\frac{1}{\\frac{\\partial c}{\\partial \\sigma}}(\\mathscr{L}_tc - rc + rS_t\\frac{\\partial c}{\\partial S}) = \\frac{1}{\\frac{\\partial C^0}{\\partial \\sigma}}(\\mathscr{L}_tC^0 - rC^0 + rS_t\\frac{\\partial C^0}{\\partial S})\n",
    "$$\n",
    "\n",
    "IL est donc possible de se rendre compte que le membre à gauche de l'égalité ne dépend que de la fonction $c$ tandis que celui à droite ne dépend que de la fonction $C^0$. Ainsi, tous deux doivent être égaux à une fonction $f$ dépendant des trois variables : $t$, $\\sigma$, et $S$, et donc égal à $-\\lambda_t$ par identification.\n",
    "\n",
    "Concernant le membre à gauche, puisqu'il dépend de la fonction $c$ du prix du Call que l'on souhaite calculer, il satisfait donc : \n",
    "\n",
    "$$\n",
    "\\mathscr{L}_tc - rc + rS_t\\frac{\\partial c}{\\partial S} = \\frac{\\partial c}{\\partial \\sigma}f\n",
    "$$\n",
    "\n",
    "Les travaux de Heston lui ont permis de déterminer la fonction $f$ qui est égale à $ \\kappa(\\theta - \\sigma_t) - \\Lambda(t,\\sigma,S)$ où $\\Lambda(t,\\sigma,S)$ est le prix de marché du risque de volatilité. Ce prix a été arbitrairement choisi comme étant fonction linéaire de la volatilité. Plus précisément, $\\Lambda(t,\\sigma,S) = \\lambda \\sigma_t$.\n",
    "\n",
    "De ce fait, l'équation aux dérivées partielle de Heston est finalement :\n",
    "\n",
    "$$\n",
    "\\frac{\\partial c}{\\partial t} + \\frac{1}{2}\\sigma_t S_t^2\\frac{\\partial^2 c}{\\partial S^2} + \\frac{1}{2}\\xi^2 \\sigma_t \\frac{\\partial^2 c}{\\partial \\sigma^2} + S_t \\xi \\sigma_t \\rho \\frac{\\partial^2 c}{\\partial S \\partial \\sigma} - rc + rS_t\\frac{\\partial c}{\\partial S} - (\\kappa(\\theta - \\sigma_t) - \\lambda \\sigma_t) \\frac{\\partial c}{\\partial \\sigma} = 0\n",
    "$$\n",
    "\n",
    "avec : $c(T, S, \\sigma) = h(S_T)$."
   ]
  },
  {
   "cell_type": "markdown",
   "metadata": {},
   "source": [
    "### Formule fermée du prix d'un Call sous le modèle de Heston"
   ]
  },
  {
   "cell_type": "markdown",
   "metadata": {},
   "source": [
    "Le même raisonnement que celui effectué dans le cas général permet d'établir que sous le modèle de Heston, le prix $C_t$ d'un Call de payoff $h(S_T)$, considéré comme égal à $(S_T-K)_{+}$, satisfait :\n",
    "\n",
    "$$\n",
    "C_t = c(t, S, \\sigma) = e^{-r(T-t)}\\mathbb{E}^{\\mathbb{Q}}[h(S_T)|S_t = S, \\sigma_t = \\sigma]\n",
    "$$\n",
    "\n",
    "Il est donc judicieux de considérer que le prix du Call peut être exprimé sous la forme suivante, à l'instar du prix sous le modèle de Black Scholes:\n",
    "\n",
    "$$\n",
    "C_t = c(t, S, \\sigma) = S_tP_1 + Ke^{-r(T-t)}P_2\n",
    "$$\n",
    "\n",
    "$où$ $P_1$ et $P_2$, fonctions de $t$, $S$, $\\sigma$ peuvent être interprétés comme les probabilités risque-neutres que le Call expire dans la monnaie. Déterminer la formule du prix du Call sous Heston revient à chercher la solution de l'équation aux dérivées partielles de Heston sous la forme définie ci dessus.\n",
    "\n",
    "Il est néessaire d'effectuer deux changements de variables:\n",
    "\n",
    "- $x = ln(S)$, le logarithme du prix du sous-jacent\n",
    "- $\\tau = T-t$, le ténor du Call\n",
    "\n",
    "Le prix du Call devient donc :\n",
    "\n",
    "$$\n",
    "C_t = c(t, S, \\sigma) = e^{x_t}P_1(\\tau, x, \\sigma) + Ke^{-r\\tau}P_2(\\tau, x, \\sigma)\n",
    "$$.\n",
    "\n",
    "Les dérivées partielles de la fonction $c$ du prix du Call par rapport à celui du sous jacent $S$ peuvent être reformulés comme suit :\n",
    "\n",
    "- $\\frac{\\partial c}{\\partial S} = \\frac{\\partial c}{\\partial x}\\frac{\\partial x}{\\partial S} = S_t^{-1}\\frac{\\partial c}{\\partial x}$\n",
    "- $\\frac{\\partial^2 c}{\\partial S^2} = \\frac{\\partial}{\\partial x}(\\frac{1}{S_t}\\frac{\\partial c}{\\partial x}) = -S_t^{-2}\\frac{\\partial c}{\\partial x} + S_t^{-2}\\frac{\\partial^2 c}{\\partial x^2}$\n",
    "- $\\frac{\\partial^2 c}{\\partial S \\partial \\sigma} = \\frac{\\partial}{\\partial \\sigma}(\\frac{\\partial c}{\\partial S}) = \\frac{\\partial}{\\partial \\sigma}(S_t^{-1}\\frac{\\partial c}{\\partial x}) = S_t^{-1}\\frac{\\partial^2 c}{\\partial x \\partial \\sigma}$.\n",
    "\n",
    "Les autres dérivées partielles demeurant inchangées. \n",
    "\n",
    "Ainsi, par réinjection de ces dérivées partielles, cela permet de reformuler l'équation aux dérivées partielles d'Heston sous la forme suivante:\n",
    "\n",
    "$$\n",
    "\\frac{\\partial c}{\\partial t} + \\frac{1}{2}\\sigma_t \\frac{\\partial^2 c}{\\partial x^2} + \\frac{1}{2}\\xi^2 \\sigma_t \\frac{\\partial^2 c}{\\partial \\sigma^2} + \\xi \\sigma_t \\rho \\frac{\\partial^2 c}{\\partial x \\partial \\sigma} - rc + (r - \\frac{1}{2} \\sigma_t) \\frac{\\partial c}{\\partial x} - (\\kappa(\\theta - \\sigma_t) - \\lambda \\sigma_t) \\frac{\\partial c}{\\partial \\sigma} = 0\n",
    "$$\n",
    "\n",
    "avec : $c(T, x, \\sigma) = h(e^{x_T})$.\n",
    "\n",
    "Par ailleurs, puisque $c$ est solution de l'équation aux dérivées partielles précédente, alors il en est de même pour $e^{x_t}P_1(\\tau, x, \\sigma)$ et $Ke^{-r\\tau}P_2(\\tau, x, \\sigma)$, dont la somme vaut $C_t$, puisque l'ensemble des solutions d'une EDP est un espace vectoriel.\n",
    "\n",
    "Le calcul des dérivées partielles des deux quantités et la simplification des termes, qui ne sera pas développé ici, permet d'établir que les probabilité risques neutres $P_j$ avec $j = 1,2$ sont solution de l'équation aux dérivées partielle suivante :\n",
    "\n",
    "$$\n",
    "\\frac{\\partial P_j}{\\partial t} + \\frac{1}{2}\\sigma_t \\frac{\\partial^2 P_j}{\\partial x^2} + \\frac{1}{2}\\xi^2 \\sigma_t \\frac{\\partial^2 P_j}{\\partial \\sigma^2} + \\xi \\sigma_t \\rho \\frac{\\partial^2 P_j}{\\partial x \\partial \\sigma} + (r + u_j \\sigma_t) \\frac{\\partial P_j}{\\partial x} - (\\kappa \\theta - b_j \\sigma_t) \\frac{\\partial P_j}{\\partial \\sigma} = 0\n",
    "$$,\n",
    "\n",
    "avec $u_1 = \\frac{1}{2}$, $u_2 = -\\frac{1}{2}$, $b_1 = \\kappa + \\lambda - \\rho \\xi$, $b_2 = \\kappa + \\lambda$,\n",
    "\n",
    "et dont la condition au bord vérifie : $P_j(T, x, \\sigma) = \\mathbb{I}_{x \\geq ln(K)}$, puisqu'il s'agit de la probabilité que le Call expire dans la monnaie, et que $x = ln(S)$.\n",
    "\n",
    "Cependant, ces probabilités ne peuvent être calculées directement. Il faut donc s'intéresser à leur fonction caractéristique correspondantes, $f_j, j=1,2$, exprimé comme suit :\n",
    "\n",
    "$$\n",
    "f_j(t, x, \\sigma, \\Phi) = \\mathbb{E}[e^{i\\Phi x_T}|S_t = S, \\sigma_t = \\sigma]\n",
    "$$\n",
    "\n",
    "et que l'on suppose de la forme :\n",
    "$$\n",
    "f_j(t, x, \\sigma, \\phi) = exp(C_j(\\tau, \\phi) + D_j(\\tau, \\phi)\\sigma + i\\phi x). \n",
    "$$\n",
    "\n",
    "Ainsi, d'après le théorème de Feynman Kac, ces fonction caractéristiques suivent de même l'équation aux dérivées partielle ci dessus :\n",
    "\n",
    "$$\n",
    "\\frac{\\partial f_j}{\\partial t} + \\frac{1}{2}\\sigma_t \\frac{\\partial^2 f_j}{\\partial x^2} + \\frac{1}{2}\\xi^2 \\sigma_t \\frac{\\partial^2 f_j}{\\partial \\sigma^2} + \\xi \\sigma_t \\rho \\frac{\\partial^2 f_j}{\\partial x \\partial \\sigma} + (r + u_j \\sigma_t) \\frac{\\partial f_j}{\\partial x} - (\\kappa \\theta - b_j \\sigma_t) \\frac{\\partial f_j}{\\partial \\sigma} = 0\n",
    "$$,\n",
    "\n",
    "avec $u_1 = \\frac{1}{2}$, $u_2 = -\\frac{1}{2}$, $b_1 = \\kappa + \\lambda - \\rho \\xi$, $b_2 = \\kappa + \\lambda$,\n",
    "\n",
    "et dont la condition au bord vérifie : $f_j(T, x, \\sigma, \\Phi) = e^{i\\Phi x}$. \n",
    "\n",
    "En injectant l'expression des fonctions caractéristiques dans l'équation aux dérivées partielles précédente et en simplifiant, les composantes $C_j$ et $D_j$ suivent les équations différentielles ordinaires :\n",
    "\n",
    "$$\n",
    "\\frac{\\partial C_j}{\\partial \\tau} + ri\\Phi + \\kappa \\theta D_j = 0\n",
    "$$\n",
    "\n",
    "$$\n",
    "\\frac{\\partial D_j}{\\partial \\tau} + \\rho \\xi \\Phi i D_j - \\frac{1}{2} \\Phi^2 + \\frac{1}{2} \\xi^2 D_j^2 + u_j \\Phi i - b_j D_j = 0\n",
    "$$\n",
    "\n",
    "avec les conditions particulières spécifiées par Heston : $C_j(0, \\phi) = D_j(0, \\phi) = 0$.\n",
    "\n",
    "La deuxième équation est une équation différentielle ordinaire de Ricatti qui peut être résolue analytiquement, et la solution $D_j$ peut ensuite être réinjectée dans la première équation pour avoir l'expression de $C_j$. Ces calculs ne seront pas développés ici. Ainsi, les deux quantités sont exprimées comme suit :\n",
    "\n",
    "$$\n",
    "C_j(\\tau, \\Phi) = r\\Phi i \\tau+ \\frac{a}{\\xi^2}[(b_j- \\rho \\xi \\Phi + d)\\tau- 2ln(\\frac{1-ge^{d\\tau}}{1-g})]\n",
    "$$\n",
    "\n",
    "$$\n",
    "D_j(\\tau, \\Phi) = \\frac{b_j - \\rho \\xi\\Phi i + d}{\\xi^2}[\\frac{1-e^{d\\tau}}{1-ge^{d\\tau}}]\n",
    "$$,\n",
    "\n",
    "avec : $g = \\frac{b_j - \\rho \\xi \\Phi i +d}{b_j - \\rho \\xi \\Phi i - d}$,  $d = \\sqrt{(\\rho \\xi \\Phi i -b_j)^2 - \\xi^2(2u_j \\Phi i - \\Phi^2)}$,\n",
    "\n",
    "et $a = \\kappa \\theta$, $u_1 = \\frac{1}{2}$, $u_2 = -\\frac{1}{2}$, $b_1 = \\kappa + \\lambda - \\rho \\xi$, $b_2 = \\kappa + \\lambda$.\n",
    "\n",
    "Une transformation inverse de Fourier, non développée ici une fois de plus, permet d'obtenir les formules de $P_j$ :\n",
    "\n",
    "$$\n",
    "P_j = \\frac{1}{2} + \\frac{1}{\\pi} \\int_{0}^{\\infty} Re[\\frac{e^{-i\\Phi} ln(K)f_j}{i\\Phi}]d\\Phi\n",
    "$$.\n",
    "\n",
    "Pour résumer, la formule fermée du prix $C_t$ d'un Call de sous-jacent $S$ et de payoff $(S_T- K)_{+}$ sous le modèle de Heston est exprimée de cette manière :\n",
    "\n",
    "$$\n",
    "C_t = C(t, S, \\sigma) = S_tP_1 - Ke^{-r\\tau}P_2\n",
    "$$\n",
    "\n",
    "où : \n",
    "\n",
    "$$\n",
    "P_j = \\frac{1}{2} + \\frac{1}{\\pi} \\int_{0}^{\\infty} Re[\\frac{e^{-i\\Phi ln(K)}f_j(t, x, \\sigma, \\Phi)}{i\\Phi}]d\\Phi\n",
    "$$\n",
    "\n",
    "avec : $x = ln(S)$, $f_j(t, x, \\sigma,\\phi) = exp(C_j(\\tau, \\phi) + D_j(\\tau, \\phi)\\sigma + i\\phi x)$,\n",
    "\n",
    "Puis :\n",
    "\n",
    "$$\n",
    "C_j(\\tau, \\Phi) = r\\Phi i \\tau+ \\frac{a}{\\xi^2}[(b_j- \\rho \\xi \\Phi + d)\\tau- 2ln(\\frac{1-ge^{d\\tau}}{1-g})]\n",
    "$$\n",
    "\n",
    "$$\n",
    "D_j(\\tau, \\Phi) = \\frac{b_j - \\rho \\xi\\Phi i + d}{\\xi^2}[\\frac{1-e^{d\\tau}}{1-ge^{d\\tau}}]\n",
    "$$,\n",
    "\n",
    "avec : $g = \\frac{b_j - \\rho \\xi \\Phi i +d}{b_j - \\rho \\xi \\Phi i - d}$,  $d = \\sqrt{(\\rho \\xi \\Phi i -b_j)^2 - \\xi^2(2u_j \\Phi i - \\Phi^2)}$,\n",
    "\n",
    "et $a = \\kappa \\theta$, $u_1 = \\frac{1}{2}$, $u_2 = -\\frac{1}{2}$, $b_1 = \\kappa + \\lambda - \\rho \\xi$, $b_2 = \\kappa + \\lambda$."
   ]
  },
  {
   "cell_type": "code",
   "execution_count": null,
   "metadata": {},
   "outputs": [],
   "source": []
  }
 ],
 "metadata": {
  "kernelspec": {
   "display_name": "Python 3",
   "language": "python",
   "name": "python3"
  },
  "language_info": {
   "codemirror_mode": {
    "name": "ipython",
    "version": 3
   },
   "file_extension": ".py",
   "mimetype": "text/x-python",
   "name": "python",
   "nbconvert_exporter": "python",
   "pygments_lexer": "ipython3",
   "version": "3.7.6"
  }
 },
 "nbformat": 4,
 "nbformat_minor": 2
}
